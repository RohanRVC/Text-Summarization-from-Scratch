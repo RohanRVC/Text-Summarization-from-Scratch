{
 "cells": [
  {
   "cell_type": "markdown",
   "metadata": {},
   "source": [
    "# Premium Feature of Detailed "
   ]
  },
  {
   "cell_type": "code",
   "execution_count": 3,
   "metadata": {},
   "outputs": [
    {
     "name": "stdout",
     "output_type": "stream",
     "text": [
      "Premium Summary:\n",
      "\n",
      "Once upon a time, in a small town, lived a man named Henry. \n",
      "His journey was filled with peril and uncertainty, but also wonder and excitement. \n",
      "In the end, he discovered a hidden treasure but realized the real treasure was the journey itself. \n",
      "And he lived happily ever after.\n",
      "\n"
     ]
    }
   ],
   "source": [
    "import numpy as np\n",
    "import networkx as nx\n",
    "from sklearn.metrics.pairwise import cosine_similarity\n",
    "from sklearn.feature_extraction.text import CountVectorizer, TfidfVectorizer\n",
    "from textblob import TextBlob\n",
    "\n",
    "from textblob import TextBlob\n",
    "\n",
    "def dynamic_detailed_summarize_premium(text, detail_level=1, context_type='general', important_keywords=None):\n",
    "    \"\"\"\n",
    "    Premium summarization function with context sensitivity, user customization, and sentiment analysis.\n",
    "    \n",
    "    Parameters:\n",
    "    - text (str): the original text to be summarized\n",
    "    - detail_level (int): level of detail for the summary (1: less detail, 2: more detail)\n",
    "    - context_type (str): type of the text (e.g., 'story', 'article', 'report')\n",
    "    - important_keywords (list): list of important keywords or phrases to include in the summary\n",
    "    \n",
    "    Returns:\n",
    "    - str: the premium summary\n",
    "    \"\"\"\n",
    "    \n",
    "    # Split the text into sentences\n",
    "    sentences = text.split('. ')\n",
    "    \n",
    "    # Dynamically set the number of sentences based on the length of the input text\n",
    "    total_sentences = len(sentences)\n",
    "    num_of_sentences = max(1, total_sentences // 5)  # Using 1/5 of the total number of sentences for summary\n",
    "    \n",
    "    # Text Preprocessing (TF-IDF Vectorization)\n",
    "    vectorizer = TfidfVectorizer().fit_transform(sentences)\n",
    "    vectors = vectorizer.toarray()\n",
    "    \n",
    "    # Compute Cosine Similarity Matrix\n",
    "    cosine_matrix = cosine_similarity(vectors)\n",
    "    \n",
    "    # Rank Sentences using PageRank algorithm\n",
    "    nx_graph = nx.from_numpy_array(cosine_matrix)\n",
    "    scores = nx.pagerank(nx_graph)\n",
    "    \n",
    "    # Sort the Sentences and Select Top N\n",
    "    ranked_sentences = sorted(((scores[i], s, i) for i, s in enumerate(sentences)), reverse=True)\n",
    "    \n",
    "    # Context Sensitivity: Adjust strategy based on context_type\n",
    "    if context_type == 'story':\n",
    "        # For stories, try to include the introduction and conclusion\n",
    "        intro_sentence = sentences[0]\n",
    "        conclusion_sentence = sentences[-1]\n",
    "    elif context_type == 'article':\n",
    "        # For articles, try to include the main points or arguments\n",
    "        intro_sentence = sentences[0]\n",
    "        conclusion_sentence = sentences[-1]\n",
    "    else:\n",
    "        intro_sentence = conclusion_sentence = None\n",
    "\n",
    "    # User Customization: Include important keywords if specified\n",
    "    if important_keywords:\n",
    "        important_sentences = [s for s in sentences if any(kw.lower() in s.lower() for kw in important_keywords)]\n",
    "    else:\n",
    "        important_sentences = []\n",
    "    \n",
    "    # Sentiment Analysis: Use TextBlob to analyze the sentiment of each sentence\n",
    "    sentiment_scores = [TextBlob(s).sentiment.polarity for s in sentences]\n",
    "    \n",
    "    # Combine PageRank scores and sentiment scores for final ranking\n",
    "    combined_scores = [(0.7 * scores[i] + 0.3 * abs(sentiment_scores[i]), s, i) for i, s in enumerate(sentences)]\n",
    "    ranked_sentences = sorted(combined_scores, reverse=True)\n",
    "    \n",
    "    # Select Top N sentences based on the combined scores\n",
    "    if detail_level == 1:\n",
    "        selected_sentences = [ranked_sentences[i] for i in range(min(num_of_sentences, len(ranked_sentences)))]\n",
    "    else:\n",
    "        selected_sentences = [ranked_sentences[i] for i in range(min(num_of_sentences * 2, len(ranked_sentences)))]\n",
    "    \n",
    "    # Make sure to include the introductory and concluding sentences, and important sentences\n",
    "    if intro_sentence and intro_sentence not in [s[1] for s in selected_sentences]:\n",
    "        selected_sentences.append((0, intro_sentence, sentences.index(intro_sentence)))\n",
    "    if conclusion_sentence and conclusion_sentence not in [s[1] for s in selected_sentences]:\n",
    "        selected_sentences.append((0, conclusion_sentence, sentences.index(conclusion_sentence)))\n",
    "    for s in important_sentences:\n",
    "        if s not in [s[1] for s in selected_sentences]:\n",
    "            selected_sentences.append((0, s, sentences.index(s)))\n",
    "    \n",
    "    # Sort the selected sentences back into their original order\n",
    "    sorted_selected_sentences = sorted(selected_sentences, key=lambda x: x[2])\n",
    "    \n",
    "    # Construct the summary\n",
    "    summary = '. '.join([sentence[1] for sentence in sorted_selected_sentences])\n",
    "    \n",
    "    return summary\n",
    "\n",
    "# Test the new premium summarization function\n",
    "test_text = '''\n",
    "Once upon a time, in a small town, lived a man named Henry. \n",
    "He was an ordinary man with a monotonous life. \n",
    "One day, he received a mysterious letter inviting him on an adventure. \n",
    "Henry was intrigued but also scared. \n",
    "After a lot of contemplation, he decided to take the risk. \n",
    "His journey was filled with peril and uncertainty, but also wonder and excitement. \n",
    "In the end, he discovered a hidden treasure but realized the real treasure was the journey itself. \n",
    "Henry returned to his town, a changed man, content and fulfilled. \n",
    "And he lived happily ever after.\n",
    "'''\n",
    "\n",
    "premium_summary = dynamic_detailed_summarize_premium(test_text, detail_level=2, context_type='story', important_keywords=['journey', 'treasure'])\n",
    "print(\"Premium Summary:\")\n",
    "print(premium_summary)\n",
    "\n"
   ]
  },
  {
   "cell_type": "code",
   "execution_count": 4,
   "metadata": {},
   "outputs": [
    {
     "data": {
      "text/plain": [
       "['henry', 'man', 'journey', 'lived', 'town']"
      ]
     },
     "execution_count": 4,
     "metadata": {},
     "output_type": "execute_result"
    }
   ],
   "source": [
    "from sklearn.feature_extraction import text\n",
    "\n",
    "# Modified function to get important keywords from text\n",
    "def extract_important_keywords_improved(text_content, top_n=5):\n",
    "    \"\"\"\n",
    "    Extracts important keywords from the given text using TF-IDF and excluding stopwords.\n",
    "    \n",
    "    Parameters:\n",
    "    - text_content (str): the original text\n",
    "    - top_n (int): number of top keywords to return\n",
    "    \n",
    "    Returns:\n",
    "    - list: a list of top_n important keywords\n",
    "    \"\"\"\n",
    "    # Add more stopwords to the default list if needed\n",
    "    my_stop_words = list(text.ENGLISH_STOP_WORDS)\n",
    "    \n",
    "    vectorizer = TfidfVectorizer(stop_words=my_stop_words)\n",
    "    vectors = vectorizer.fit_transform([text_content]).toarray()\n",
    "    feature_names = vectorizer.get_feature_names_out()\n",
    "    \n",
    "    top_keywords = sorted(list(zip(feature_names, vectors[0])), key=lambda x: x[1], reverse=True)[:top_n]\n",
    "    return [keyword[0] for keyword in top_keywords]\n",
    "\n",
    "# Test the improved function\n",
    "important_keywords_improved = extract_important_keywords_improved(test_text)\n",
    "important_keywords_improved\n"
   ]
  },
  {
   "cell_type": "code",
   "execution_count": 5,
   "metadata": {},
   "outputs": [
    {
     "name": "stdout",
     "output_type": "stream",
     "text": [
      "NUM SENTENCE IS-: 4\n",
      "NUM SENTENCE IS-: 3\n",
      "Premium Summary with Detail Level 1:\n",
      "\n",
      "Once upon a time, in a small town, lived a man named Henry. \n",
      "He was an ordinary man with a monotonous life. \n",
      "Henry was intrigued but also scared. \n",
      "His journey was filled with peril and uncertainty, but also wonder and excitement. \n",
      "In the end, he discovered a hidden treasure but realized the real treasure was the journey itself. \n",
      "Henry returned to his town, a changed man, content and fulfilled. \n",
      "And he lived happily ever after.\n",
      "\n",
      "\n",
      "Premium Summary with Detail Level 2:\n",
      "\n",
      "Once upon a time, in a small town, lived a man named Henry. \n",
      "He was an ordinary man with a monotonous life. \n",
      "Henry was intrigued but also scared. \n",
      "His journey was filled with peril and uncertainty, but also wonder and excitement. \n",
      "In the end, he discovered a hidden treasure but realized the real treasure was the journey itself. \n",
      "Henry returned to his town, a changed man, content and fulfilled. \n",
      "And he lived happily ever after.\n",
      "\n"
     ]
    }
   ],
   "source": [
    "from nltk.tokenize import sent_tokenize\n",
    "from sklearn.feature_extraction import text\n",
    "from sklearn.feature_extraction.text import TfidfVectorizer\n",
    "from sklearn.metrics.pairwise import cosine_similarity\n",
    "import networkx as nx\n",
    "\n",
    "# Your existing functions like dynamic_detailed_summarize_premium and extract_important_keywords_improved should be here\n",
    "\n",
    "# Modify the premium summarization function to handle different detail levels more effectively\n",
    "def dynamic_detailed_summarize_premium_adjusted(text, detail_level=1, context_type='general', important_keywords=None):\n",
    "    if important_keywords is None:\n",
    "        important_keywords = extract_important_keywords_improved(text)\n",
    "\n",
    "    total_sentences = len(sent_tokenize(text))\n",
    "    \n",
    "    # Calculate the number of sentences to include in the summary\n",
    "    num_sentences = total_sentences // (detail_level + 1)\n",
    "    print('NUM SENTENCE IS-:',num_sentences)\n",
    "    return dynamic_detailed_summarize_premium(text, num_sentences, context_type, important_keywords)\n",
    "\n",
    "\n",
    "# Test the adjusted function with different detail levels\n",
    "test_text_2 = '''\n",
    "Artificial intelligence is revolutionizing various sectors, from healthcare to transportation. \n",
    "In healthcare, AI algorithms assist doctors in diagnosing diseases and recommending treatments. \n",
    "In transportation, autonomous vehicles promise to make roads safer and reduce traffic congestion. \n",
    "However, the widespread adoption of AI also raises ethical and social concerns, such as job displacement and data privacy. \n",
    "Regulations are needed to ensure that AI is developed and deployed in a manner that is beneficial for all.\n",
    "'''\n",
    "\n",
    "premium_summary_adjusted_1 = dynamic_detailed_summarize_premium_adjusted(test_text, detail_level=1, context_type='article')\n",
    "premium_summary_adjusted_2 = dynamic_detailed_summarize_premium_adjusted(test_text, detail_level=2, context_type='article')\n",
    "\n",
    "print(\"Premium Summary with Detail Level 1:\")\n",
    "print(premium_summary_adjusted_1)\n",
    "print(\"\\nPremium Summary with Detail Level 2:\")\n",
    "print(premium_summary_adjusted_2)\n"
   ]
  },
  {
   "cell_type": "code",
   "execution_count": 6,
   "metadata": {},
   "outputs": [
    {
     "name": "stdout",
     "output_type": "stream",
     "text": [
      "Important Keywords: ['man', 'henry', 'letter', 'lived', 'day']\n"
     ]
    }
   ],
   "source": [
    "from sklearn.feature_extraction.text import TfidfVectorizer\n",
    "import numpy as np\n",
    "\n",
    "def extract_important_keywords(text, num_keywords=5):\n",
    "    vectorizer = TfidfVectorizer(stop_words='english', lowercase=True)\n",
    "    X = vectorizer.fit_transform([text])\n",
    "    feature_array = np.array(vectorizer.get_feature_names_out())\n",
    "    tfidf_sorting = np.argsort(X.toarray()).flatten()[::-1]\n",
    "    top_n = feature_array[tfidf_sorting][:num_keywords]\n",
    "    return top_n.tolist()\n",
    "\n",
    "# Test the function\n",
    "test_text = \"\"\"Once upon a time, in a small town, lived a man named Henry. He was an ordinary man with a monotonous life. One day, he received a mysterious letter. The letter was an invitation to a grand adventure, promising treasures and wonders beyond imagination. Intrigued but also scared, Henry decided to take the risk and embark on the journey.\"\"\"\n",
    "important_keywords = extract_important_keywords(test_text)\n",
    "print(\"Important Keywords:\", important_keywords)\n"
   ]
  },
  {
   "cell_type": "code",
   "execution_count": 7,
   "metadata": {},
   "outputs": [
    {
     "name": "stdout",
     "output_type": "stream",
     "text": [
      "Premium Summary with Detail Level 1:\n",
      "\n",
      "Once upon a time, The letter was an invitation to a grand adventure, promising treasures and wonders beyond imagination Intrigued but also scared, Henry decided to take the risk and embark on the journey Filled with newfound wisdom and experience, Henry returned to his small town, richer not just in wealth but in life\n",
      "\n",
      "\n",
      "Premium Summary with Detail Level 2:\n",
      "\n",
      "Once upon a time, Once upon a time, in a small town, lived a man named Henry The letter was an invitation to a grand adventure, promising treasures and wonders beyond imagination Intrigued but also scared, Henry decided to take the risk and embark on the journey In the end, he discovered a hidden treasure but realized the real treasure was the journey itself Filled with newfound wisdom and experience, Henry returned to his small town, richer not just in wealth but in life\n"
     ]
    }
   ],
   "source": [
    "from sklearn.feature_extraction.text import CountVectorizer\n",
    "from sklearn.metrics.pairwise import cosine_similarity\n",
    "import networkx as nx\n",
    "from sklearn.feature_extraction import text as sk_text\n",
    "import re\n",
    "\n",
    "def dynamic_detailed_summarize_premium(text, detail_level=1, context_type='general', important_keywords=[]):\n",
    "    # Preprocessing the text\n",
    "    sentences = text.split('.')\n",
    "    sentences = [s.strip() for s in sentences]\n",
    "    sentences = [s for s in sentences if len(s) > 0]\n",
    "\n",
    "    # Add custom stop words or use default English stop words\n",
    "    my_stop_words = list(sk_text.ENGLISH_STOP_WORDS)\n",
    "\n",
    "    # Vectorization\n",
    "    vectorizer = CountVectorizer(stop_words=my_stop_words).fit_transform(sentences)\n",
    "    vectors = vectorizer.toarray()\n",
    "\n",
    "    # Cosine Similarity\n",
    "    cosine_matrix = cosine_similarity(vectors)\n",
    "    \n",
    "    # Applying PageRank Algorithm\n",
    "    nx_graph = nx.from_numpy_array(cosine_matrix)\n",
    "    scores = nx.pagerank(nx_graph)\n",
    "\n",
    "    # Sort sentences by score to get the summary\n",
    "    ranked_sentences = sorted(((scores[i], s) for i, s in enumerate(sentences)), reverse=True)\n",
    "\n",
    "    # Adding weight for important keywords\n",
    "    for i in range(len(ranked_sentences)):\n",
    "        for keyword in important_keywords:\n",
    "            if keyword.lower() in ranked_sentences[i][1].lower():\n",
    "                ranked_sentences[i] = (ranked_sentences[i][0] * 1.2, ranked_sentences[i][1])\n",
    "\n",
    "    # Re-sort sentences after adding keyword weights\n",
    "    ranked_sentences = sorted(ranked_sentences, key=lambda x: x[0], reverse=True)\n",
    "\n",
    "    # Selecting sentences based on detail level and reordering them based on their appearance in the original text\n",
    "    num_sentences = len(sentences)\n",
    "\n",
    "    # Decide the number of sentences based on detail level\n",
    "    if detail_level == 1:\n",
    "        num_summary_sentences = max(3, int(num_sentences * 0.2))\n",
    "    else:\n",
    "        num_summary_sentences = max(5, int(num_sentences * 0.4))\n",
    "\n",
    "    selected_sentences = [ranked_sentences[i][1] for i in range(min(num_summary_sentences, len(ranked_sentences)))]\n",
    "    summary = ' '.join([s for s in sentences if s in selected_sentences])\n",
    "\n",
    "    # Adding introduction based on context type\n",
    "    if context_type == 'story':\n",
    "        intro = \"Once upon a time,\"\n",
    "    elif context_type == 'report':\n",
    "        intro = \"In summary,\"\n",
    "    elif context_type == 'article':\n",
    "        intro = \"To sum it up,\"\n",
    "    else:\n",
    "        intro = \"\"\n",
    "\n",
    "    # Combine introduction and main summary\n",
    "    final_summary = f\"{intro} {summary}\"\n",
    "    return final_summary\n",
    "\n",
    "# Test the function\n",
    "test_text = \"\"\"Once upon a time, in a small town, lived a man named Henry. He was an ordinary man with a monotonous life. One day, he received a mysterious letter. The letter was an invitation to a grand adventure, promising treasures and wonders beyond imagination. Intrigued but also scared, Henry decided to take the risk and embark on the journey. His journey was filled with peril and uncertainty, but also wonder and excitement. In the end, he discovered a hidden treasure but realized the real treasure was the journey itself. Filled with newfound wisdom and experience, Henry returned to his small town, richer not just in wealth but in life. He resumed his ordinary life, but now he was content and grateful for the simple joys that life offered. And so, Henry lived happily ever after.\"\"\"\n",
    "important_keywords = ['Henry', 'journey', 'treasure', 'adventure', 'life']  # You would normally use your keyword extraction function here\n",
    "\n",
    "# Generate the summary\n",
    "premium_summary = dynamic_detailed_summarize_premium(test_text, detail_level=1, context_type='story', important_keywords=important_keywords)\n",
    "print(\"Premium Summary with Detail Level 1:\\n\")\n",
    "print(premium_summary)\n",
    "\n",
    "premium_summary = dynamic_detailed_summarize_premium(test_text, detail_level=2, context_type='story', important_keywords=important_keywords)\n",
    "print(\"\\n\\nPremium Summary with Detail Level 2:\\n\")\n",
    "print(premium_summary)\n"
   ]
  },
  {
   "cell_type": "code",
   "execution_count": 8,
   "metadata": {},
   "outputs": [
    {
     "name": "stdout",
     "output_type": "stream",
     "text": [
      "Premium Summary with Detail Level 1:\n",
      "\n",
      "['journey', 'henry', 'filled', 'small', 'life']\n",
      "NUM SENTENCE IS-: 4\n",
      "Intrigued but also scared, Henry decided to take the risk and embark on the journey His journey was filled with peril and uncertainty, but also wonder and excitement In the end, he discovered a hidden treasure but realized the real treasure was the journey itself Filled with newfound wisdom and experience, Henry returned to his small town, richer not just in wealth but in life\n",
      "\n",
      "\n",
      "Premium Summary with Detail Level 2:\n",
      "\n",
      "['journey', 'henry', 'filled', 'small', 'life']\n",
      "NUM SENTENCE IS-: 9\n",
      "Once upon a time, in a small town, lived a man named Henry He was an ordinary man with a monotonous life One day, he received a mysterious letter The letter was an invitation to a grand adventure, promising treasures and wonders beyond imagination Intrigued but also scared, Henry decided to take the risk and embark on the journey His journey was filled with peril and uncertainty, but also wonder and excitement In the end, he discovered a hidden treasure but realized the real treasure was the journey itself Filled with newfound wisdom and experience, Henry returned to his small town, richer not just in wealth but in life And he lived happily ever after\n"
     ]
    }
   ],
   "source": [
    "from sklearn.feature_extraction.text import CountVectorizer\n",
    "from sklearn.metrics.pairwise import cosine_similarity\n",
    "import networkx as nx\n",
    "from sklearn.feature_extraction import text as sk_text\n",
    "import re\n",
    "from sklearn.feature_extraction.text import TfidfVectorizer\n",
    "\n",
    "def extract_important_keywords(text, num_keywords=5):\n",
    "    vectorizer = TfidfVectorizer(stop_words=list(sk_text.ENGLISH_STOP_WORDS))\n",
    "    X = vectorizer.fit_transform([text])\n",
    "    feature_array = np.array(vectorizer.get_feature_names_out())\n",
    "    tfidf_sorting = np.argsort(X.toarray()).flatten()[::-1]\n",
    "    top_n = feature_array[tfidf_sorting][:num_keywords]\n",
    "    print(top_n.tolist())\n",
    "    return top_n.tolist()\n",
    "\n",
    "def dynamic_detailed_summarize_premium(input_text, detail_level=1, context_type='general', important_keywords=[]):\n",
    "    # Preprocessing the text\n",
    "    sentences = input_text.split('.')\n",
    "    sentences = [s.strip() for s in sentences]\n",
    "    sentences = [s for s in sentences if len(s) > 0]\n",
    "\n",
    "    # Add custom stop words or use default English stop words\n",
    "    my_stop_words = sk_text.ENGLISH_STOP_WORDS\n",
    "\n",
    "    # Vectorize sentences\n",
    "    vectorizer = CountVectorizer().fit_transform(sentences)\n",
    "    vectors = vectorizer.toarray()\n",
    "\n",
    "    # Calculate cosine similarity\n",
    "    cosine_matrix = cosine_similarity(vectors)\n",
    "    \n",
    "    # Create a network graph and rank nodes (sentences) by PageRank algorithm\n",
    "    nx_graph = nx.from_numpy_array(cosine_matrix)\n",
    "    scores = nx.pagerank(nx_graph)\n",
    "\n",
    "    # Sort sentences by score\n",
    "    ranked_sentences = sorted(((scores[i], s) for i, s in enumerate(sentences)), reverse=True)\n",
    "\n",
    "    # Select important keywords if not provided\n",
    "    if not important_keywords:\n",
    "        important_keywords = extract_important_keywords(input_text)\n",
    "\n",
    "    # Apply keyword emphasis, increase score of sentences with important keywords\n",
    "    for i in range(len(ranked_sentences)):\n",
    "        for keyword in important_keywords:\n",
    "            if keyword.lower() in ranked_sentences[i][1].lower():\n",
    "                ranked_sentences[i] = (ranked_sentences[i][0] * 1.2, ranked_sentences[i][1])\n",
    "\n",
    "    # Re-sort the sentences after keyword emphasis\n",
    "    ranked_sentences = sorted(ranked_sentences, key=lambda x: x[0], reverse=True)\n",
    "\n",
    "    # Determine number of sentences based on detail level\n",
    "    num_sentences = len(sentences) // (3 - detail_level)\n",
    "    print(\"NUM SENTENCE IS-:\", num_sentences)  # Debugging print statement\n",
    "\n",
    "    # Generate summary\n",
    "    summary = [ranked_sentences[i][1] for i in range(num_sentences)]\n",
    "    \n",
    "    # Order sentences by their original order in the text\n",
    "    summary = sorted(summary, key=lambda x: sentences.index(x))\n",
    "    \n",
    "    # Create final summary string\n",
    "    final_summary = ' '.join(summary)\n",
    "    \n",
    "    return final_summary\n",
    "\n",
    "# Test the function\n",
    "test_text = \"\"\"Once upon a time, in a small town, lived a man named Henry. He was an ordinary man with a monotonous life. One day, he received a mysterious letter. The letter was an invitation to a grand adventure, promising treasures and wonders beyond imagination. Intrigued but also scared, Henry decided to take the risk and embark on the journey. His journey was filled with peril and uncertainty, but also wonder and excitement. In the end, he discovered a hidden treasure but realized the real treasure was the journey itself. Filled with newfound wisdom and experience, Henry returned to his small town, richer not just in wealth but in life. And he lived happily ever after.\"\"\"\n",
    "\n",
    "# Generate two different types of summaries\n",
    "print(\"Premium Summary with Detail Level 1:\\n\")\n",
    "print(dynamic_detailed_summarize_premium(test_text, detail_level=1, context_type='story'))\n",
    "print(\"\\n\")\n",
    "print(\"Premium Summary with Detail Level 2:\\n\")\n",
    "print(dynamic_detailed_summarize_premium(test_text, detail_level=2, context_type='story'))\n"
   ]
  },
  {
   "cell_type": "code",
   "execution_count": 9,
   "metadata": {},
   "outputs": [
    {
     "name": "stdout",
     "output_type": "stream",
     "text": [
      "Premium Summary with Detail Level 1:\n",
      "\n",
      "Once upon a time, in a small town, lived a man named Henry. Intrigued but also scared, Henry decided to take the risk and embark on the journey. In the end, he discovered a hidden treasure but realized the real treasure was the journey itself. Filled with newfound wisdom and experience, Henry returned to his small town, richer not just in wealth but in life.\n",
      "\n",
      "Premium Summary with Detail Level 2:\n",
      "\n",
      "Once upon a time, in a small town, lived a man named Henry. He was an ordinary man with a monotonous life. One day, he received a mysterious letter. The letter was an invitation to a grand adventure, promising treasures and wonders beyond imagination. Intrigued but also scared, Henry decided to take the risk and embark on the journey. His journey was filled with peril and uncertainty, but also wonder and excitement. In the end, he discovered a hidden treasure but realized the real treasure was the journey itself. Filled with newfound wisdom and experience, Henry returned to his small town, richer not just in wealth but in life. And he lived happily ever after.\n"
     ]
    }
   ],
   "source": [
    "# Let's modify the function to limit the number of sentences in the detailed summary.\n",
    "\n",
    "from sklearn.feature_extraction.text import TfidfVectorizer\n",
    "from sklearn.metrics.pairwise import linear_kernel\n",
    "from nltk.corpus import stopwords\n",
    "from nltk.tokenize import word_tokenize, sent_tokenize\n",
    "from nltk import pos_tag\n",
    "from nltk.corpus import wordnet as wn\n",
    "import string\n",
    "import numpy as np\n",
    "\n",
    "def get_wordnet_pos(treebank_tag):\n",
    "    if treebank_tag.startswith('J'):\n",
    "        return wn.ADJ\n",
    "    elif treebank_tag.startswith('V'):\n",
    "        return wn.VERB\n",
    "    elif treebank_tag.startswith('N'):\n",
    "        return wn.NOUN\n",
    "    elif treebank_tag.startswith('R'):\n",
    "        return wn.ADV\n",
    "    else:\n",
    "        return ''\n",
    "\n",
    "def dynamic_detailed_summarize_premium(text, detail_level=1, context_type='general', important_keywords=[]):\n",
    "    # Tokenize the sentences\n",
    "    sentences = sent_tokenize(text)\n",
    "    \n",
    "    # Set maximum number of sentences for the detailed summary\n",
    "    max_sentences = len(sentences) if detail_level == 2 else int(len(sentences) / 2)\n",
    "    \n",
    "    # Tokenize the words and create a dictionary of word frequencies\n",
    "    words = word_tokenize(text.lower())\n",
    "    freq = {}\n",
    "    for word in words:\n",
    "        freq[word] = freq.get(word, 0) + 1\n",
    "    \n",
    "    # Score each sentence based on the sum of the frequencies of its words\n",
    "    scores = {}\n",
    "    for sentence in sentences:\n",
    "        scores[sentence] = 0\n",
    "        for word in word_tokenize(sentence.lower()):\n",
    "            if word in freq:\n",
    "                scores[sentence] += freq[word]\n",
    "    \n",
    "    # Add bonus for presence of important keywords\n",
    "    for keyword in important_keywords:\n",
    "        for sentence in sentences:\n",
    "            if keyword.lower() in sentence.lower():\n",
    "                scores[sentence] += 5\n",
    "    \n",
    "    # Sort the sentences by their scores and select top sentences\n",
    "    sorted_sentences = [sentence for sentence, score in sorted(scores.items(), key=lambda x: x[1], reverse=True)]\n",
    "    \n",
    "    # Limit the number of sentences based on the detail level\n",
    "    sorted_sentences = sorted_sentences[:max_sentences]\n",
    "    \n",
    "    # Re-order the selected sentences to maintain their original order in the text\n",
    "    final_summary = [sentence for sentence in sentences if sentence in sorted_sentences]\n",
    "    \n",
    "    return ' '.join(final_summary)\n",
    "\n",
    "# Test the function\n",
    "test_text = \"\"\"Once upon a time, in a small town, lived a man named Henry. \n",
    "He was an ordinary man with a monotonous life. \n",
    "One day, he received a mysterious letter. \n",
    "The letter was an invitation to a grand adventure, promising treasures and wonders beyond imagination. \n",
    "Intrigued but also scared, Henry decided to take the risk and embark on the journey. \n",
    "His journey was filled with peril and uncertainty, but also wonder and excitement. \n",
    "In the end, he discovered a hidden treasure but realized the real treasure was the journey itself. \n",
    "Filled with newfound wisdom and experience, Henry returned to his small town, richer not just in wealth but in life. \n",
    "And he lived happily ever after.\"\"\"\n",
    "\n",
    "print(\"Premium Summary with Detail Level 1:\\n\")\n",
    "print(dynamic_detailed_summarize_premium(test_text, detail_level=1, important_keywords=['journey', 'treasure']))\n",
    "\n",
    "print(\"\\nPremium Summary with Detail Level 2:\\n\")\n",
    "print(dynamic_detailed_summarize_premium(test_text, detail_level=2, important_keywords=['journey', 'treasure']))\n"
   ]
  },
  {
   "cell_type": "code",
   "execution_count": 10,
   "metadata": {},
   "outputs": [],
   "source": [
    "def extract_important_keywords(text, num_keywords=5):\n",
    "    vectorizer = TfidfVectorizer(stop_words=list(sk_text.ENGLISH_STOP_WORDS))\n",
    "    X = vectorizer.fit_transform([text])\n",
    "    feature_array = np.array(vectorizer.get_feature_names_out())\n",
    "    tfidf_sorting = np.argsort(X.toarray()).flatten()[::-1]\n",
    "    top_n = feature_array[tfidf_sorting][:num_keywords]\n",
    "    print(top_n.tolist())\n",
    "    return top_n.tolist()"
   ]
  },
  {
   "cell_type": "code",
   "execution_count": 11,
   "metadata": {},
   "outputs": [
    {
     "name": "stdout",
     "output_type": "stream",
     "text": [
      "['journey', 'henry', 'filled', 'small', 'life', 'letter', 'lived', 'man', 'treasure', 'town']\n"
     ]
    },
    {
     "data": {
      "text/plain": [
       "['journey',\n",
       " 'henry',\n",
       " 'filled',\n",
       " 'small',\n",
       " 'life',\n",
       " 'letter',\n",
       " 'lived',\n",
       " 'man',\n",
       " 'treasure',\n",
       " 'town']"
      ]
     },
     "execution_count": 11,
     "metadata": {},
     "output_type": "execute_result"
    }
   ],
   "source": [
    "extract_important_keywords(test_text,10)"
   ]
  },
  {
   "cell_type": "code",
   "execution_count": 12,
   "metadata": {},
   "outputs": [
    {
     "name": "stderr",
     "output_type": "stream",
     "text": [
      "c:\\Users\\RohanRVC\\Documents\\Business\\E-AI-Service\\.AI_service\\Lib\\site-packages\\sklearn\\decomposition\\_truncated_svd.py:273: RuntimeWarning: invalid value encountered in divide\n",
      "  self.explained_variance_ratio_ = exp_var / full_var\n"
     ]
    },
    {
     "data": {
      "text/plain": [
       "['journey',\n",
       " 'henry',\n",
       " 'man',\n",
       " 'treasure',\n",
       " 'lived',\n",
       " 'life',\n",
       " 'letter',\n",
       " 'journey filled',\n",
       " 'small',\n",
       " 'small town']"
      ]
     },
     "execution_count": 12,
     "metadata": {},
     "output_type": "execute_result"
    }
   ],
   "source": [
    "from sklearn.feature_extraction.text import TfidfVectorizer\n",
    "from sklearn.decomposition import TruncatedSVD\n",
    "import numpy as np\n",
    "\n",
    "def extract_important_keywords(text, num_keywords=10):\n",
    "    # Tokenization and Vectorization\n",
    "    vectorizer = TfidfVectorizer(stop_words='english', ngram_range=(1, 2))\n",
    "    \n",
    "    # Fit and transform the text to generate TF-IDF features\n",
    "    X = vectorizer.fit_transform([text])\n",
    "    \n",
    "    # Dimensionality reduction using TruncatedSVD (aka LSA: Latent Semantic Analysis)\n",
    "    svd = TruncatedSVD(n_components=1, random_state=42)\n",
    "    svd.fit(X)\n",
    "    \n",
    "    # Sort the features by importance\n",
    "    terms = vectorizer.get_feature_names_out()\n",
    "    sorted_indices = np.argsort(svd.components_).flatten()[::-1]\n",
    "    \n",
    "    # Extract top features\n",
    "    top_keywords = [terms[i] for i in sorted_indices[:num_keywords]]\n",
    "    \n",
    "    return top_keywords\n",
    "\n",
    "# Test the function with the sample text\n",
    "test_text = \"\"\"Once upon a time, in a small town, lived a man named Henry. \n",
    "He was an ordinary man with a monotonous life. \n",
    "One day, he received a mysterious letter. \n",
    "The letter was an invitation to a grand adventure, promising treasures and wonders beyond imagination. \n",
    "Intrigued but also scared, Henry decided to take the risk and embark on the journey. \n",
    "His journey was filled with peril and uncertainty, but also wonder and excitement. \n",
    "In the end, he discovered a hidden treasure but realized the real treasure was the journey itself. \n",
    "Filled with newfound wisdom and experience, Henry returned to his small town, richer not just in wealth but in life. \n",
    "And he lived happily ever after.\"\"\"\n",
    "\n",
    "important_keywords_refined = extract_important_keywords(test_text)\n",
    "important_keywords_refined\n"
   ]
  },
  {
   "cell_type": "code",
   "execution_count": 13,
   "metadata": {},
   "outputs": [
    {
     "name": "stdout",
     "output_type": "stream",
     "text": [
      "Important Keywords: ['henry', 'journey', 'small', 'town', 'lived', 'man', 'life', 'letter', 'filled', 'treasure']\n",
      "NUM SENTENCE IS-: 2\n",
      "Important Keywords: ['henry', 'journey', 'small', 'town', 'lived', 'man', 'life', 'letter', 'filled', 'treasure']\n",
      "NUM SENTENCE IS-: 3\n"
     ]
    },
    {
     "data": {
      "text/plain": [
       "('Once upon a time, in a small town, lived a man named Henry. Filled with newfound wisdom and experience, Henry returned to his small town, richer not just in wealth but in life.',\n",
       " 'Once upon a time, in a small town, lived a man named Henry. Intrigued but also scared, Henry decided to take the risk and embark on the journey. Filled with newfound wisdom and experience, Henry returned to his small town, richer not just in wealth but in life.')"
      ]
     },
     "execution_count": 13,
     "metadata": {},
     "output_type": "execute_result"
    }
   ],
   "source": [
    "# Implementing the premium feature with refined keyword extraction method\n",
    "from sklearn.feature_extraction.text import CountVectorizer\n",
    "from sklearn.metrics.pairwise import cosine_similarity\n",
    "from sklearn.feature_extraction import text \n",
    "import networkx as nx\n",
    "import re\n",
    "\n",
    "# Stop words list\n",
    "my_stop_words = list(text.ENGLISH_STOP_WORDS)\n",
    "\n",
    "# Function to extract important keywords from text\n",
    "def extract_important_keywords(text, num_keywords=10):\n",
    "    vectorizer = CountVectorizer(ngram_range=(1, 2), stop_words=my_stop_words).fit([text])\n",
    "    transformed_text = vectorizer.transform([text])\n",
    "    keywords = sorted([(word, transformed_text[0, idx]) for word, idx in vectorizer.vocabulary_.items()], key=lambda x: x[1], reverse=True)[:num_keywords]\n",
    "    refined_keywords = [k[0] for k in keywords]\n",
    "    return refined_keywords\n",
    "\n",
    "# Function to generate a premium summary\n",
    "def premium_summary(text, detail_level=1, context_type='generic', important_keywords=None):\n",
    "    # Extract sentences\n",
    "    sentences = re.split(r'(?<=[^A-Z].[.?]) +(?=[A-Z])', text)\n",
    "    \n",
    "    # Extract important keywords if not provided\n",
    "    if not important_keywords:\n",
    "        important_keywords = extract_important_keywords(text)\n",
    "    \n",
    "    print(f\"Important Keywords: {important_keywords}\")\n",
    "\n",
    "    # Vectorization\n",
    "    vectorizer = CountVectorizer(ngram_range=(1, 2), vocabulary=important_keywords).fit_transform(sentences)\n",
    "\n",
    "    # Cosine Similarity Matrix\n",
    "    cosine_matrix = cosine_similarity(vectorizer)\n",
    "\n",
    "    # Ranking sentences\n",
    "    nx_graph = nx.from_numpy_array(cosine_matrix)\n",
    "    scores = nx.pagerank(nx_graph)\n",
    "\n",
    "    # Sort the sentence rankings\n",
    "    ranked_sentences = sorted(((scores[i], s) for i, s in enumerate(sentences)), reverse=True)\n",
    "    \n",
    "    # Determine the number of sentences based on detail level\n",
    "    num_sentences = len(sentences) // (5 - detail_level)\n",
    "    print(f\"NUM SENTENCE IS-: {num_sentences}\")\n",
    "    \n",
    "    # Extract the summary\n",
    "    summary = [ranked_sentences[i][1] for i in range(num_sentences)]\n",
    "    \n",
    "    # Re-order summary based on their appearance in the original text\n",
    "    ordered_summary = sorted(summary, key=lambda x: sentences.index(x))\n",
    "    \n",
    "    return ' '.join(ordered_summary)\n",
    "\n",
    "# Test Text\n",
    "test_text = \"\"\"Once upon a time, in a small town, lived a man named Henry. He was an ordinary man with a monotonous life. One day, he received a mysterious letter. The letter was an invitation to a grand adventure, promising treasures and wonders beyond imagination. Intrigued but also scared, Henry decided to take the risk and embark on the journey. His journey was filled with peril and uncertainty, but also wonder and excitement. He faced numerous challenges and overcame many obstacles. In the end, he discovered a hidden treasure but realized the real treasure was the journey itself. Filled with newfound wisdom and experience, Henry returned to his small town, richer not just in wealth but in life. And he lived happily ever after.\"\"\"\n",
    "\n",
    "# Generate summaries with different detail levels\n",
    "summary_level_1 = premium_summary(test_text, detail_level=1, context_type='story')\n",
    "summary_level_2 = premium_summary(test_text, detail_level=2, context_type='story')\n",
    "\n",
    "(summary_level_1, summary_level_2)\n"
   ]
  },
  {
   "cell_type": "code",
   "execution_count": 14,
   "metadata": {},
   "outputs": [
    {
     "name": "stdout",
     "output_type": "stream",
     "text": [
      "Important Keywords: ['book', 'emily', 'mr', 'johnson', 'mr johnson']\n",
      "\n",
      "Premium Summary with Detail Level 1:\n",
      "\n",
      "\n",
      "In the heart of the city, there was a small, obscure bookstore owned by Mr. Johnson. He was a man of wisdom and knowledge, \n",
      "but he was also a recluse who rarely ventured out of his store. The bookstore was filled with old, dusty books on every subject imaginable, \n",
      "from ancient history to modern science. It was a treasure trove for book lovers, but it was always empty, as not many people knew about it. Emily was captivated by the variety and ended up spending hours in the store. She finally chose a book on ancient civilizations and went to the counter to pay for it. As Mr. Johnson was wrapping the book, he told Emily about the special book hidden in the store. It was said to contain the secrets of the universe and was written by a mysterious author. Mr. Johnson hesitated for a moment but then led her to a hidden room at the back of the store. Mr. Johnson said that the book was not for sale, \n",
      "but he would let her read it in the store. She had discovered a hidden gem in the heart of the city, and it had changed her life forever. Emily became a regular at the bookstore, \n",
      "and Mr. Johnson became her mentor. One day, Mr. Johnson fell ill and had to close the store for a few days. Heartbroken, Emily decided to take over the bookstore and continue Mr. Johnson's legacy. The bookstore flourished under her management, \n",
      "and it became a popular spot for book lovers. The special book was placed in a glass case for everyone to see, but it was still not for sale. Years later, Emily was awarded the 'Entrepreneur of the Year' for her incredible work. She dedicated the award to Mr. Johnson, who had passed away but had left a lasting impact on her life. The bookstore continued to thrive, and Emily never forgot the lessons she had learned from the special book and Mr. Johnson.\n",
      "\n",
      "Premium Summary with Detail Level 2:\n",
      "\n",
      "\n",
      "In the heart of the city, there was a small, obscure bookstore owned by Mr. Johnson. He was a man of wisdom and knowledge, \n",
      "but he was also a recluse who rarely ventured out of his store. The bookstore was filled with old, dusty books on every subject imaginable, \n",
      "from ancient history to modern science. It was a treasure trove for book lovers, but it was always empty, as not many people knew about it. One fine day, a young girl named Emily walked into the store. She was an avid reader and was looking for something new to read. Mr. Johnson welcomed her warmly and suggested several books. Emily was captivated by the variety and ended up spending hours in the store. She finally chose a book on ancient civilizations and went to the counter to pay for it. As Mr. Johnson was wrapping the book, he told Emily about the special book hidden in the store. It was said to contain the secrets of the universe and was written by a mysterious author. Intrigued, Emily asked if she could see the book. Mr. Johnson hesitated for a moment but then led her to a hidden room at the back of the store. He took out a key from his pocket and opened a small, rusty safe. Inside was the special book, covered in dust and cobwebs. Emily was fascinated and asked if she could buy the book. Mr. Johnson said that the book was not for sale, \n",
      "but he would let her read it in the store. Emily agreed and started reading the book. As she turned the pages, she felt a strange sense of enlightenment. The book was filled with profound wisdom and insights that she had never encountered before. After reading the book, Emily felt like a completely different person. She thanked Mr. Johnson and promised to come back for more books. As she left the store, she felt an overwhelming sense of gratitude. She had discovered a hidden gem in the heart of the city, and it had changed her life forever. Days turned into weeks, and weeks into months. Emily became a regular at the bookstore, \n",
      "and Mr. Johnson became her mentor. They spent hours discussing various subjects, and Emily felt her knowledge and understanding deepen. One day, Mr. Johnson fell ill and had to close the store for a few days. Emily was concerned and visited him at his home. She found out that Mr. Johnson was suffering from a rare illness and did not have much time left. Heartbroken, Emily decided to take over the bookstore and continue Mr. Johnson's legacy. She managed the store with the same passion and dedication that he had shown. The bookstore flourished under her management, \n",
      "and it became a popular spot for book lovers. Emily introduced various new sections and even started selling online. The special book was placed in a glass case for everyone to see, but it was still not for sale. Years later, Emily was awarded the 'Entrepreneur of the Year' for her incredible work. She dedicated the award to Mr. Johnson, who had passed away but had left a lasting impact on her life. The bookstore continued to thrive, and Emily never forgot the lessons she had learned from the special book and Mr. Johnson.\n"
     ]
    }
   ],
   "source": [
    "# Let's use a longer example text to test the function\n",
    "long_example_text = \"\"\"\n",
    "In the heart of the city, there was a small, obscure bookstore owned by Mr. Johnson. He was a man of wisdom and knowledge, \n",
    "but he was also a recluse who rarely ventured out of his store. The bookstore was filled with old, dusty books on every subject imaginable, \n",
    "from ancient history to modern science. It was a treasure trove for book lovers, but it was always empty, as not many people knew about it.\n",
    "\n",
    "One fine day, a young girl named Emily walked into the store. She was an avid reader and was looking for something new to read. \n",
    "Mr. Johnson welcomed her warmly and suggested several books. Emily was captivated by the variety and ended up spending hours in the store. \n",
    "She finally chose a book on ancient civilizations and went to the counter to pay for it.\n",
    "\n",
    "As Mr. Johnson was wrapping the book, he told Emily about the special book hidden in the store. \n",
    "It was said to contain the secrets of the universe and was written by a mysterious author. Intrigued, Emily asked if she could see the book. \n",
    "Mr. Johnson hesitated for a moment but then led her to a hidden room at the back of the store. \n",
    "He took out a key from his pocket and opened a small, rusty safe. Inside was the special book, covered in dust and cobwebs.\n",
    "\n",
    "Emily was fascinated and asked if she could buy the book. Mr. Johnson said that the book was not for sale, \n",
    "but he would let her read it in the store. Emily agreed and started reading the book. \n",
    "As she turned the pages, she felt a strange sense of enlightenment. \n",
    "The book was filled with profound wisdom and insights that she had never encountered before.\n",
    "\n",
    "After reading the book, Emily felt like a completely different person. \n",
    "She thanked Mr. Johnson and promised to come back for more books. As she left the store, she felt an overwhelming sense of gratitude. \n",
    "She had discovered a hidden gem in the heart of the city, and it had changed her life forever.\n",
    "\n",
    "Days turned into weeks, and weeks into months. Emily became a regular at the bookstore, \n",
    "and Mr. Johnson became her mentor. They spent hours discussing various subjects, and Emily felt her knowledge and understanding deepen. \n",
    "One day, Mr. Johnson fell ill and had to close the store for a few days. Emily was concerned and visited him at his home. \n",
    "She found out that Mr. Johnson was suffering from a rare illness and did not have much time left.\n",
    "\n",
    "Heartbroken, Emily decided to take over the bookstore and continue Mr. Johnson's legacy. \n",
    "She managed the store with the same passion and dedication that he had shown. The bookstore flourished under her management, \n",
    "and it became a popular spot for book lovers. Emily introduced various new sections and even started selling online. \n",
    "The special book was placed in a glass case for everyone to see, but it was still not for sale.\n",
    "\n",
    "Years later, Emily was awarded the 'Entrepreneur of the Year' for her incredible work. \n",
    "She dedicated the award to Mr. Johnson, who had passed away but had left a lasting impact on her life. \n",
    "The bookstore continued to thrive, and Emily never forgot the lessons she had learned from the special book and Mr. Johnson.\n",
    "\"\"\"\n",
    "\n",
    "# Extracting important keywords from the long example text\n",
    "important_keywords_long_text = extract_important_keywords(long_example_text, num_keywords=5)\n",
    "print(f\"Important Keywords: {important_keywords_long_text}\")\n",
    "\n",
    "# Generating summaries with different detail levels\n",
    "summary_detail_1 = dynamic_detailed_summarize_premium(long_example_text, detail_level=1, context_type='story', important_keywords=important_keywords_long_text)\n",
    "summary_detail_2 = dynamic_detailed_summarize_premium(long_example_text, detail_level=2, context_type='story', important_keywords=important_keywords_long_text)\n",
    "\n",
    "print(\"\\nPremium Summary with Detail Level 1:\\n\")\n",
    "print(summary_detail_1)\n",
    "\n",
    "print(\"\\nPremium Summary with Detail Level 2:\\n\")\n",
    "print(summary_detail_2)\n"
   ]
  },
  {
   "cell_type": "code",
   "execution_count": 15,
   "metadata": {},
   "outputs": [
    {
     "data": {
      "text/plain": [
       "['journey', 'henry', 'filled', 'small', 'life']"
      ]
     },
     "execution_count": 15,
     "metadata": {},
     "output_type": "execute_result"
    }
   ],
   "source": [
    "from sklearn.feature_extraction.text import ENGLISH_STOP_WORDS\n",
    "\n",
    "# Correcting the min_df parameter and re-running the function\n",
    "\n",
    "def extract_important_keywords_v3(input_text, num_keywords=5):\n",
    "    # List of stopwords\n",
    "    my_stop_words = ENGLISH_STOP_WORDS.union(['s', 'mr'])\n",
    "    \n",
    "    # Initialize the TfidfVectorizer\n",
    "    tfidf_vectorizer = TfidfVectorizer(stop_words=list(my_stop_words), min_df=1)\n",
    "    \n",
    "    # Fit and transform the text\n",
    "    tfidf_matrix = tfidf_vectorizer.fit_transform([input_text])\n",
    "    \n",
    "    # Get the feature names\n",
    "    feature_names = np.array(tfidf_vectorizer.get_feature_names_out())\n",
    "    \n",
    "    # Get the tf-idf values for the first document (our text)\n",
    "    tfidf_values = tfidf_matrix.toarray()[0]\n",
    "    \n",
    "    # Get the indices sorted by tf-idf values\n",
    "    sorted_indices = tfidf_values.argsort()[::-1]\n",
    "    \n",
    "    # Get the top num_keywords\n",
    "    top_keywords = feature_names[sorted_indices][:num_keywords]\n",
    "    \n",
    "    return top_keywords.tolist()\n",
    "\n",
    "henry=\"\"\"Once upon a time, in a small town, lived a man named Henry. \n",
    "He was an ordinary man with a monotonous life. One day, he received a mysterious letter. \n",
    "The letter was an invitation to a grand adventure, promising treasures and wonders beyond imagination. \n",
    "Intrigued but also scared, Henry decided to take the risk and embark on the journey. \n",
    "His journey was filled with peril and uncertainty, but also wonder and excitement. \n",
    "In the end, he discovered a hidden treasure but realized the real treasure was the journey itself. \n",
    "Filled with newfound wisdom and experience, Henry returned to his small town, richer not just in wealth but in life. \n",
    "And he lived happily ever after.\"\"\"\n",
    "test_text3=\"\"\"In a small, picturesque town nestled in the mountains, there lived a young woman named Lily. She was known throughout the village for her exceptional talent for painting. Her canvases were filled with vibrant colors and intricate details, capturing the beauty of the world around her.\n",
    "\n",
    "But what made Lily's paintings truly special was their ability to come to life. When she painted a lush forest, the leaves rustled, and the birds sang. When she painted a tranquil lake, the water rippled, and the fish swam. Her art had a magic all its own.\n",
    "\n",
    "One sunny afternoon, a group of children gathered outside Lily's cottage, eager to see her latest masterpiece. With a smile, she unveiled a canvas depicting a magical garden filled with fantastical creatures and enchanted plants. As the children gazed in awe, the garden began to stir to life. Gnomes danced, unicorns pranced, and fireflies illuminated the scene.\n",
    "\n",
    "Lily's gift became renowned far and wide. Visitors from distant lands traveled to the village to witness the enchanting paintings. However, her fame also brought forth a challenge. A wealthy collector named Victor, who lived in the nearby city, offered Lily a fortune for her latest creation. But Victor had a reputation for hoarding art, keeping it hidden from the world.\n",
    "\n",
    "Lily refused Victor's offer. She believed that her art should be shared, not hidden away. This decision angered Victor, and he resorted to theft. In the dead of night, he stole Lily's magical garden painting and locked it away in his vast, private gallery.\n",
    "\n",
    "Heartbroken but determined, Lily hatched a plan to rescue her masterpiece. She painted a new scene - a forest filled with wise owls and cunning foxes. This time, she included a message within the painting, a plea for help to the creatures of the night.\n",
    "\n",
    "As the moon rose, the owls and foxes saw Lily's message and, understanding her distress, rallied to her aid. They embarked on a daring mission to retrieve the stolen painting. With their clever strategies, they outwitted Victor's guards and returned the artwork to its rightful place.\n",
    "\n",
    "The magical garden painting was once again displayed in Lily's cottage, and the enchantment it brought to the village was more wondrous than ever. But Victor learned a valuable lesson about the true essence of art - it was meant to be shared and appreciated by all, not locked away in isolation.\n",
    "\n",
    "The village celebrated Lily's courage and creativity, and she continued to paint masterpieces that brought joy and enchantment to all who saw them. Her art not only came to life on canvas but also in the hearts of those who were touched by its magic.\"\"\"\n",
    "test_text2 = \"\"\"\n",
    "In the heart of the city, there was a small, obscure bookstore owned by Mr. Johnson. He was a man of wisdom and knowledge, \n",
    "but he was also a recluse who rarely ventured out of his store. The bookstore was filled with old, dusty books on every subject imaginable, \n",
    "from ancient history to modern science. It was a treasure trove for book lovers, but it was always empty, as not many people knew about it. \n",
    "One fine day, a young girl named Emily walked into the store. She was an avid reader and was looking for something new to read. \n",
    "Mr. Johnson welcomed her warmly and suggested several books. Emily was captivated by the variety and ended up spending hours in the store. \n",
    "She finally chose a book on ancient civilizations and went to the counter to pay for it. As Mr. Johnson was wrapping the book, he told Emily about the special book hidden in the store. \n",
    "It was said to contain the secrets of the universe and was written by a mysterious author. Intrigued, Emily asked if she could see the book. \n",
    "Mr. Johnson hesitated for a moment but then led her to a hidden room at the back of the store. He took out a key from his pocket and opened a small, rusty safe. \n",
    "Inside was the special book, covered in dust and cobwebs. Emily was fascinated and asked if she could buy the book. Mr. Johnson said that the book was not for sale, \n",
    "but he would let her read it in the store. Emily agreed and started reading the book. As she turned the pages, she felt a strange sense of enlightenment. \n",
    "The book was filled with profound wisdom and insights that she had never encountered before. After reading the book, Emily felt like a completely different person. \n",
    "She thanked Mr. Johnson and promised to come back for more books. As she left the store, she felt an overwhelming sense of gratitude. \n",
    "She had discovered a hidden gem in the heart of the city, and it had changed her life forever. Days turned into weeks, and weeks into months. \n",
    "Emily became a regular at the bookstore, and Mr. Johnson became her mentor. They spent hours discussing various subjects, and Emily felt her knowledge and understanding deepen. \n",
    "One day, Mr. Johnson fell ill and had to close the store for a few days. Emily was concerned and visited him at his home. \n",
    "She found out that Mr. Johnson was suffering from a rare illness and did not have much time left. Heartbroken, Emily decided to take over the bookstore and continue Mr. Johnson's legacy. \n",
    "She managed the store with the same passion and dedication that he had shown. The bookstore flourished under her management, and it became a popular spot for book lovers. \n",
    "Emily introduced various new sections and even started selling online. The special book was placed in a glass case for everyone to see, but it was still not for sale. \n",
    "Years later, Emily was awarded the 'Entrepreneur of the Year' for her incredible work. She dedicated the award to Mr. Johnson, who had passed away but had left a lasting impact on her life. \n",
    "The bookstore continued to thrive, and Emily never forgot the lessons she had learned from the special book and Mr. Johnson.\n",
    "\"\"\"\n",
    "tt=\"\"\"In the heart of the city, there was a small, obscure bookstore owned by Mr. Johnson. \n",
    "He was a man of wisdom and knowledge, but he was also a recluse who rarely ventured out of his store. \n",
    "The bookstore was filled with old, dusty books on every subject imaginable, from ancient history to modern science. \n",
    "It was a treasure trove for book lovers, but it was always empty, as not many people knew about it.\"\"\"\n",
    "# Extract important keywords from the text\n",
    "refined_keywords = extract_important_keywords_v3(henry)\n",
    "refined_keywords\n"
   ]
  },
  {
   "cell_type": "code",
   "execution_count": null,
   "metadata": {},
   "outputs": [],
   "source": []
  },
  {
   "cell_type": "code",
   "execution_count": 16,
   "metadata": {},
   "outputs": [],
   "source": [
    "def dynamic_detailed_summarize_premium(text, detail_level=1, important_keywords=None):\n",
    "    # Split the text into sentences\n",
    "    sentences = text.split('. ')\n",
    "    num_sentences = len(sentences)\n",
    "    \n",
    "    # Extract important keywords if not provided\n",
    "    if not important_keywords:\n",
    "        important_keywords = extract_important_keywords_v3(text)\n",
    "    \n",
    "    print(f\"Important Keywords: {important_keywords}\")\n",
    "    \n",
    "    # Score each sentence based on the presence of important keywords\n",
    "    sentence_scores = {}\n",
    "    for i, sentence in enumerate(sentences):\n",
    "        sentence_scores[i] = 0\n",
    "        for keyword in important_keywords:\n",
    "            if keyword.lower() in sentence.lower():\n",
    "                sentence_scores[i] += 1\n",
    "    \n",
    "    # Sort sentences by score\n",
    "    sorted_sentences = [sentences[i] for i, _ in sorted(sentence_scores.items(), key=lambda x: x[1], reverse=True)]\n",
    "    \n",
    "    # Decide the number of sentences to include based on the detail level\n",
    "    num_include = int(np.ceil(num_sentences * (0.2 * detail_level)))\n",
    "    if num_include > num_sentences:\n",
    "        num_include = num_sentences\n",
    "    \n",
    "    print(f\"NUM SENTENCE IS-: {num_include}\")\n",
    "    \n",
    "    # Create the summary\n",
    "    summary = '. '.join(sorted_sentences[:num_include])\n",
    "    \n",
    "    return summary\n"
   ]
  },
  {
   "cell_type": "code",
   "execution_count": 17,
   "metadata": {},
   "outputs": [
    {
     "name": "stdout",
     "output_type": "stream",
     "text": [
      "Important Keywords: ['journey', 'henry', 'lived', 'life', 'letter']\n",
      "NUM SENTENCE IS-: 2\n",
      "Important Keywords: ['journey', 'henry', 'lived', 'life', 'letter']\n",
      "NUM SENTENCE IS-: 4\n",
      "\n",
      "Premium Summary with Detail Level 1:\n",
      "\n",
      "Once upon a time, in a small town, lived a man named Henry. Intrigued but also scared, Henry decided to take the risk and embark on the journey\n",
      "\n",
      "\n",
      "Premium Summary with Detail Level 2:\n",
      "\n",
      "Once upon a time, in a small town, lived a man named Henry. Intrigued but also scared, Henry decided to take the risk and embark on the journey. Filled with newfound wisdom and experience, Henry returned to his small town, richer not just in wealth but in life. He was an ordinary man with a monotonous life\n",
      "\n"
     ]
    }
   ],
   "source": [
    "# Generate summaries with varying detail levels\n",
    "summary1 = dynamic_detailed_summarize_premium(test_text, detail_level=1)\n",
    "summary2 = dynamic_detailed_summarize_premium(test_text, detail_level=2)\n",
    "\n",
    "print(f\"\\nPremium Summary with Detail Level 1:\\n\\n{summary1}\\n\")\n",
    "print(f\"\\nPremium Summary with Detail Level 2:\\n\\n{summary2}\\n\")"
   ]
  },
  {
   "cell_type": "code",
   "execution_count": 18,
   "metadata": {},
   "outputs": [
    {
     "name": "stdout",
     "output_type": "stream",
     "text": [
      "Top 5 keywords are-:['bookstore', 'wisdom', 'ventured', 'book', 'books']\n",
      "Important Keywords: ['bookstore', 'wisdom', 'ventured', 'book', 'books']\n",
      "\n",
      "Premium Summary with Detail Level 1:\n",
      "\n",
      "\n",
      "In the heart of the city, there was a small, obscure bookstore owned by Mr. Johnson. The bookstore was filled with old, dusty books on every subject imaginable, \n",
      "from ancient history to modern science.\n",
      "\n",
      "Premium Summary with Detail Level 2:\n",
      "\n",
      "\n",
      "In the heart of the city, there was a small, obscure bookstore owned by Mr. Johnson. The bookstore was filled with old, dusty books on every subject imaginable, \n",
      "from ancient history to modern science.\n"
     ]
    }
   ],
   "source": [
    "from sklearn.feature_extraction.text import TfidfVectorizer, ENGLISH_STOP_WORDS\n",
    "from sklearn.metrics.pairwise import linear_kernel\n",
    "import numpy as np\n",
    "from nltk.tokenize import sent_tokenize\n",
    "\n",
    "# Function to extract important keywords\n",
    "def extract_important_keywords(input_text, num_keywords=5):\n",
    "    my_stop_words = ENGLISH_STOP_WORDS.union(['s', 'mr'])\n",
    "    tfidf_vectorizer = TfidfVectorizer(stop_words=list(my_stop_words), min_df=1)\n",
    "    tfidf_matrix = tfidf_vectorizer.fit_transform([input_text])\n",
    "    feature_names = np.array(tfidf_vectorizer.get_feature_names_out())\n",
    "    tfidf_values = tfidf_matrix.toarray()[0]\n",
    "    sorted_indices = tfidf_values.argsort()[::-1]\n",
    "    top_keywords = feature_names[sorted_indices][:num_keywords]\n",
    "    print(f'Top {num_keywords} keywords are-:{top_keywords.tolist()}')\n",
    "    return top_keywords.tolist()\n",
    "\n",
    "# Function to generate dynamic detailed summaries\n",
    "def dynamic_detailed_summarize_premium(input_text, detail_level=1, context_type='general', important_keywords=None):\n",
    "    if important_keywords is None:\n",
    "        important_keywords = extract_important_keywords(input_text)\n",
    "    \n",
    "    sentences = sent_tokenize(input_text)\n",
    "    num_sentences = len(sentences)\n",
    "    \n",
    "    tfidf_vectorizer = TfidfVectorizer(stop_words='english')\n",
    "    tfidf_matrix = tfidf_vectorizer.fit_transform(sentences)\n",
    "    \n",
    "    cosine_similarities = linear_kernel(tfidf_matrix[0:1], tfidf_matrix).flatten()\n",
    "    related_sentences_indices = cosine_similarities.argsort()[:-num_sentences:-1]\n",
    "    \n",
    "    important_sentences = [sentences[i] for i in related_sentences_indices if any(kw in sentences[i].lower() for kw in important_keywords)]\n",
    "    \n",
    "    # Context weightage for adjusting the number of sentences based on context_type\n",
    "    context_weightage = {\n",
    "        'general': 1,\n",
    "        'story': 1.5,\n",
    "        'report': 1.2,\n",
    "        'article': 1.3  # Adding support for 'article' context\n",
    "    }\n",
    "    \n",
    "    num_output_sentences = max(2, int(detail_level * len(important_sentences) / 5 * context_weightage.get(context_type, 1)))\n",
    "    selected_sentences = important_sentences[:num_output_sentences]\n",
    "    \n",
    "    return ' '.join(selected_sentences)\n",
    "\n",
    "# Test example\n",
    "test_text = \"\"\"\n",
    "In the heart of the city, there was a small, obscure bookstore owned by Mr. Johnson. He was a man of wisdom and knowledge, \n",
    "but he was also a recluse who rarely ventured out of his store. The bookstore was filled with old, dusty books on every subject imaginable, \n",
    "from ancient history to modern science. It was a treasure trove for book lovers, but it was always empty, as not many people knew about it.\n",
    "\"\"\"\n",
    "\n",
    "# Extract keywords\n",
    "important_keywords = extract_important_keywords(test_text)\n",
    "print(\"Important Keywords:\", important_keywords)\n",
    "\n",
    "# Generate Premium Summary with Detail Level 1\n",
    "summary1 = dynamic_detailed_summarize_premium(test_text, detail_level=1, context_type='article', important_keywords=important_keywords)\n",
    "print(\"\\nPremium Summary with Detail Level 1:\\n\")\n",
    "print(summary1)\n",
    "\n",
    "# Generate Premium Summary with Detail Level 2\n",
    "summary2 = dynamic_detailed_summarize_premium(test_text, detail_level=2, context_type='article', important_keywords=important_keywords)\n",
    "print(\"\\nPremium Summary with Detail Level 2:\\n\")\n",
    "print(summary2)\n"
   ]
  },
  {
   "cell_type": "code",
   "execution_count": 19,
   "metadata": {},
   "outputs": [
    {
     "data": {
      "text/plain": [
       "(['sarah', 'energy', 'renewable', 'work', 'filled'],\n",
       " '\\nSarah was a brilliant scientist working in the field of renewable energy. Sarah became a leading figure in the field \\nof renewable energy and was awarded numerous accolades for her contributions.',\n",
       " \"\\nSarah was a brilliant scientist working in the field of renewable energy. Sarah became a leading figure in the field \\nof renewable energy and was awarded numerous accolades for her contributions. Government funding was limited, \\nand most investors were skeptical about renewable energy. Sarah's lab was filled with prototypes, designs, and \\nmodels of new energy systems. She was dedicated to finding solutions to the \\nclimate crisis and had spent years researching solar and wind energy.\")"
      ]
     },
     "execution_count": 19,
     "metadata": {},
     "output_type": "execute_result"
    }
   ],
   "source": [
    "# Test story for the refined keyword extraction and summarization function\n",
    "test_story_2 = \"\"\"\n",
    "Sarah was a brilliant scientist working in the field of renewable energy. She was dedicated to finding solutions to the \n",
    "climate crisis and had spent years researching solar and wind energy. Sarah's lab was filled with prototypes, designs, and \n",
    "models of new energy systems. However, her work was not getting the attention it deserved. Government funding was limited, \n",
    "and most investors were skeptical about renewable energy. Sarah was on the verge of giving up when she received an email \n",
    "from a renowned environmental organization. They were interested in her research and wanted to offer her a grant. Filled \n",
    "with renewed hope, Sarah accepted the offer and continued her work with more vigor than ever. Over the next few months, \n",
    "Sarah's research gained traction, and her innovations started receiving media coverage. Her breakthrough came when she \n",
    "developed a compact solar panel that could generate twice as much energy as traditional panels. This innovation caught \n",
    "the attention of major companies, and soon, Sarah's technology was being implemented on a large scale. Her work played \n",
    "a crucial role in reducing carbon emissions and combatting climate change. Sarah became a leading figure in the field \n",
    "of renewable energy and was awarded numerous accolades for her contributions.\n",
    "\"\"\"\n",
    "\n",
    "# Extracting important keywords from the story\n",
    "important_keywords_v3 = extract_important_keywords_v3(test_story_2, num_keywords=5)\n",
    "\n",
    "# Creating Premium Summaries for the test story\n",
    "premium_summary_1_v3 = dynamic_detailed_summarize_premium(test_story_2, detail_level=1, context_type='article', important_keywords=important_keywords_v3)\n",
    "premium_summary_2_v3 = dynamic_detailed_summarize_premium(test_story_2, detail_level=2, context_type='article', important_keywords=important_keywords_v3)\n",
    "\n",
    "important_keywords_v3, premium_summary_1_v3, premium_summary_2_v3\n"
   ]
  },
  {
   "cell_type": "code",
   "execution_count": 20,
   "metadata": {},
   "outputs": [
    {
     "name": "stdout",
     "output_type": "stream",
     "text": [
      "Top 5 keywords are-:['john', 'work', 'treatment', 'medical', 'continued']\n",
      "Top 5 keywords are-:['music', 'emily', 'work', 'including', 'hard']\n",
      "Top 5 keywords are-:['bakery', 'tim', 'lived', 'demand', 'humble']\n"
     ]
    },
    {
     "data": {
      "text/plain": [
       "('\\nJohn was a dedicated physician who had always been fascinated by the complexities of the human brain. John continued to work tirelessly, aiming to make the treatment accessible to people around the world.',\n",
       " '\\nEmily was an aspiring musician who had a deep passion for classical music. Her perseverance paid off when she won a national music competition, earning her a scholarship to a prestigious music academy.',\n",
       " \"\\nIn a small town lived a humble baker named Tim. Within a year, Tim's bakery became the go-to place for all things sweet, and he lived happily, cherishing his hard-earned success.\")"
      ]
     },
     "execution_count": 20,
     "metadata": {},
     "output_type": "execute_result"
    }
   ],
   "source": [
    "# Additional examples to test the dynamic detailed summarize premium function\n",
    "example_1 = \"\"\"\n",
    "John was a dedicated physician who had always been fascinated by the complexities of the human brain. \n",
    "After years of research, he discovered a groundbreaking treatment for Alzheimer's disease. \n",
    "Despite initial skepticism from the medical community, he conducted multiple clinical trials which proved to be successful. \n",
    "His work was published in reputed medical journals and he received numerous awards for his contribution to medicine. \n",
    "John continued to work tirelessly, aiming to make the treatment accessible to people around the world.\n",
    "\"\"\"\n",
    "\n",
    "example_2 = \"\"\"\n",
    "Emily was an aspiring musician who had a deep passion for classical music. \n",
    "She practiced for hours every day, aiming to perfect her technique. \n",
    "Emily faced numerous challenges, including financial constraints and lack of proper training facilities. \n",
    "However, she never gave up and continued to pursue her dreams. \n",
    "Her perseverance paid off when she won a national music competition, earning her a scholarship to a prestigious music academy. \n",
    "Emily's journey was an inspiration to many, proving that dedication and hard work can overcome any obstacle.\n",
    "\"\"\"\n",
    "\n",
    "example_3 = \"\"\"\n",
    "In a small town lived a humble baker named Tim. He was well-known for his delicious pastries and cakes. \n",
    "One day, a food critic visited his bakery and wrote a stellar review. \n",
    "Soon, people from neighboring towns began visiting his bakery. \n",
    "Though Tim was thrilled with the newfound fame, he also felt overwhelmed with the increase in demand. \n",
    "He decided to expand his business and hired additional staff. \n",
    "Within a year, Tim's bakery became the go-to place for all things sweet, and he lived happily, cherishing his hard-earned success.\n",
    "\"\"\"\n",
    "\n",
    "# Run the function on these examples\n",
    "example_1_keywords = dynamic_detailed_summarize_premium(example_1, detail_level=1, context_type='report')\n",
    "example_2_keywords  = dynamic_detailed_summarize_premium(example_2, detail_level=1, context_type='story')\n",
    "example_3_keywords= dynamic_detailed_summarize_premium(example_3, detail_level=1, context_type='story')\n",
    "\n",
    "example_1_keywords,  example_2_keywords, example_3_keywords\n"
   ]
  },
  {
   "cell_type": "code",
   "execution_count": 21,
   "metadata": {},
   "outputs": [
    {
     "name": "stdout",
     "output_type": "stream",
     "text": [
      "Top 5 keywords are-:['lily', 'victor', 'art', 'painting', 'garden']\n"
     ]
    },
    {
     "data": {
      "text/plain": [
       "\"In a small, picturesque town nestled in the mountains, there lived a young woman named Lily. A wealthy collector named Victor, who lived in the nearby city, offered Lily a fortune for her latest creation. Lily refused Victor's offer. Lily's gift became renowned far and wide. But what made Lily's paintings truly special was their ability to come to life. Heartbroken but determined, Lily hatched a plan to rescue her masterpiece.\""
      ]
     },
     "execution_count": 21,
     "metadata": {},
     "output_type": "execute_result"
    }
   ],
   "source": [
    "dynamic_detailed_summarize_premium(test_text3,detail_level=1,context_type='story')"
   ]
  },
  {
   "cell_type": "code",
   "execution_count": 22,
   "metadata": {},
   "outputs": [
    {
     "name": "stdout",
     "output_type": "stream",
     "text": [
      "Top 5 keywords are-:['exercise', 'high', 'research', 'health', 'study']\n"
     ]
    },
    {
     "data": {
      "text/plain": [
       "'According to the latest research by the National Health Institute, exercise plays a crucial role in mental well-being. The study strongly recommends incorporating at least 30 minutes of moderate \\nexercise into daily routines for better mental health.'"
      ]
     },
     "execution_count": 22,
     "metadata": {},
     "output_type": "execute_result"
    }
   ],
   "source": [
    "reportss=\"\"\"According to the latest research by the National Health Institute, exercise plays a crucial role in mental well-being. \n",
    "The study surveyed 10,000 adults between the ages of 25 and 60. The respondents were categorized into three groups based \n",
    "on their exercise habits: low, moderate, and high. The research found a significant correlation between the amount of \n",
    "exercise and levels of stress, anxiety, and depression. Those in the 'high' exercise group reported 30% lower levels of \n",
    "stress compared to the 'low' exercise group. The study strongly recommends incorporating at least 30 minutes of moderate \n",
    "exercise into daily routines for better mental health.\n",
    "\"\"\"\n",
    "dynamic_detailed_summarize_premium(reportss,detail_level=2,context_type='report')"
   ]
  },
  {
   "cell_type": "code",
   "execution_count": 23,
   "metadata": {},
   "outputs": [
    {
     "name": "stdout",
     "output_type": "stream",
     "text": [
      "Top 5 keywords are-:['technology', 'work', 'data', 'innovations', 'implications']\n",
      "Top 5 keywords are-:['dragon', 'lived', 'lily', 'village', 'young']\n",
      "Top 5 keywords are-:['energy', 'renewable', 'wind', 'initiatives', 'important']\n",
      "Top 5 keywords are-:['report', 'habits', 'eating', 'physical', 'health']\n"
     ]
    },
    {
     "data": {
      "text/plain": [
       "('Technology has been advancing at an unprecedented rate, transforming the way we live, work, and interact. Despite these challenges, technology continues to evolve, presenting new opportunities and risks.',\n",
       " 'Once upon a time, in a small village, lived a young girl named Lily. Using her intelligence, Lily made a pact with the dragon, ending years of terror for her village. She returned a hero, and they all lived happily ever after. After a long and perilous journey, she found the dragon and discovered that it was only stealing because it was trying to feed its young ones.',\n",
       " 'In the last decade, renewable energy has emerged as a viable alternative to fossil fuels. Government policies are also increasingly supportive of renewable energy initiatives.',\n",
       " 'According to a recent report by the World Health Organization, the rate of obesity has tripled worldwide in the last 40 years. The report emphasizes that immediate actions are required to curb this growing health crisis.')"
      ]
     },
     "execution_count": 23,
     "metadata": {},
     "output_type": "execute_result"
    }
   ],
   "source": [
    "General=\"Technology has been advancing at an unprecedented rate, transforming the way we live, work, and interact. From smartphones to self-driving cars, technological innovations have made our lives more convenient. However, there are concerns about privacy, data security, and the ethical implications of certain technologies. Despite these challenges, technology continues to evolve, presenting new opportunities and risks.\"\n",
    "\n",
    "Story=\"Once upon a time, in a small village, lived a young girl named Lily. She was known for her kindness and bravery. The village was plagued by a fierce dragon that would come every month to take livestock and scare the villagers. Tired of living in fear, Lily decided to confront the dragon. Armed with her intelligence and a magical sword, she went into the mountain where the dragon lived. After a long and perilous journey, she found the dragon and discovered that it was only stealing because it was trying to feed its young ones. Using her intelligence, Lily made a pact with the dragon, ending years of terror for her village. She returned a hero, and they all lived happily ever after.\"\n",
    "\n",
    "Report=\"According to a recent report by the World Health Organization, the rate of obesity has tripled worldwide in the last 40 years. The report suggests that lack of physical activity and unhealthy eating habits are the main contributors to this epidemic. Governments are advised to implement policies promoting physical exercise and better eating habits. The report emphasizes that immediate actions are required to curb this growing health crisis.\"\n",
    "\n",
    "Article=\"In the last decade, renewable energy has emerged as a viable alternative to fossil fuels. With the looming climate crisis, it's more important than ever to shift towards sustainable energy sources. Solar and wind energy, in particular, have seen significant advancements. Government policies are also increasingly supportive of renewable energy initiatives. However, challenges such as storage and distribution remain. This article explores the potential of renewable energy and the obstacles that need to be overcome.\"\n",
    "g=dynamic_detailed_summarize_premium(General,detail_level=2,context_type='general')\n",
    "s=dynamic_detailed_summarize_premium(Story,detail_level=2,context_type='story')\n",
    "a=dynamic_detailed_summarize_premium(Article,detail_level=2,context_type='article')\n",
    "r=dynamic_detailed_summarize_premium(Report,detail_level=2,context_type='report')\n",
    "g,s,a,r"
   ]
  },
  {
   "cell_type": "code",
   "execution_count": 24,
   "metadata": {},
   "outputs": [
    {
     "name": "stdout",
     "output_type": "stream",
     "text": [
      "Top 5 keywords are-:['code', 'cursor', 'ai', 'anysphere', 'truell']\n"
     ]
    },
    {
     "data": {
      "text/plain": [
       "'Anysphere, a startup building what it describes as an “AI-native” software development environment, called Cursor, today announced that it raised $8 million in seed funding led by OpenAI’s Startup Fund with participation from former GitHub CEO Nat Friedman, Dropbox co-founder Arash Ferdowsi and other angel investors. There’s over 26 million developers around the world, and there’s a huge market for those that want a truly AI-native experience.”\\n\\nThe five-person Anysphere team is nothing if not ambitious, with a host of features they hope to get to on the development roadmap for Cursor. The new cash, which brings Anysphere’s total raised to $11 million, will be put toward hiring and supporting Anysphere’s AI and machine learning research, co-founder and CEO Michael Truell said\\n\\n“In the next several years, our mission is to make programming an order of magnitude faster, more fun and creative,” Truell told TechCrunch in an email interview. Cursor also features generative AI capabilities powered by OpenAI models, namely the ability to generate code from a prompt.'"
      ]
     },
     "execution_count": 24,
     "metadata": {},
     "output_type": "execute_result"
    }
   ],
   "source": [
    "article2=\"\"\"Anysphere, a startup building what it describes as an “AI-native” software development environment, called Cursor, today announced that it raised $8 million in seed funding led by OpenAI’s Startup Fund with participation from former GitHub CEO Nat Friedman, Dropbox co-founder Arash Ferdowsi and other angel investors.\n",
    "\n",
    "The new cash, which brings Anysphere’s total raised to $11 million, will be put toward hiring and supporting Anysphere’s AI and machine learning research, co-founder and CEO Michael Truell said\n",
    "\n",
    "“In the next several years, our mission is to make programming an order of magnitude faster, more fun and creative,” Truell told TechCrunch in an email interview. “Our platform enables all developers to build software faster.”\n",
    "\n",
    "Truell met Anysphere’s other co-founders, Sualeh Asif, Arvid Lunnemark and Aman Sanger, while at MIT, where they became close friends. The four shared the goal of creating an integrated development environment (IDE) that could speed up common programming and software building tasks, like debugging.\n",
    "\n",
    "To that end, Cursor, which is a fork of VS Code, Microsoft’s open source code editor, packs AI-powered tools designed to help developers write — and ask questions about — code. Cursor can respond to queries like “What service in VS Code lets me save a state to disk,” for instance, and pull up relevant documentation and code definitions as programmers work.\n",
    "\n",
    "Cursor also features generative AI capabilities powered by OpenAI models, namely the ability to generate code from a prompt. And it can passively scan files and surface potential bugs in codebases.\n",
    "\n",
    "“When people think ‘AI plus coding,’ their mind usually goes to AI-powered autocomplete,” Sanger said via email. “We think this has been done particularly well by GitHub Copilot and others, so we’re focused on features that come after autocomplete, like finding and fixing bugs and codebase Q&A.”\n",
    "\n",
    "Does Cursor have much hope of competing with the incumbents in the IDE space, though? That’s a reasonable question. According to StackOverflow’s 2023 Developer Survey, Microsoft’s Visual Studio Code remains far and away the most popular IDE, with ~73% of developers saying that it’s their go-to. The Anysphere team, indeed, sees Microsoft is their main competitor. And they acknowledge that the tech giant has a substantial distribution advantage. But they make the case that, because Visual Studio Code has a wide and varied customer base, Microsoft can’t make radical changes or ship major upgrades very quickly without risking alienating a portion of its users.\n",
    "\n",
    "“The ceiling in the AI coding space is so high — there’s so much to do — that it’s not possible to just clone the tech and then put great sales on top,” Truell said. “You need to constantly evolve the tech. There’s over 26 million developers around the world, and there’s a huge market for those that want a truly AI-native experience.”\n",
    "\n",
    "The five-person Anysphere team is nothing if not ambitious, with a host of features they hope to get to on the development roadmap for Cursor. In the coming months, the plan is to enable Cursor to make more complex edits across files and entire folders, improve at finding code and learn new libraries from documentation.\n",
    "\n",
    "In the meantime, Anysphere’s popularity is slowly growing, Truell claims, with tens of thousands of people on the platform and a “fast-growing” paying customer base. Annual recurring revenue is already over $1 million — an auspicious start for a roughly-one-year-old company.\n",
    "\n",
    "“For now, we’re focused on the individual and teams experience over Enterprise,” Sanger said. “In the long term, we believe Cursor will be a no-brainer for enterprises, given the massive boost in developer productivity.” \"\"\"\n",
    "dynamic_detailed_summarize_premium(article2,1,'article')"
   ]
  },
  {
   "cell_type": "code",
   "execution_count": 25,
   "metadata": {},
   "outputs": [
    {
     "name": "stdout",
     "output_type": "stream",
     "text": [
      "Top 5 keywords are-:['tiktok', 'post', 'video', 'apps', 'ai']\n"
     ]
    },
    {
     "data": {
      "text/plain": [
       "'TikTok today is introducing a new feature that will allow its users to post directly to the video platform from a range of popular editing apps, including Adobe’s AI-powered video editing software Premiere Pro, its AI creativity app Adobe Express, as well as others, including Twitch, SocialPilot and ByteDance’s CapCut. The company will now be offering Direct Post from Adobe Premiere Pro, which offers AI-powered video editing tools, and Adobe Express, a lightweight AI-powered creativity app. “With the new Direct Post feature for TikTok available in Adobe Express and Premiere Pro, creators can continue to create standout content, but with increased speed and without any interruption to their creative workflows.”\\n\\nOther partners include CapCut, a popular video editing tool from TikTok’s parent company ByteDance, which is also the second app from the company to hit the $100 million milestone, data.ai recently reported.'"
      ]
     },
     "execution_count": 25,
     "metadata": {},
     "output_type": "execute_result"
    }
   ],
   "source": [
    "article3=\"\"\"TikTok today is introducing a new feature that will allow its users to post directly to the video platform from a range of popular editing apps, including Adobe’s AI-powered video editing software Premiere Pro, its AI creativity app Adobe Express, as well as others, including Twitch, SocialPilot and ByteDance’s CapCut. The new offering, Direct Post, is actually aimed at the developers of third-party apps that want to integrate more closely with TikTok and builds on TikTok’s existing “Share to” integrations which allowed third-party apps to publish to TikTok along with their own hashtags.\n",
    "\n",
    "With Direct Post, however, apps not only have the ability to post video content directly to TikTok’s platform, they can also take advantage of other options, like the ability to set captions, audience settings and more within their own platform, then send information through to TikTok with a single click. In addition, the feature allows long-form video creators to schedule their content to publish to TikTok through social media management platforms.\n",
    "\n",
    "The addition will make it possible for TikTok to benefit from the advances in the wider creativity app landscape, including those apps that are leveraging AI technology as part of the video editing process.\n",
    "\n",
    "To use the feature, creators authenticate with their TikTok account within the third-party app. The apps that have partnered with TikTok are also vetted through an auditing process before being allowed to use Direct Post’s Content Posting API. \n",
    "\n",
    "Adobe, which just today unveiled a host of new AI software and technology at its annual MAX conference, is a key partner for TikTok’s new feature. The company will now be offering Direct Post from Adobe Premiere Pro, which offers AI-powered video editing tools, and Adobe Express, a lightweight AI-powered creativity app.\n",
    "\n",
    "“Now more than ever, publishing content in real-time has become a necessity, and creators of all skill levels need tools that can empower them with greater efficiency and without constraints,” said Deepa Subramaniam, Adobe VP of Creative Cloud product marketing, in a statement about the launch. “With the new Direct Post feature for TikTok available in Adobe Express and Premiere Pro, creators can continue to create standout content, but with increased speed and without any interruption to their creative workflows.”\n",
    "\n",
    "Other partners include CapCut, a popular video editing tool from TikTok’s parent company ByteDance, which is also the second app from the company to hit the $100 million milestone, data.ai recently reported.\n",
    "\n",
    "In addition, Twitch streamers will be able to use Twitch’s Clip Editor to covert their clips to portrait mode for direct sharing on TikTok and will also have the option to export their portrait clip to TikTok as a draft, so they can continue their edits.\n",
    "\n",
    "The social media marketing tool SocialPilot is adopting Direct Post, as well, bringing the option to professionals, teams, agencies and businesses that need to automate their social media posting.\n",
    "\n",
    "Access to the API is open to developers of creative tools and video editing apps. The API will soon support photos, too, TikTok notes.\"\"\"\n",
    "dynamic_detailed_summarize_premium(article3,1,'article')"
   ]
  },
  {
   "cell_type": "code",
   "execution_count": 26,
   "metadata": {},
   "outputs": [
    {
     "name": "stdout",
     "output_type": "stream",
     "text": [
      "Top 5 keywords are-:['mars', 'discovery', 'space', 'water', 'isri']\n",
      "Top 5 keywords are-:['mars', 'discovery', 'space', 'water', 'isri']\n"
     ]
    },
    {
     "data": {
      "text/plain": [
       "(['bookstore', 'wisdom', 'ventured', 'book', 'books'],\n",
       " 'In a groundbreaking discovery, scientists at the International Space Research Institute (ISRI) \\nhave found water on Mars. In conclusion, the discovery of water on Mars has opened up a new chapter in space exploration.',\n",
       " 'In a groundbreaking discovery, scientists at the International Space Research Institute (ISRI) \\nhave found water on Mars. In conclusion, the discovery of water on Mars has opened up a new chapter in space exploration. The ISRI plans to launch another mission to Mars next year to further investigate the discovery. After months of analysis, the ISRI team confirmed that \\nthey have found traces of liquid water. The discovery has significant implications for future space missions, including the possibility of human \\ncolonization of Mars.')"
      ]
     },
     "execution_count": 26,
     "metadata": {},
     "output_type": "execute_result"
    }
   ],
   "source": [
    "# Here's a long example of a news article.\n",
    "news_article = \"\"\"In a groundbreaking discovery, scientists at the International Space Research Institute (ISRI) \n",
    "have found water on Mars. The discovery was made possible by the latest Mars rover, named Curiosity 2.0, \n",
    "which landed on the red planet last year. The rover was equipped with advanced sensors and drilling equipment, \n",
    "allowing it to collect samples from the Martian soil. After months of analysis, the ISRI team confirmed that \n",
    "they have found traces of liquid water.\n",
    "\n",
    "The discovery has significant implications for future space missions, including the possibility of human \n",
    "colonization of Mars. \"This is a monumental step forward in our quest to find life beyond Earth,\" said Dr. Sarah Johnson, \n",
    "the lead scientist on the project. She further added, \"Water is essential for life as we know it, and its presence \n",
    "on Mars opens up new avenues for exploration.\"\n",
    "\n",
    "However, the discovery also poses several challenges, including the ethical implications of colonizing another planet. \n",
    "Some experts argue that we should focus on addressing the environmental issues on Earth before venturing into space. \n",
    "\"While this is an incredible scientific achievement, we must proceed with caution,\" said Dr. Emily Brown, an environmental \n",
    "ethicist. \"We need to consider the impact of human activity on Mars, especially when it comes to potential contamination.\"\n",
    "\n",
    "The ISRI plans to launch another mission to Mars next year to further investigate the discovery. The new mission, named \n",
    "Curiosity 3.0, will be equipped with more advanced technology and is expected to provide more detailed information. \n",
    "Curiosity 2.0 will continue to collect data until its operational lifespan expires.\n",
    "\n",
    "In conclusion, the discovery of water on Mars has opened up a new chapter in space exploration. It has rekindled interest \n",
    "in the subject and offers a glimmer of hope for future generations. Only time will tell what other secrets the red planet holds.\"\"\"\n",
    "\n",
    "# Extract important keywords\n",
    "# important_keywords = extract_important_keywords_v3(news_article, num_keywords=5)\n",
    "\n",
    "# Generate summaries with different detail levels\n",
    "summary_level_1, summary_level_2 = dynamic_detailed_summarize_premium(news_article, detail_level=1, context_type='article'), \\\n",
    "                                  dynamic_detailed_summarize_premium(news_article, detail_level=2, context_type='article')\n",
    "\n",
    "important_keywords, summary_level_1, summary_level_2\n"
   ]
  },
  {
   "cell_type": "code",
   "execution_count": 27,
   "metadata": {},
   "outputs": [
    {
     "name": "stdout",
     "output_type": "stream",
     "text": [
      "Top 5 keywords are-:['arthur', 'sorcerer', 'unicorn', 'kingdom', 'magic']\n",
      "Top 5 keywords are-:['arthur', 'sorcerer', 'unicorn', 'kingdom', 'magic']\n"
     ]
    },
    {
     "data": {
      "text/plain": [
       "('\\nOnce upon a time, in a land filled with magic and wonder, lived a young wizard named Arthur. However, he lived in a kingdom where magic was forbidden, and the king had ordered all wizards to be captured. Using his magic, he healed the unicorn and they became best friends.',\n",
       " '\\nOnce upon a time, in a land filled with magic and wonder, lived a young wizard named Arthur. However, he lived in a kingdom where magic was forbidden, and the king had ordered all wizards to be captured. Using his magic, he healed the unicorn and they became best friends. Arthur knew he had to stop him. Arthur had to keep his abilities a secret to avoid being discovered. The kingdom was saved, and Arthur was hailed as a hero.')"
      ]
     },
     "execution_count": 27,
     "metadata": {},
     "output_type": "execute_result"
    }
   ],
   "source": [
    "# Final example of a story for testing\n",
    "final_story = \"\"\"\n",
    "Once upon a time, in a land filled with magic and wonder, lived a young wizard named Arthur. Arthur was born with a special gift, the ability to speak to animals. However, he lived in a kingdom where magic was forbidden, and the king had ordered all wizards to be captured. Arthur had to keep his abilities a secret to avoid being discovered. One day, Arthur stumbled upon a wounded unicorn in the forest. Using his magic, he healed the unicorn and they became best friends. The unicorn told Arthur about an evil sorcerer who was planning to take over the kingdom. Arthur knew he had to stop him. With the help of the unicorn and other magical creatures, Arthur set out to defeat the sorcerer. After a long and dangerous journey, they finally reached the sorcerer's lair. A battle ensued, and just when it seemed like the sorcerer was going to win, Arthur used a powerful spell to defeat him. The kingdom was saved, and Arthur was hailed as a hero. However, he chose to keep his abilities a secret and returned to his quiet life in the forest, always cherishing the adventure that made him a true wizard.\n",
    "\"\"\"\n",
    "\n",
    "# Running the summarization function on the final story example\n",
    "final_story_summary_level1=dynamic_detailed_summarize_premium(final_story, detail_level=1, context_type='story')\n",
    "final_story_summary_level2 = dynamic_detailed_summarize_premium(final_story, detail_level=2, context_type='story')\n",
    "\n",
    "final_story_summary_level1,final_story_summary_level2"
   ]
  },
  {
   "cell_type": "code",
   "execution_count": 28,
   "metadata": {},
   "outputs": [
    {
     "name": "stdout",
     "output_type": "stream",
     "text": [
      "Top 5 keywords are-:['sir', 'cedric', 'dragon', 'eragon', 'king']\n",
      "Top 5 keywords are-:['sir', 'cedric', 'dragon', 'eragon', 'king']\n"
     ]
    },
    {
     "data": {
      "text/plain": [
       "('\\nIn a faraway kingdom, there was a brave knight named Sir Cedric. Feeling grateful, Eragon promised never to harm anyone again and flew Sir Cedric back to the kingdom. It introduced itself as Eragon and thanked Sir Cedric for his kindness. Upon his return, Sir Cedric narrated his adventure to the king and the villagers.',\n",
       " '\\nIn a faraway kingdom, there was a brave knight named Sir Cedric. Feeling grateful, Eragon promised never to harm anyone again and flew Sir Cedric back to the kingdom. It introduced itself as Eragon and thanked Sir Cedric for his kindness. Upon his return, Sir Cedric narrated his adventure to the king and the villagers. The king was worried and called upon Sir Cedric to defeat the dragon and save the villagers. Despite his numerous victories in battle, Sir Cedric never boasted about his achievements. From that day on, Eragon and the villagers lived in harmony, all thanks to the wise and kind Sir Cedric. With his sword at the ready, Sir Cedric stepped into the dark cave, \\nonly to find the dragon wounded and in pain. Realizing that the dragon was more afraid than ferocious, \\nSir Cedric decided to heal its wounds instead of killing it.')"
      ]
     },
     "execution_count": 28,
     "metadata": {},
     "output_type": "execute_result"
    }
   ],
   "source": [
    "# A long story as a new example\n",
    "long_story = '''\n",
    "In a faraway kingdom, there was a brave knight named Sir Cedric. He was known for his courage, wisdom, \n",
    "and a heart full of kindness. Despite his numerous victories in battle, Sir Cedric never boasted about his achievements. \n",
    "One day, news arrived that a ferocious dragon had been terrorizing a nearby village, burning their crops and houses. \n",
    "The king was worried and called upon Sir Cedric to defeat the dragon and save the villagers.\n",
    "\n",
    "Gathering his armor and sword, Sir Cedric set forth on his perilous journey to the dragon's lair. \n",
    "He crossed dark forests, climbed steep mountains, and swam across turbulent rivers. After many days and nights, \n",
    "he finally reached the cave where the dragon resided. With his sword at the ready, Sir Cedric stepped into the dark cave, \n",
    "only to find the dragon wounded and in pain. Realizing that the dragon was more afraid than ferocious, \n",
    "Sir Cedric decided to heal its wounds instead of killing it.\n",
    "\n",
    "Days passed, and the dragon's health improved. It introduced itself as Eragon and thanked Sir Cedric for his kindness. \n",
    "It turned out that Eragon had only attacked the village because hunters from there had tried to steal its eggs. \n",
    "Feeling grateful, Eragon promised never to harm anyone again and flew Sir Cedric back to the kingdom.\n",
    "\n",
    "Upon his return, Sir Cedric narrated his adventure to the king and the villagers. They were amazed at his bravery and wisdom. \n",
    "The king rewarded him with a chest full of gold and jewels, but Sir Cedric declined, saying that the real treasure was the friendship \n",
    "he had made with Eragon and the lesson he had learned about understanding and kindness.\n",
    "\n",
    "From that day on, Eragon and the villagers lived in harmony, all thanks to the wise and kind Sir Cedric. \n",
    "And they all lived happily ever after.\n",
    "'''\n",
    "\n",
    "# Applying the dynamic detailed summarization function\n",
    "\n",
    "summary_level_1= dynamic_detailed_summarize_premium(long_story, detail_level=1, context_type='story')\n",
    "summary_level_2 = dynamic_detailed_summarize_premium(long_story, detail_level=2, context_type='story')\n",
    "\n",
    "summary_level_1, summary_level_2\n"
   ]
  },
  {
   "cell_type": "markdown",
   "metadata": {},
   "source": [
    "* **TF-IDF Vectorization**: Term Frequency-Inverse Document Frequency (TF-IDF) is used to convert text data into numerical form. This is essential for understanding the importance of each word in the document.\n",
    "\n",
    "* **Cosine Similarity**: This is used to find the similarity between sentences. The idea is to select those sentences that are most similar to the entire document, which are assumed to be the most representative.\n",
    "\n",
    "* **Sentence Tokenization**: The text is broken down into individual sentences to allow for easier analysis and summary generation.\n",
    "\n",
    "* **Keyword Extraction**: Keywords are extracted from the text using TF-IDF. These keywords are then used to select important sentences.\n",
    "\n",
    "* **Context Weighting**: Different weights are given to the number of sentences in the summary based on the type of context (e.g., general, story, report, article).\n",
    "\n",
    "* **Sentence Selection**: Sentences that contain the important keywords are selected for the final summary.\n",
    "\n",
    "* **Detail Level Adjustment**: The number of sentences in the final summary can be adjusted based on a detail level parameter."
   ]
  },
  {
   "cell_type": "code",
   "execution_count": 29,
   "metadata": {},
   "outputs": [
    {
     "name": "stdout",
     "output_type": "stream",
     "text": [
      "Top 5 keywords are-:['jack', 'dragon', 'king', 'kingdom', 'lived']\n"
     ]
    },
    {
     "data": {
      "text/plain": [
       "'\\n    Once upon a time, in a faraway kingdom, there lived a king. The king had a beautiful daughter named Rose. However, a dragon terrorized the kingdom. The king announced a reward for anyone who could slay the dragon. The king was overjoyed and rewarded Jack with half of his kingdom. Jack married Rose, and they lived happily ever after.'"
      ]
     },
     "execution_count": 29,
     "metadata": {},
     "output_type": "execute_result"
    }
   ],
   "source": [
    "from sklearn.metrics.pairwise import linear_kernel\n",
    "from sklearn.feature_extraction.text import TfidfVectorizer, ENGLISH_STOP_WORDS\n",
    "from nltk.tokenize import sent_tokenize\n",
    "import numpy as np\n",
    "\n",
    "def extract_important_keywords(input_text, num_keywords=5):\n",
    "    my_stop_words = ENGLISH_STOP_WORDS.union(['s', 'mr'])\n",
    "    tfidf_vectorizer = TfidfVectorizer(stop_words=list(my_stop_words), min_df=1)\n",
    "    tfidf_matrix = tfidf_vectorizer.fit_transform([input_text])\n",
    "    feature_names = np.array(tfidf_vectorizer.get_feature_names_out())\n",
    "    tfidf_values = tfidf_matrix.toarray()[0]\n",
    "    sorted_indices = tfidf_values.argsort()[::-1]\n",
    "    top_keywords = feature_names[sorted_indices][:num_keywords]\n",
    "    print(f'Top {num_keywords} keywords are-:{top_keywords.tolist()}')\n",
    "    return top_keywords.tolist()\n",
    "\n",
    "def dynamic_detailed_summarize_premium(input_text, detail_level=1, context_type='general', important_keywords=None):\n",
    "    if important_keywords is None:\n",
    "        important_keywords = extract_important_keywords(input_text)\n",
    "    \n",
    "    sentences = sent_tokenize(input_text)\n",
    "    num_sentences = len(sentences)\n",
    "    \n",
    "    tfidf_vectorizer = TfidfVectorizer(stop_words='english')\n",
    "    tfidf_matrix = tfidf_vectorizer.fit_transform(sentences)\n",
    "    \n",
    "    cosine_similarities = linear_kernel(tfidf_matrix[0:1], tfidf_matrix).flatten()\n",
    "    related_sentences_indices = cosine_similarities.argsort()[:-num_sentences:-1]\n",
    "    \n",
    "    important_sentences = [(i, sentences[i]) for i in related_sentences_indices if any(kw in sentences[i].lower() for kw in important_keywords)]\n",
    "    \n",
    "    # Context weightage for adjusting the number of sentences based on context_type\n",
    "    context_weightage = {\n",
    "        'general': 1,\n",
    "        'story': 1.5,\n",
    "        'report': 1.2,\n",
    "        'article': 1.3  # Adding support for 'article' context\n",
    "    }\n",
    "    \n",
    "    num_output_sentences = max(2, int(detail_level * len(important_sentences) / 5 * context_weightage.get(context_type, 1)))\n",
    "    \n",
    "    # Sort the selected sentences based on their original positions to maintain chronological order\n",
    "    important_sentences = sorted(important_sentences[:num_output_sentences], key=lambda x: x[0])\n",
    "    selected_sentences = [sentence for index, sentence in important_sentences]\n",
    "    \n",
    "    return ' '.join(selected_sentences)\n",
    "\n",
    "\n",
    "\n",
    "# Testing the function with a sample text\n",
    "sample_text = \"\"\"\n",
    "    Once upon a time, in a faraway kingdom, there lived a king. The king had a beautiful daughter named Rose.\n",
    "    However, a dragon terrorized the kingdom. The king announced a reward for anyone who could slay the dragon.\n",
    "    Many knights tried and failed. Then, a young man named Jack decided to attempt it.\n",
    "    Jack was not a knight, but he had a good heart. He set out on his journey and reached the dragon's lair.\n",
    "    The dragon was fierce, but Jack was clever. He tricked the dragon and rescued the princess.\n",
    "    The king was overjoyed and rewarded Jack with half of his kingdom. Jack married Rose, and they lived happily ever after.\n",
    "\"\"\"\n",
    "\n",
    "dynamic_detailed_summarize_premium(sample_text, detail_level=2, context_type='story')\n"
   ]
  },
  {
   "cell_type": "markdown",
   "metadata": {},
   "source": [
    "# Comparing Two Technique of Important Keyword "
   ]
  },
  {
   "cell_type": "markdown",
   "metadata": {},
   "source": [
    "## 1st-: Term Frequency-Inverse Document Frequency (TF-IDF) algorithm"
   ]
  },
  {
   "cell_type": "code",
   "execution_count": 30,
   "metadata": {},
   "outputs": [
    {
     "name": "stdout",
     "output_type": "stream",
     "text": [
      "Top 5 keywords are-:['isri', 'months', 'water', 'space', 'the international space research institute']\n"
     ]
    },
    {
     "data": {
      "text/plain": [
       "['isri',\n",
       " 'months',\n",
       " 'water',\n",
       " 'space',\n",
       " 'the international space research institute']"
      ]
     },
     "execution_count": 30,
     "metadata": {},
     "output_type": "execute_result"
    }
   ],
   "source": [
    "from sklearn.feature_extraction.text import TfidfVectorizer, ENGLISH_STOP_WORDS\n",
    "from sklearn.metrics.pairwise import linear_kernel\n",
    "from nltk.tokenize import sent_tokenize, word_tokenize\n",
    "import spacy\n",
    "import numpy as np\n",
    "\n",
    "\n",
    "\n",
    "# Initialize Spacy for NER\n",
    "nlp = spacy.load(\"en_core_web_sm\")\n",
    "\n",
    "# Function to extract important named entities\n",
    "def extract_named_entities(input_text):\n",
    "    doc = nlp(input_text)\n",
    "    named_entities = [ent.text.lower() for ent in doc.ents]\n",
    "    return named_entities\n",
    "\n",
    "# Function to extract important key phrases\n",
    "def extract_key_phrases(input_text, num_key_phrases=5):\n",
    "    tfidf_vectorizer = TfidfVectorizer(stop_words='english', min_df=1)\n",
    "    tfidf_matrix = tfidf_vectorizer.fit_transform([input_text])\n",
    "    feature_names = np.array(tfidf_vectorizer.get_feature_names_out())\n",
    "    tfidf_values = tfidf_matrix.toarray()[0]\n",
    "    sorted_indices = tfidf_values.argsort()[::-1]\n",
    "    top_key_phrases = feature_names[sorted_indices][:num_key_phrases]\n",
    "    return top_key_phrases.tolist()\n",
    "\n",
    "# Function to extract important keywords, now including named entities and key phrases\n",
    "def extract_important_keywords(input_text, num_keywords=5):\n",
    "    # Extract named entities\n",
    "    named_entities = extract_named_entities(input_text)\n",
    "    \n",
    "    # Extract key phrases\n",
    "    key_phrases = extract_key_phrases(input_text, num_keywords)\n",
    "    \n",
    "    # Combine named entities and key phrases and take the unique ones\n",
    "    important_keywords = list(set(named_entities + key_phrases))\n",
    "    \n",
    "    # If more than num_keywords, truncate the list\n",
    "    if len(important_keywords) > num_keywords:\n",
    "        important_keywords = important_keywords[:num_keywords]\n",
    "    \n",
    "    print(f'Top {num_keywords} keywords are-:{important_keywords}')\n",
    "    return important_keywords\n",
    "\n",
    "# Sample text for testing\n",
    "sample_text = \"\"\"In a groundbreaking discovery, scientists at the International Space Research Institute (ISRI) \n",
    "have found water on Mars. After months of analysis, the ISRI team confirmed that \n",
    "they have found traces of liquid water. The discovery has significant implications for future space missions, \n",
    "including the possibility of human colonization of Mars.\"\"\"\n",
    "\n",
    "# Test the function\n",
    "extract_important_keywords(sample_text, num_keywords=5)\n"
   ]
  },
  {
   "cell_type": "markdown",
   "metadata": {},
   "source": [
    "## Named Entity Recognition"
   ]
  },
  {
   "cell_type": "code",
   "execution_count": 31,
   "metadata": {},
   "outputs": [
    {
     "name": "stdout",
     "output_type": "stream",
     "text": [
      "Top 5 named entities are-:['mars', 'the international space research institute']\n"
     ]
    },
    {
     "data": {
      "text/plain": [
       "['mars', 'the international space research institute']"
      ]
     },
     "execution_count": 31,
     "metadata": {},
     "output_type": "execute_result"
    }
   ],
   "source": [
    "# Importing the required packages for Named Entity Recognition (NER)\n",
    "import spacy\n",
    "\n",
    "def extract_named_entities(input_text, num_entities=5):\n",
    "    # Load the English NLP model from spaCy\n",
    "    nlp = spacy.load(\"en_core_web_sm\")\n",
    "    \n",
    "    # Process the input text using spaCy NLP pipeline\n",
    "    doc = nlp(input_text)\n",
    "    \n",
    "    # Create a dictionary to hold entities and their counts\n",
    "    entity_counts = {}\n",
    "    \n",
    "    # Loop through all the named entities in the processed document\n",
    "    for ent in doc.ents:\n",
    "        # Only consider entities that are not dates, numbers, or percentages\n",
    "        if ent.label_ not in [\"DATE\", \"TIME\", \"PERCENT\", \"MONEY\", \"QUANTITY\", \"ORDINAL\", \"CARDINAL\"]:\n",
    "            entity_counts[ent.text.lower()] = entity_counts.get(ent.text.lower(), 0) + 1\n",
    "    \n",
    "    # Sort the entities by their counts in descending order\n",
    "    sorted_entities = sorted(entity_counts.items(), key=lambda x: x[1], reverse=True)\n",
    "    \n",
    "    # Select the top num_entities\n",
    "    top_entities = [entity[0] for entity in sorted_entities[:num_entities]]\n",
    "    \n",
    "    print(f'Top {num_entities} named entities are-:{top_entities}')\n",
    "    return top_entities\n",
    "\n",
    "# Test the function with a sample text\n",
    "sample_text = '''\n",
    "In a groundbreaking discovery, scientists at the International Space Research Institute (ISRI) \n",
    "have found water on Mars. The ISRI plans to launch another mission to Mars next year to further investigate the discovery. \n",
    "After months of analysis, the ISRI team confirmed that they have found traces of liquid water. \n",
    "The discovery has significant implications for future space missions, including the possibility of human \n",
    "colonization of Mars.\n",
    "'''\n",
    "\n",
    "# Extract top 5 named entities\n",
    "extract_named_entities(sample_text)\n"
   ]
  },
  {
   "cell_type": "markdown",
   "metadata": {},
   "source": [
    "# Detailed-Dynamic Context-Aware Summarization\n",
    "## MEthods Names-:\n",
    "* **TF-IDF Vectorization**: Used to convert text into a numerical format that can be easily analyzed. Specifically used for keyword extraction.\n",
    "* **Cosine Similarity**: To find the similarity between sentences.\n",
    "* **Named Entity Recognition (NER)**: To extract important names, places, and other entities from the text.\n",
    "* **Sentence Tokenization**: To break down the text into individual sentences.\n",
    "* **Stop Words Removal**: To ignore commonly occurring words that don't carry significant meaning.\n",
    "* **Dynamic Detail Levels**: To adjust the length and detail of the summary.\n",
    "* **Context-based Weightage**: To adjust the number of sentences in the summary based on the type of text (e.g., story, report, article)."
   ]
  },
  {
   "cell_type": "code",
   "execution_count": 144,
   "metadata": {},
   "outputs": [
    {
     "name": "stdout",
     "output_type": "stream",
     "text": [
      "Keywords are-: ['mars', 'discovery', 'isri', 'water', 'space']\n",
      "Entities are-: ['mars', 'months', 'the international space research institute', 'next year']\n"
     ]
    },
    {
     "data": {
      "text/plain": [
       "'\\nIn a groundbreaking discovery, scientists at the International Space Research Institute (ISRI) \\nhave found water on Mars. In conclusion, the discovery of water on Mars has opened up a new chapter in space exploration.'"
      ]
     },
     "execution_count": 144,
     "metadata": {},
     "output_type": "execute_result"
    }
   ],
   "source": [
    "from sklearn.feature_extraction.text import TfidfVectorizer\n",
    "from sklearn.metrics.pairwise import linear_kernel\n",
    "from nltk.tokenize import sent_tokenize\n",
    "import numpy as np\n",
    "\n",
    "# Function to extract important keywords using TF-IDF\n",
    "def extract_important_keywords(input_text, num_keywords=5):\n",
    "    my_stop_words = list(ENGLISH_STOP_WORDS)\n",
    "    tfidf_vectorizer = TfidfVectorizer(stop_words=my_stop_words, min_df=1)\n",
    "    tfidf_matrix = tfidf_vectorizer.fit_transform([input_text])\n",
    "    feature_names = np.array(tfidf_vectorizer.get_feature_names_out())\n",
    "    tfidf_values = tfidf_matrix.toarray()[0]\n",
    "    sorted_indices = tfidf_values.argsort()[::-1]\n",
    "    top_keywords = feature_names[sorted_indices][:num_keywords]\n",
    "    return top_keywords.tolist()\n",
    "\n",
    "# Function to extract named entities using SpaCy\n",
    "def extract_named_entities(input_text):\n",
    "    nlp = spacy.load(\"en_core_web_sm\")\n",
    "    doc = nlp(input_text)\n",
    "    named_entities = [ent.text.lower() for ent in doc.ents]\n",
    "    named_entities=named_entities\n",
    "    return list(set(named_entities))\n",
    "\n",
    "# Function to generate dynamic detailed summaries\n",
    "# Let's make a modification to the sentence ordering in the summary generation function.\n",
    "def dynamic_detailed_summarize_premium(input_text, detail_level=1, context_type='general', important_keywords=None, important_entities=None):\n",
    "    if important_keywords is None:\n",
    "        important_keywords = extract_important_keywords(input_text)\n",
    "    \n",
    "    if important_entities is None:\n",
    "        important_entities = extract_named_entities(input_text)\n",
    "\n",
    "\n",
    "    print(f'Keywords are-: {important_keywords}')\n",
    "    print(f'Entities are-: {important_entities}')    \n",
    "    # Combine keywords and named entities for a more comprehensive set of important words\n",
    "    important_words = set(important_keywords + important_entities)\n",
    "    \n",
    "    sentences = sent_tokenize(input_text)\n",
    "    num_sentences = len(sentences)\n",
    "    \n",
    "    tfidf_vectorizer = TfidfVectorizer(stop_words='english')\n",
    "    tfidf_matrix = tfidf_vectorizer.fit_transform(sentences)\n",
    "    \n",
    "    cosine_similarities = linear_kernel(tfidf_matrix[0:1], tfidf_matrix).flatten()\n",
    "    related_sentences_indices = cosine_similarities.argsort()[:-num_sentences:-1]\n",
    "\n",
    "    important_sentences = [sentences[i] for i in related_sentences_indices if any(kw.lower() in sentences[i].lower() for kw in important_words)]\n",
    "    \n",
    "    # Context weightage for adjusting the number of sentences based on context_type\n",
    "    context_weightage = {\n",
    "        'general': 1,\n",
    "        'story': 1.5,\n",
    "        'report': 1.2,\n",
    "        'article': 1.3  # Adding support for 'article' context\n",
    "    }\n",
    "    \n",
    "    num_output_sentences = max(2, int(detail_level * len(important_sentences) / 5 * context_weightage.get(context_type, 1)))\n",
    "    \n",
    "    # Sort the sentences based on their original order to maintain chronological sequence\n",
    "    selected_sentences = sorted(important_sentences[:num_output_sentences], key=lambda x: sentences.index(x))\n",
    "    \n",
    "    return ' '.join(selected_sentences)\n",
    "\n",
    "\n",
    "# Example usage\n",
    "example_text = '''\n",
    "In a groundbreaking discovery, scientists at the International Space Research Institute (ISRI) \n",
    "have found water on Mars. After months of analysis, the ISRI team confirmed that \n",
    "they have found traces of liquid water. The discovery has significant implications for future space missions, including the possibility of human \n",
    "colonization of Mars. In conclusion, the discovery of water on Mars has opened up a new chapter in space exploration. \n",
    "The ISRI plans to launch another mission to Mars next year to further investigate the discovery.\n",
    "'''\n",
    "\n",
    "# Extract important keywords and named entities\n",
    "# important_keywords = extract_important_keywords(example_text)\n",
    "# named_entities = extract_named_entities(example_text)\n",
    "\n",
    "# Generate summary\n",
    "dynamic_detailed_summarize_premium(example_text, detail_level=2, context_type='report')\n",
    "\n"
   ]
  },
  {
   "cell_type": "code",
   "execution_count": 33,
   "metadata": {},
   "outputs": [
    {
     "name": "stdout",
     "output_type": "stream",
     "text": [
      "Keywords are-: ['tim', 'treasure', 'spirit', 'forest', 'village']\n",
      "Entities are-: ['ah, the haunted forest', 'tim', 'the haunted forest', 'jenkins', 'one day', 'man jenkins']\n"
     ]
    },
    {
     "data": {
      "text/plain": [
       "\"\\nOnce upon a time in a small village, there lived a young boy named Tim. Before setting out, Tim consulted the village's oldest and wisest resident, Old Man Jenkins. Jenkins had lived in the village for as long as anyone could remember and was a treasure trove of knowledge and folklore. But Tim was relentless. Tim took the treasure, a chest filled with gold and magical artifacts, and returned to his village. And so, Tim and his fellow villagers lived happily ever after.\""
      ]
     },
     "execution_count": 33,
     "metadata": {},
     "output_type": "execute_result"
    }
   ],
   "source": [
    "# Example of a long story text\n",
    "long_story_text = \"\"\"\n",
    "Once upon a time in a small village, there lived a young boy named Tim. Tim was an adventurous kid who was always looking for something exciting to do. \n",
    "One day, he heard about a magical treasure hidden deep within the Haunted Forest, a place most villagers avoided due to the frightening stories they'd heard. \n",
    "Fueled by curiosity and the allure of the treasure, Tim decided to embark on a journey to find it.\n",
    "\n",
    "Before setting out, Tim consulted the village's oldest and wisest resident, Old Man Jenkins. Jenkins had lived in the village for as long as anyone could remember and was a treasure trove of knowledge and folklore. \n",
    "\"Ah, the Haunted Forest,\" mused Jenkins, \"Many have entered, but few have returned. If you wish to go, you must be prepared. Take this enchanted compass; it will guide you to the treasure but beware of the guardian spirit that protects it.\"\n",
    "\n",
    "Armed with his new compass and a bag full of supplies, Tim set out for the Haunted Forest. The journey was perilous, filled with dangerous animals, treacherous terrain, and all sorts of mystical barriers. \n",
    "But Tim was relentless. Guided by the enchanted compass, he finally reached the heart of the forest where the treasure was said to be hidden. As he took his final steps towards it, the guardian spirit appeared.\n",
    "\n",
    "\"Who dares to seek the treasure of the Haunted Forest?\" boomed the spirit. Tim, although frightened, stood his ground. \n",
    "\"I am Tim, and I seek the magical treasure,\" he replied. The spirit looked into Tim's eyes and saw the purity of his intentions. \n",
    "\"Very well,\" said the spirit, \"You may take the treasure, but remember, it comes with a responsibility to use it wisely.\"\n",
    "\n",
    "Tim took the treasure, a chest filled with gold and magical artifacts, and returned to his village. He was hailed as a hero and went on to use the treasure to improve the lives of all the villagers. \n",
    "He built a school, a hospital, and even brought electricity to the village. And as for the guardian spirit, it continued to protect the forest but was never again seen by the villagers. \n",
    "Tim grew up to be a wise and generous leader, always remembering the lessons he had learned on his adventure.\n",
    "\n",
    "And so, Tim and his fellow villagers lived happily ever after. The end.\n",
    "\"\"\"\n",
    "\n",
    "dynamic_detailed_summarize_premium(long_story_text,1,'story')"
   ]
  },
  {
   "cell_type": "code",
   "execution_count": 34,
   "metadata": {},
   "outputs": [
    {
     "name": "stdout",
     "output_type": "stream",
     "text": [
      "Keywords are-: ['ai', 'chat', 'group', 'character', 'million']\n",
      "Entities are-: ['character', 'paris hilton', 'first', '$150 million', 'ai', 'whatsapp', 'charli d’amelio', 'albert einstein', 'tom brady', 'android', 'meta', 'beast', 'meta’s connect', 'earlier this year', 'the character group chat', 'monthly', 'poseidon', 'today', 'character group chat', 'zeus', 'its first six days', 'ai chatbot', 'half a million', '30 million', 'nikola tesla', '9.99', 'u.s.', 'around 7 million', '$1.3 million', 'series', 'stephen hawking', 'marie curie', 'snoop dog', 'instagram', 'late september', 'third', 'messenger']\n"
     ]
    },
    {
     "data": {
      "text/plain": [
       "'Character.AI, the a16z-backed AI chatbot startup from ex-Google AI researchers, is out today with a new feature for its subscribers. The Character Group Chat feature, as it’s called, allows users to create a group chat with their favorite AI characters only or it can feature a mix of both humans and AI companions, the company says. However, Character.AI’s new group chat experience won’t be offered for free. Instead, the feature is first being made available to the c.ai+ subscribers in order to gain feedback and make improvements.'"
      ]
     },
     "execution_count": 34,
     "metadata": {},
     "output_type": "execute_result"
    }
   ],
   "source": [
    "article4=\"\"\"Character.AI, the a16z-backed AI chatbot startup from ex-Google AI researchers, is out today with a new feature for its subscribers. The chatbot platform, which offers customizable AI companions with distinct personalities and tools to make your own, is now offering a group chat experience where users and their friends can chat with multiple AI characters at once.\n",
    "\n",
    "The Character Group Chat feature, as it’s called, allows users to create a group chat with their favorite AI characters only or it can feature a mix of both humans and AI companions, the company says. The idea is that users will be able to create social connections with friends, or share ideas and collaborate in real-time, as in any other group chat experience, but with their AI companions now in the mix.\n",
    "\n",
    "The company suggests users could try out having AI scientists and thinkers chat together, like  Albert Einstein, Marie Curie, Nikola Tesla, and Stephen Hawking, for example, or create a group chat with mythological gods like Zeus, Hades, and Poseidon.\n",
    "\n",
    "For more practical use cases, you might start a group chat with friends around a topic or theme — like travel, gaming, book clubs, or role-playing — then invite an AI companion to help facilitate and augment those conversations.\n",
    "\n",
    "The idea of adding AI chatbots into a group chat is not unique to Character.AI. Snapchat’s My AI chatbot can be added into group chats with the command @myai, while Meta recently introduced the ability to call up a host of new AI-powered bots across its apps, including WhatsApp, Messenger and Instagram’s DMs, including those that are based on celebrities like Mr. Beast, Paris Hilton, Tom Brady, Charli D’Amelio, Snoop Dog, and others. The latter announcement, made at Meta’s Connect conference in late September, was a potential threat to Character.AI which raised a whopping $150 million in Series A funding earlier this year for its concepts around AI companions.\n",
    "\n",
    "However, Character.AI’s new group chat experience won’t be offered for free. Instead, the feature is first being made available to the c.ai+ subscribers in order to gain feedback and make improvements. C.ai+ is the startup’s $9.99 per month subscription plan that offers the ability to skip waiting rooms and access to faster message generation as well as an exclusive community channel for feedback and support, among other things. The company says it will later open up to feature to the general public.\n",
    "\n",
    "At launch, Character Group Chat is also only available on the Character.AI mobile app on iOS and Android but will later roll out to the web.\n",
    "\n",
    "The company’s app initially topped half a million installs in its first six days and is said to be catching up with ChatGPT in the U.S. Third-party data from market intelligence provider data.ai indicates the app has close to 30 million monthly active users globally, and around 7 million in the U.S. The firm also estimates its lifetime gross in-app purchase revenue is $1.3 million, but c.ai+ is sold on the web so this is not a comprehensive look at its overall revenue.\"\"\"\n",
    "dynamic_detailed_summarize_premium(article4,1,'article')"
   ]
  },
  {
   "cell_type": "code",
   "execution_count": 35,
   "metadata": {},
   "outputs": [
    {
     "name": "stdout",
     "output_type": "stream",
     "text": [
      "Keywords are-: ['emma', 'music', 'played', 'listen', 'violin']\n",
      "Entities are-: ['one', 'every day', 'emma', 'the night', 'the \"healing violinist', 'samuel']\n"
     ]
    },
    {
     "data": {
      "text/plain": [
       "'In the heart of a bustling city, there lived a young woman named Emma. Emma was a skilled violinist who played her music on the street corner every day. But Emma had a secret. One chilly evening, as Emma played her violin, a homeless man named Samuel sat on the cold pavement, shivering and hungry. But when he heard Emma\\'s music, he was drawn to her, as if an invisible force was guiding him. He sat beside Emma, tears streaming down his face. Emma played with all her heart, pouring love and compassion into her melodies. Over time, Emma\\'s reputation as the \"Healing Violinist\" grew. She used her talent to bring comfort to those in need, to heal the broken, and to remind everyone that even in the midst of a bustling city, there was room for kindness and compassion. And so, in the heart of the bustling city, Emma\\'s violin continued to play, a beacon of hope and healing for all who had the privilege to listen.'"
      ]
     },
     "execution_count": 35,
     "metadata": {},
     "output_type": "execute_result"
    }
   ],
   "source": [
    "story2=\"\"\"In the heart of a bustling city, there lived a young woman named Emma. Emma was a skilled violinist who played her music on the street corner every day. Her melodies were like magic, and they filled the air with joy.\n",
    "\n",
    "But Emma had a secret. When she played her violin, the music had the power to heal. People who stopped to listen found their troubles and worries melting away. Emma's music could mend broken hearts, ease pain, and bring smiles to the faces of those who had forgotten how to smile.\n",
    "\n",
    "One chilly evening, as Emma played her violin, a homeless man named Samuel sat on the cold pavement, shivering and hungry. He had lost everything and felt completely alone. But when he heard Emma's music, he was drawn to her, as if an invisible force was guiding him.\n",
    "\n",
    "He sat beside Emma, tears streaming down his face. Her music wrapped around him like a warm blanket, and his despair began to fade. Emma played with all her heart, pouring love and compassion into her melodies.\n",
    "\n",
    "As the night wore on, the street filled with people who had been touched by Emma's music. They came with food, warm blankets, and kind words. Samuel, who had been a stranger, now had friends who cared for him.\n",
    "\n",
    "Over time, Emma's reputation as the \"Healing Violinist\" grew. People came from far and wide to listen to her music and experience its soothing power. She used her talent to bring comfort to those in need, to heal the broken, and to remind everyone that even in the midst of a bustling city, there was room for kindness and compassion.\n",
    "\n",
    "And so, in the heart of the bustling city, Emma's violin continued to play, a beacon of hope and healing for all who had the privilege to listen.\n",
    "\n",
    "\"\"\"\n",
    "dynamic_detailed_summarize_premium(story2,2,'story')"
   ]
  },
  {
   "cell_type": "code",
   "execution_count": 36,
   "metadata": {},
   "outputs": [
    {
     "name": "stdout",
     "output_type": "stream",
     "text": [
      "Keywords are-: ['emma', 'bustling', 'heart', 'city', 'played']\n",
      "Entities are-: ['one', 'every day', 'emma', 'the \"healing violinist', 'samuel']\n"
     ]
    },
    {
     "data": {
      "text/plain": [
       "\"'In the heart of a bustling city, there lived a young woman named Emma. And so, in the heart of the bustling city, Emma's violin continued to play, a beacon of hope and healing for all who had the privilege to listen.'\""
      ]
     },
     "execution_count": 36,
     "metadata": {},
     "output_type": "execute_result"
    }
   ],
   "source": [
    "summarized_story=\"\"\"'In the heart of a bustling city, there lived a young woman named Emma. Emma was a skilled violinist who played her music on the street corner every day. But Emma had a secret. One chilly evening, as Emma played her violin, a homeless man named Samuel sat on the cold pavement, shivering and hungry. But when he heard Emma\\'s music, he was drawn to her, as if an invisible force was guiding him. He sat beside Emma, tears streaming down his face. Emma played with all her heart, pouring love and compassion into her melodies. Over time, Emma\\'s reputation as the \"Healing Violinist\" grew. She used her talent to bring comfort to those in need, to heal the broken, and to remind everyone that even in the midst of a bustling city, there was room for kindness and compassion. And so, in the heart of the bustling city, Emma\\'s violin continued to play, a beacon of hope and healing for all who had the privilege to listen.'\"\"\"\n",
    "dynamic_detailed_summarize_premium(summarized_story,1,'story')"
   ]
  },
  {
   "cell_type": "code",
   "execution_count": 37,
   "metadata": {},
   "outputs": [
    {
     "name": "stdout",
     "output_type": "stream",
     "text": [
      "Keywords are-: ['jack', 'kingdom', 'king', 'arthur', 'dragon']\n",
      "Entities are-: ['half', 'fiona', 'knights', 'arthur', 'king arthur', 'one day', 'jack']\n"
     ]
    },
    {
     "data": {
      "text/plain": [
       "'\\nOnce upon a time in a kingdom far, far away, there was a wise and just king named Arthur. King Arthur had a daughter, \\nPrincess Fiona, who was the jewel of his eye. The villagers were terrified and turned to King Arthur for help. The villagers celebrated his bravery and King Arthur rewarded him with half of his kingdom and \\nthe hand of Princess Fiona in marriage. Jack married Fiona and became the new king after Arthur.'"
      ]
     },
     "execution_count": 37,
     "metadata": {},
     "output_type": "execute_result"
    }
   ],
   "source": [
    "# Generate a longer story example\n",
    "long_story_example = \"\"\"\n",
    "Once upon a time in a kingdom far, far away, there was a wise and just king named Arthur. King Arthur had a daughter, \n",
    "Princess Fiona, who was the jewel of his eye. The kingdom was peaceful and prosperous, but this peace was shattered when a \n",
    "dragon started terrorizing the village. The dragon would fly in from its mountain lair and set houses on fire, steal livestock, \n",
    "and frighten the children. The villagers were terrified and turned to King Arthur for help.\n",
    "\n",
    "King Arthur was deeply concerned and announced a reward for anyone who could slay the dragon. Knights from all around the kingdom \n",
    "and even from distant lands came to try their luck, but none succeeded. The dragon was too strong and cunning for them.\n",
    "\n",
    "One day, a humble farmer named Jack decided to take on the challenge. Jack was poor but very clever. He had read in ancient \n",
    "texts about a magical sword that was designed to kill dragons. This sword was hidden in a cave guarded by mystical creatures. \n",
    "Jack embarked on a perilous journey to find the sword. He fought off wolves, crossed treacherous terrains, and finally reached the \n",
    "cave. With his wit and bravery, he defeated the mystical creatures and acquired the magical sword.\n",
    "\n",
    "Armed with the magical sword, Jack returned to the kingdom and faced the dragon. After a fierce battle, Jack managed to slay the \n",
    "dragon and saved the kingdom. The villagers celebrated his bravery and King Arthur rewarded him with half of his kingdom and \n",
    "the hand of Princess Fiona in marriage.\n",
    "\n",
    "Jack married Fiona and became the new king after Arthur. Under his rule, the kingdom was peaceful, prosperous, and free from any \n",
    "danger. Jack and Fiona lived happily ever after, and so did their subjects. The end.\n",
    "\"\"\"\n",
    "\n",
    "# Extract important keywords and named entities, and generate the summary\n",
    "dynamic_detailed_summarize_premium(long_story_example, detail_level=1, context_type='story')\n",
    "\n"
   ]
  },
  {
   "cell_type": "code",
   "execution_count": 38,
   "metadata": {},
   "outputs": [
    {
     "name": "stdout",
     "output_type": "stream",
     "text": [
      "Keywords are-: ['ai', 'new', 'jobs', 'financial', 'efficiency']\n",
      "Entities are-: ['artificial intelligence (ai', 'ai', '24/7']\n"
     ]
    },
    {
     "data": {
      "text/plain": [
       "'Artificial Intelligence (AI) is rapidly transforming industries across the globe. While some argue that AI will create new jobs in AI development and maintenance, there are valid worries about the workers who may not have the skills or resources to transition into these new roles. In conclusion, the impact of AI on the labor market is multifaceted. To harness the full potential of AI, it is crucial to invest in workforce development and explore new economic models that ensure the well-being of all individuals in an AI-driven world.'"
      ]
     },
     "execution_count": 38,
     "metadata": {},
     "output_type": "execute_result"
    }
   ],
   "source": [
    "article5=\"\"\"Artificial Intelligence (AI) is rapidly transforming industries across the globe. From self-driving cars to virtual personal assistants, AI is making significant advancements that promise to improve efficiency and productivity. However, as AI technology continues to evolve, it also raises concerns about its impact on the labor market.\n",
    "\n",
    "AI has the potential to automate various tasks and processes, leading to increased efficiency and reduced labor costs for businesses. For example, in the manufacturing sector, robots and AI-powered machines can perform repetitive and physically demanding tasks more accurately and tirelessly than human workers. This reduces the need for manual labor and can lead to cost savings for companies.\n",
    "\n",
    "In the service industry, virtual assistants and chatbots are increasingly replacing human customer service representatives. These AI systems can handle customer inquiries, provide support, and even process orders 24/7, eliminating the need for a large workforce. This automation can improve response times and reduce operational costs.\n",
    "\n",
    "In the financial sector, AI algorithms can analyze vast amounts of data to make investment decisions, manage portfolios, and detect fraudulent activities. This not only enhances the accuracy of financial operations but also reduces the need for human financial analysts.\n",
    "\n",
    "However, the increasing automation of jobs through AI can also lead to job displacement and concerns about unemployment. While some argue that AI will create new jobs in AI development and maintenance, there are valid worries about the workers who may not have the skills or resources to transition into these new roles.\n",
    "\n",
    "To address these concerns, governments and organizations must invest in workforce development and retraining programs to help workers acquire the skills necessary for the jobs of the future. Additionally, there is a growing movement to establish universal basic income (UBI) programs to provide financial support to individuals who lose their jobs due to AI and automation.\n",
    "\n",
    "Despite these challenges, AI also presents new opportunities for innovation and growth. As AI continues to advance, it opens up new avenues for businesses to develop novel products and services. For example, AI-powered healthcare applications can improve patient care and diagnostics. AI-driven transportation systems can enhance the safety and efficiency of travel.\n",
    "\n",
    "In conclusion, the impact of AI on the labor market is multifaceted. While it brings the promise of increased efficiency and reduced costs for businesses, it also poses challenges related to job displacement. To harness the full potential of AI, it is crucial to invest in workforce development and explore new economic models that ensure the well-being of all individuals in an AI-driven world.\n",
    "\n",
    "\"\"\"\n",
    "dynamic_detailed_summarize_premium(article5,1,'article')"
   ]
  },
  {
   "cell_type": "code",
   "execution_count": 39,
   "metadata": {},
   "outputs": [],
   "source": [
    "text=\"\"\"A security researcher says a bug on an Indian state government website inadvertently revealed documents containing residents’ Aadhaar numbers, identity cards, and copies of their fingerprints.\n",
    "\n",
    "The bug was fixed last week after the security researcher disclosed the bug to local authorities.\n",
    "\n",
    "Sourajeet Majumder found the bug in the West Bengal government’s e-District web portal that allows state residents to access government services online, like obtaining birth and death certificates and building applications. Majumder said the website bug meant it was possible to obtain land deeds, which contain records about the owners of a piece of land, from the e-District website by guessing sequential deed application numbers.\n",
    "\n",
    "Application identification numbers are unique 16-digit numbers issued by the state government when a local resident applies for a digital copy of a deed. Not every application identification number was valid. Using publicly available tools like Burp Suite to analyze the network traffic in and out of the website meant that Majumder could cycle through entire lists of sequential application numbers and use the responses from the server to determine if an application identification number was valid.\n",
    "\n",
    "With access to an application identification number, anyone with a login to the e-District system could access a copy of a land deed. Two land deed records seen by TechCrunch contain the names of the individuals involved with the deed, their photographs, and their full set of fingerprints from both hands. It’s not uncommon to see multiple individuals on a single deed.\n",
    "\n",
    "The deeds also contain the individuals’ government-issued identity documents, including their confidential Aadhaar numbers, which every citizen is assigned as part of India’s national identity and biometric database. Aadhaar numbers are required for accessing banking, cell phone plans, and many government services.\n",
    "\n",
    "Majumder reported the website vulnerability to India’s computer emergency response team, known as CERT-In, and the West Bengal government, fearing that the vulnerability could be misused for identity fraud. The bug was fixed soon after.\n",
    "\n",
    "It’s not known if anyone else other than Majumder discovered the bug. Representatives for the West Bengal government and CERT-In did not return requests for comment. The West Bengal government’s e-District website says it has processed more than 17 million applications to date, though it’s not known how many relate to land deeds.\n",
    "\n",
    "Local media reports a recent rise in fraud linked to the alleged theft of biometric information, which criminals are said to be using to empty bank accounts.\"\"\""
   ]
  },
  {
   "cell_type": "code",
   "execution_count": 40,
   "metadata": {},
   "outputs": [
    {
     "name": "stdout",
     "output_type": "stream",
     "text": [
      "Keywords are-: ['government', 'numbers', 'bug', 'deed', 'website']\n",
      "Entities are-: ['16', 'india', 'two', 'burp suite', 'more than 17 million', 'west bengal', 'techcrunch', 'last week', 'aadhaar', 'indian']\n"
     ]
    },
    {
     "data": {
      "text/plain": [
       "'A security researcher says a bug on an Indian state government website inadvertently revealed documents containing residents’ Aadhaar numbers, identity cards, and copies of their fingerprints. The bug was fixed last week after the security researcher disclosed the bug to local authorities. Sourajeet Majumder found the bug in the West Bengal government’s e-District web portal that allows state residents to access government services online, like obtaining birth and death certificates and building applications. The deeds also contain the individuals’ government-issued identity documents, including their confidential Aadhaar numbers, which every citizen is assigned as part of India’s national identity and biometric database.'"
      ]
     },
     "execution_count": 40,
     "metadata": {},
     "output_type": "execute_result"
    }
   ],
   "source": [
    "dynamic_detailed_summarize_premium(text,1,'article')"
   ]
  },
  {
   "cell_type": "code",
   "execution_count": 78,
   "metadata": {},
   "outputs": [],
   "source": [
    "article6=\"\"\"Gaza, despite being one of the most economically challenged regions in the world, has ironically always been a tech hub — not only for Palestine and Palestinians, but for the world: international companies have, for many years, sought out a presence there to collaborate both with with talented tech freelancers, and the startups which gradually emerged from the region. For examples, according to sources who helped build those bridges, Nvidia, famed for it’s role in the new AI boom, has been working with at least 100 engineers from the region for years.\n",
    "Since at least 2008 TechCrunch been covering technology companies out of Palestine, some serving their direct audience, some serving the tech world internationally. Silicon Valley had taken an increasing interest in Palestine as a tech hub, but like the ecosystem itself, it’s nascent: to date, those working in the region estimate that much as $10 million has been invested in the Palestinian tech ecosystem.\n",
    "Notably, in 2017, Salesforce founder and CEO Marc Benioff joined Silicon Valley luminaries in backing the first ever coding academy to be created in Gaza.\n",
    "Gaza Sky Geeks, an Alphabet-backed initiative based in Gaza that provides pre-seed investments, training and technology resources to Palestine’s Gazan population, has been a beacon of entrepreneurship in the region.\n",
    "All of that is now, effectively, gone, like the buildings in Gaza itself.\n",
    "Israel is currently retaliating militarily against the attacks on its people, on its soil, and the hostages subsequently taken by Hamas — the ruling organisation in Gaza that kidnapped at least 150 people and took them into Gaza during brutal attacks on Israel at the weekend that killed 1,300 people.\n",
    "That strategy has seen it pummelling the ‘Gaza Strip’ with bombs to eradicate it of Hamas and to get its hostages back. Over 1,500 people in Palestine so far have been killed as a result. The tech industry in Israel — the country’s biggest export, and its biggest single contributor to GDP — is also taking a big knock (read about that here), but the impact on the smaller and more fragile ecosystem in Gaza has been, inevitably, significantly more serious. The physical, economic and societal destruction resulting from that leaves any future for the tech industry there in doubt.\n",
    "Quite simply, there is no escaping the consequences of the war for anyone, let alone tech workers.\n",
    "“What is happening to tech in Gaza is that Israel is crunching it. Obliterating it,” one source, inside the territory, told TechCrunch.\n",
    "Israel has now amassed soldiers near the north of Gaza, ahead of an expected ground offensive into the densely populated enclave. About 1.1 million people living in northern areas have been told to leave in the next day. The UN has warned of “devastating humanitarian consequences” from these latest moves. A total blockade on the territory is being enforced with fuel, food and water running out. Israel says it won’t lift the restrictions unless Hamas frees all hostages.\n",
    "Speaking to Ryan Sturgill, an American national and former head of the Gaza Sky Geeks accelerator run by sponsor Mercy Corps, and NGO aid organisation, the situation on the ground appears dire, after waves of shelling by the Israeli military.\n",
    "“The area around the the Mercy Corps building, which housed Gaza Sky Geeks, has been levelled. The structure is standing but blown out. The front of it is sort of ripped off,” he said.\n",
    "Gaza Sky Geeks (GSG) is the largest tech-hub in Palestine, providing a wide range of tech training at scale. In 2022, 5,000 coders and developers from across the West Bank and Gaza graduated from the programme.\n",
    "Video evidence (pictured above) posted on Linkedin shows a blown-out building with the Mercy Corps sign.\n",
    "“Who knows what’s going to happen. The offices are destroyed, the fibre lines are destroyed. The universities are destroyed. Three main universities in Gaza that produce all the computer science grads are levelled. I don’t even know if people will be ever be able to go back to Northern Gaza after what’s happening today.The educational institutions that are there are gone,” Sturgill added.\n",
    "He had been helping Palestinian tech startups raise capital in the West Bank and Gaza since January.\n",
    "“Until now, there had been a pretty significant growth. A lot of companies in Saudi Arabia have been setting up back offices [in Palestine] for development for all sorts of new companies and even apps that are that are now growing in the Gulf, because Saudi has been growing so quickly on the tech front. Nvidia, and other international companies, has outsourcing operations in Palestine. Apple has outsourcing operations, Microsoft has R&D, and they would even like to see those expand. There’s companies that had 200 developers sitting in offices in Ramallah,” he said.\n",
    "“I’ve talked to all of the heads of these different offices, most of them are in in Israel. They are very positive people who want to try to support the tech industry there and those efforts have been working well and growing,” he added.\n",
    "Indeed, one of the main Palestinian VC funds, Ibtikar, had recently raised its second fund of $30 million.\n",
    "High growth companies emerging from Palestine include Menalytics (data analytics, invested in by Flat 6 labs); Olivery (last mile logistics, Flat6Labs and Ibtikar Fund); Coretava (employee and customer loyalty); and Sellenvo (an Amazon fulfillment partner).\n",
    "Sturgill said that as well as the intensely difficult conditions in Gaza, which is being hit by Israeli missiles, the situation in Ramallah is “super tense. I feel like the situation is going to get significantly worse there over the coming weeks.”\n",
    "Iliana Montauk, is co-Founder and CEO of Manara — a social impact startup funded by Y Combinator, Seedcamp, Reid Hoffman, Eric Ries, Marc Benioff, Paul Graham, and Jessica Livingston, among others — told Techcrunch via email that connectivity has decreased significantly in the past 24 hours.\n",
    "“Though Gaza has been bombed many times before, this time is completely different for the tech sector for several reasons. Electricity was cut off to the entire [Gaza] strip. A significant amount of infrastructure has been bombed (including both ISPs and many tall apartment buildings that hold cell phone towers). Entire middle-class neighborhoods are being destroyed.”\n",
    "She said in the past if an entire neighborhood got destroyed, it was usually one bordering Israel and a poorer area, thus less impacting the tech sector.\n",
    "“The tech sector is almost completely unable to function in Gaza right now,” she said. “Most people are in too much danger to be able to work; some have evacuated three times in the past 24 hours, moving from friend’s house to family house, because each neighborhood they end up in is the next one being bombed. They usually receive warnings to evacuate their homes 10 minutes before a bombing, so they don’t sleep and monitor the situation constantly ready to evacuate in a minute’s notice.”\n",
    "“Most people have lost cell phone connections and internet access completely, or have some access to 2G only on their cell phones.. Electricity is no longer being provided even for a few hours a day now, and people are running out of gas for their generators,” she added.\n",
    "Manara has around 100 software engineers in Gaza, some working remotely for tech companies in Silicon Valley/Europe.\n",
    "Montauk said one software engineer who works at Upwork disappeared for several days, until being found alive.\n",
    "Dalia Awad, whose Medium post about getting into Google from Gaza went viral in 2021 (it was at one point #1 on Hacker News and tweeted by Paul Graham), returned to Gaza after her internships at Google and Datadog to graduate from university. She had a full-time job offer at Datadog in Paris but decided to stay home in Gaza and look for a remote job so she could be close to family.\n",
    "On Tuesday she wrote to Montauk saying: “Tonight was the worst night ever. My family and I are good, thankfully. The bombing was everywhere and we couldn’t know where it was because there was no internet. Many of my friends lost their houses in the Rimal area.. There is no wifi internet, we connect to the cellular data on our phones but it’s only 2G and it connects for a few minutes then cuts off. We can only send Whatsapp messages. So we can’t really read news on social media. In the morning we saw these videos from our friends who shared it on whatsapp but it takes FOREVER to download a video of a few seconds.”\n",
    "Montauk said Awad had not responded to her in the past day.\n",
    "Mai Temraz, Manara’s first employee, is based in San Bernardino, California. Her family live in Gaza City. They narrowly escaped a bombing (she posted [Content warning] a video on Instagram of them bleeding). She said: “My family barely survived an attack on a building next to them in Gaza. They ask people to leave, WHERE?? No one is save [sic.] anywhere in Gaza.”\n",
    "Montauk, a former director of Gaza Gaza Sky Geeks, said: “Before this escalation, the Gaza tech scene was growing. I was just in Riyadh and met companies that hire entire software development teams in Gaza. Upwork and other Silicon Valley companies are now hiring software engineers remotely from Gaza. In addition, some had left to work abroad at companies like Google, Amazon, Qualtrics, etc. Last time I was in Gaza a year ago, almost everyone I talked to asked me how they could get a job and leave Gaza. They were worried about more bombings and wanted to bring their children up in a place without such a high risk. These people just want to live normal lives.”\n",
    "Those who are living in the West Bank say the activity in Gaza has had an inevitable impact.\n",
    "“For a Palestinian young woman like me living in the West Bank, I can confirm that there has been a noticeable freeze in terms of activity,” said Leen Abubaker of Flow Accelerator and Cofounder at Sawaed19. “Tech companies are either operating on a very limited scale, with employees struggling to reach their offices in the West Bank due to unsafe roads blocked by Israeli occupation forces and settlers, or they have been forced out of business entirely in Gaza.”\n",
    "She added that a number of building in Gaza key to the tech industry there, such as Burj Al-Wattan, had been destroyed by Israeli airstrikes and that the tech industry is not the first priority people in the urgent situation. “How can you possibly detach from the distressing reality and cling to the remaining shreds of hope for your business?”\n",
    "Mohammad Alnobani is a Palestinian founder of The Middle Frame, an Arab stock image platform powered by AI tools, aiming to shatter stereotypes about the Arab world through images and reducing bias in AI.\n",
    "He told me he was on his way back from the One Young World Summit in Belfast, speaking about peace and reconciliation, and about to reach the borders to cross to Palestine to get back to his family, when the war broke out.\n",
    "“The borders closed down and I had to turn around and go back to Jordan,” he said. “I am still there, continuously checking on my family in Jerusalem, and trying to reach out to my connections in Gaza.” His co-founder, Raya Fatayer, is in Ramallah, staying at home with her baby and husband, not able to travel.\n",
    "“Our fellow entrepreneurs in Gaza had their homes demolished by air strikes, some we can’t even reach anymore since the electricity is out and they have no power,” he said. “Dealing with the situation while trying our best to move forward with our work is a daily challenge.”\n",
    "He said this outbreak of hosilities with Israel is clearly different: “Before, every time Gaza faced air strikes, we knew that certain areas were almost safe. Clearly today, nobody is safe.”\n",
    "\"\"\"\n"
   ]
  },
  {
   "cell_type": "code",
   "execution_count": null,
   "metadata": {},
   "outputs": [],
   "source": []
  },
  {
   "cell_type": "code",
   "execution_count": 79,
   "metadata": {},
   "outputs": [
    {
     "name": "stdout",
     "output_type": "stream",
     "text": [
      "Keywords are-: ['gaza', 'tech', 'people', 'said', 'companies']\n",
      "Entities are-: ['leen abubaker', 'manara', 'a few hours', 'the morning', 'around 100', 'years', 'silicon valley', 'silicon valley/europe', 'gazan', 'hacker news', 'linkedin', 'apple', 'jerusalem', 'instagram of them', '1,300', 'at least 150', '2', 'about 1.1 million', 'eric ries', 'nvidia', 'northern gaza', 'the middle frame', 'reid hoffman', 'first', 'the coming weeks', 'google and datadog', 'riyadh', 'ai', 'whatsapp', 'techcrunch', 'at least 2008', '1,500', 'the gaza sky geeks', 'forever', '200', 'daily', 'today', 'raya fatayer', 'jordan', 'january', 'tuesday', 'mai temraz', 'one', 'ibtikar fund', 'sellenvo', 'three', 'dalia awad', 'datadog', 'the west bank', 'one point #1', 'arab', 'marc benioff', 'mercy corps', 'a year ago', 'olivery', 'paul graham', 'sky geeks', 'gsg', 'seedcamp', '10 minutes', 'burj al-wattan', 'several days', 'belfast', '2022', 'ramallah', 'tonight', 'coretava', 'gaza city', 'gaza', 'the next day', 'gaza sky geeks', 'saudi', 'ibtikar', 'un', 'american', 'san bernardino', 'microsoft', '6', 'palestinian', 'israel', 'menalytics', 'much as $10 million', 'a few minutes', 'alphabet', '2017', 'iliana montauk', 'the ‘gaza strip', 'y combinator', 'montauk', 'qualtrics', 'saudi arabia', 'awad', 'mohammad alnobani', 'palestinians', 'jessica livingston', 'gulf', '$30 million', 'sturgill', 'second', 'the past 24 hours', 'ngo', 'california', 'ryan sturgill', 'last mile', 'amazon', '2021', 'paris', 'a few seconds', 'the weekend', 'many years', '5,000', 'palestine', 'hamas', 'israeli', 'google', 'the past day', 'at least 100']\n"
     ]
    },
    {
     "data": {
      "text/plain": [
       "'Gaza, despite being one of the most economically challenged regions in the world, has ironically always been a tech hub — not only for Palestine and Palestinians, but for the world: international companies have, for many years, sought out a presence there to collaborate both with with talented tech freelancers, and the startups which gradually emerged from the region. For examples, according to sources who helped build those bridges, Nvidia, famed for it’s role in the new AI boom, has been working with at least 100 engineers from the region for years. Since at least 2008 TechCrunch been covering technology companies out of Palestine, some serving their direct audience, some serving the tech world internationally. Silicon Valley had taken an increasing interest in Palestine as a tech hub, but like the ecosystem itself, it’s nascent: to date, those working in the region estimate that much as $10 million has been invested in the Palestinian tech ecosystem. Gaza Sky Geeks, an Alphabet-backed initiative based in Gaza that provides pre-seed investments, training and technology resources to Palestine’s Gazan population, has been a beacon of entrepreneurship in the region. Quite simply, there is no escaping the consequences of the war for anyone, let alone tech workers. “What is happening to tech in Gaza is that Israel is crunching it. Gaza Sky Geeks (GSG) is the largest tech-hub in Palestine, providing a wide range of tech training at scale. He had been helping Palestinian tech startups raise capital in the West Bank and Gaza since January. A lot of companies in Saudi Arabia have been setting up back offices [in Palestine] for development for all sorts of new companies and even apps that are that are now growing in the Gulf, because Saudi has been growing so quickly on the tech front. Nvidia, and other international companies, has outsourcing operations in Palestine. “Though Gaza has been bombed many times before, this time is completely different for the tech sector for several reasons. “The tech sector is almost completely unable to function in Gaza right now,” she said. Manara has around 100 software engineers in Gaza, some working remotely for tech companies in Silicon Valley/Europe. anywhere in Gaza.”\\nMontauk, a former director of Gaza Gaza Sky Geeks, said: “Before this escalation, the Gaza tech scene was growing. Upwork and other Silicon Valley companies are now hiring software engineers remotely from Gaza. “Tech companies are either operating on a very limited scale, with employees struggling to reach their offices in the West Bank due to unsafe roads blocked by Israeli occupation forces and settlers, or they have been forced out of business entirely in Gaza.”\\nShe added that a number of building in Gaza key to the tech industry there, such as Burj Al-Wattan, had been destroyed by Israeli airstrikes and that the tech industry is not the first priority people in the urgent situation. “How can you possibly detach from the distressing reality and cling to the remaining shreds of hope for your business?”\\nMohammad Alnobani is a Palestinian founder of The Middle Frame, an Arab stock image platform powered by AI tools, aiming to shatter stereotypes about the Arab world through images and reducing bias in AI. He told me he was on his way back from the One Young World Summit in Belfast, speaking about peace and reconciliation, and about to reach the borders to cross to Palestine to get back to his family, when the war broke out.'"
      ]
     },
     "execution_count": 79,
     "metadata": {},
     "output_type": "execute_result"
    }
   ],
   "source": [
    "dynamic_detailed_summarize_premium(article6,1,'article')"
   ]
  },
  {
   "cell_type": "code",
   "execution_count": 46,
   "metadata": {},
   "outputs": [],
   "source": [
    "story3=\"\"\"Once upon a time, there were three little pigs. Each pig was given some money by their mother and told to go out into the world, build a house, and make a life for themselves.\n",
    "\n",
    "The first little pig was not very wise and decided to build a house out of straw because it was quick and easy. He finished his straw house in no time and spent the rest of the day playing. But soon, a big, bad wolf came along and said, \"Little pig, little pig, let me in!\" The pig refused, so the wolf huffed and puffed and blew the straw house down. The first little pig had to run to his brother's house for safety.\n",
    "\n",
    "The second little pig was a bit smarter. He chose to build his house out of sticks. This house was sturdier than the straw house, but the wolf came along and said, \"Little pig, little pig, let me in!\" The pig also refused, so the wolf huffed and puffed and blew the stick house down. The two little pigs ran to their older brother's house for safety.\n",
    "\n",
    "The third little pig was the wisest of them all. He decided to build a strong house out of bricks. It took him longer, but he knew it would be worth it. When the wolf came to the brick house and said, \"Little pig, little pig, let me in!\" the third little pig refused just like his brothers. The wolf huffed and puffed, but he couldn't blow the brick house down.\n",
    "\n",
    "Frustrated, the wolf tried to climb down the chimney to catch the little pig, but the clever pig had a pot of boiling water waiting for him. The wolf fell into the pot and ran away, never to bother the three little pigs again.\n",
    "\n",
    "The three little pigs were safe in their brick house, and they learned the importance of hard work, determination, and making wise choices.\n",
    "\n",
    "And they all lived happily ever after in their sturdy brick house.\n",
    "\n",
    "\"\"\"\n"
   ]
  },
  {
   "cell_type": "code",
   "execution_count": 47,
   "metadata": {},
   "outputs": [
    {
     "name": "stdout",
     "output_type": "stream",
     "text": [
      "Keywords are-: ['pig', 'little', 'house', 'wolf', 'straw']\n",
      "Entities are-: ['first', 'two', 'second', 'three', 'wolf', 'third']\n"
     ]
    },
    {
     "data": {
      "text/plain": [
       "'Once upon a time, there were three little pigs. He finished his straw house in no time and spent the rest of the day playing. The two little pigs ran to their older brother\\'s house for safety. When the wolf came to the brick house and said, \"Little pig, little pig, let me in!\" The wolf fell into the pot and ran away, never to bother the three little pigs again. The three little pigs were safe in their brick house, and they learned the importance of hard work, determination, and making wise choices.'"
      ]
     },
     "execution_count": 47,
     "metadata": {},
     "output_type": "execute_result"
    }
   ],
   "source": [
    "dynamic_detailed_summarize_premium(story3,1,'story')"
   ]
  },
  {
   "cell_type": "code",
   "execution_count": 48,
   "metadata": {},
   "outputs": [
    {
     "name": "stdout",
     "output_type": "stream",
     "text": [
      "Keywords are-: ['lily', 'realm', 'hidden', 'door', 'friends']\n",
      "Entities are-: ['the shadow of despair', 'one sunny morning', 'shadow of despair', 'lily']\n"
     ]
    },
    {
     "data": {
      "text/plain": [
       "\"Once upon a time in a quiet village, there lived a young girl named Lily. Lily's arrival in the hidden realm was met with excitement and joy by the whimsical inhabitants. As Lily spent more time in this mystical world, she learned to harness its magic, gaining the ability to communicate with animals and understanding the ancient language of the trees. She embarked on thrilling quests, solved riddles, and helped her newfound friends in their time of need. Lily's time in the hidden realm had been an incredible adventure, but she knew that her place was back in the quiet village she called home.\""
      ]
     },
     "execution_count": 48,
     "metadata": {},
     "output_type": "execute_result"
    }
   ],
   "source": [
    "story4=\"\"\"Once upon a time in a quiet village, there lived a young girl named Lily. She was known for her insatiable curiosity and adventurous spirit. Lily spent most of her days exploring the nearby forest, searching for hidden treasures, and befriending the creatures that called the woods their home.\n",
    "\n",
    "One sunny morning, as Lily wandered deeper into the forest than ever before, she stumbled upon a mysterious old tree with a peculiar door carved into its trunk. She couldn't resist the urge to open the door and see what lay beyond. To her astonishment, the door led to a hidden realm filled with enchanting creatures, magical landscapes, and secrets waiting to be discovered.\n",
    "\n",
    "Lily's arrival in the hidden realm was met with excitement and joy by the whimsical inhabitants. Fairies, talking animals, and mystical beings welcomed her with open arms. They explained that she was the \"Chosen Explorer,\" destined to uncover the realm's deepest secrets and protect it from harm.\n",
    "\n",
    "As Lily spent more time in this mystical world, she learned to harness its magic, gaining the ability to communicate with animals and understanding the ancient language of the trees. She embarked on thrilling quests, solved riddles, and helped her newfound friends in their time of need.\n",
    "\n",
    "But the hidden realm was not without its challenges. A dark and sinister force, known as the \"Shadow of Despair,\" threatened to engulf the magical world in darkness. With courage and determination, Lily and her friends joined forces to confront the shadow and protect their home.\n",
    "\n",
    "In a climactic battle between light and darkness, Lily discovered that the true power of the realm lay within the hearts of those who believed in its magic. With the combined strength of her friends and the love they held for their world, they banished the Shadow of Despair and restored peace to the hidden realm.\n",
    "\n",
    "Lily's time in the hidden realm had been an incredible adventure, but she knew that her place was back in the quiet village she called home. She bid her magical friends farewell, promising to return whenever they needed her. As she stepped back through the mysterious door in the tree, she felt grateful for the extraordinary experiences that had filled her life.\n",
    "\n",
    "And so, Lily continued to explore the nearby forest, sharing her stories and adventures with the villagers, though they never knew the true extent of her magical journeys. In the end, she had found a world of enchantment right in her own backyard and had become the hero of a tale that would be passed down for generations in the quiet village.\"\"\"\n",
    "dynamic_detailed_summarize_premium(story4,context_type='story')"
   ]
  },
  {
   "cell_type": "code",
   "execution_count": 49,
   "metadata": {},
   "outputs": [
    {
     "name": "stdout",
     "output_type": "stream",
     "text": [
      "Keywords are-: ['climate', 'change', 'ecosystems', 'rising', 'events']\n",
      "Entities are-: ['earth', 'one']\n"
     ]
    },
    {
     "data": {
      "text/plain": [
       "'Climate change is one of the most pressing challenges of our time, with far-reaching consequences for ecosystems across the globe. These events not only directly impact ecosystems but also have far-reaching consequences for human populations.'"
      ]
     },
     "execution_count": 49,
     "metadata": {},
     "output_type": "execute_result"
    }
   ],
   "source": [
    "dynamic_detailed_summarize_premium(\"\"\"Climate change is one of the most pressing challenges of our time, with far-reaching consequences for ecosystems across the globe. Rising temperatures, extreme weather events, and shifting climate patterns are already affecting our planet's biodiversity.\n",
    "\n",
    "One of the most visible impacts of climate change is the melting of polar ice caps and glaciers, leading to rising sea levels. This phenomenon poses a significant threat to coastal ecosystems and communities. Rising temperatures are also affecting marine life, causing coral bleaching and disrupting the food chains in the oceans.\n",
    "\n",
    "In terrestrial ecosystems, many plant and animal species are facing the challenge of adapting to new climate conditions. Some may be forced to migrate to higher altitudes or latitudes in search of suitable habitats. This can lead to competition for resources and potential extinctions of less adaptable species.\n",
    "\n",
    "Moreover, extreme weather events like hurricanes, droughts, and wildfires are becoming more frequent and intense due to climate change. These events not only directly impact ecosystems but also have far-reaching consequences for human populations.\n",
    "\n",
    "Conservation efforts and sustainable practices are crucial in mitigating the effects of climate change on ecosystems. Protecting natural habitats, reducing greenhouse gas emissions, and supporting biodiversity conservation are vital steps in ensuring a healthier planet for future generations.\n",
    "\n",
    "As the consequences of climate change continue to unfold, it's imperative that we act swiftly to address this global challenge and protect the diversity of life on Earth.\"\"\",1,'article')"
   ]
  },
  {
   "cell_type": "code",
   "execution_count": null,
   "metadata": {},
   "outputs": [],
   "source": []
  },
  {
   "cell_type": "code",
   "execution_count": 69,
   "metadata": {},
   "outputs": [
    {
     "name": "stdout",
     "output_type": "stream",
     "text": [
      "Keywords are-: ['owl', 'lila', 'edmund', 'shop', 'answer']\n",
      "Entities are-: ['edmund', 'lila', 'one', 'the days', 'marlowe', 'midnight', 'exactly midnight', 'one day', 'one night']\n"
     ]
    },
    {
     "data": {
      "text/plain": [
       "'In the city of Marlowe, where the buildings touched the sky and the streets buzzed with the sound of flying cars, there lived an old watchmaker named Edmund. One day, a young girl named Lila entered the shop, her eyes wide with wonder. Edmund chuckled, \"Well, not everything, Lila.'"
      ]
     },
     "execution_count": 69,
     "metadata": {},
     "output_type": "execute_result"
    }
   ],
   "source": [
    "story5=\"\"\"In the city of Marlowe, where the buildings touched the sky and the streets buzzed with the sound of flying cars, there lived an old watchmaker named Edmund. Edmund's shop was filled with timepieces of every kind, from pocket watches to grand wall clocks. But what made Edmund's shop truly unique was a little clockwork owl perched on a shelf behind the counter.\n",
    "\n",
    "The townspeople were often curious about the owl. It was said that the owl was not just a mere timepiece but also possessed the wisdom of ages. Rumors spread that it could answer any question if you asked at the right time.\n",
    "\n",
    "One day, a young girl named Lila entered the shop, her eyes wide with wonder. \"Mr. Edmund,\" she began, \"is it true that the owl knows everything?\"\n",
    "\n",
    "Edmund chuckled, \"Well, not everything, Lila. But it does have some wisdom to share.\"\n",
    "\n",
    "Lila, her curiosity piqued, asked, \"How does it work?\"\n",
    "\n",
    "Edmund replied, \"Every night, at exactly midnight, you may ask the owl one question, and it will give you an answer. But be cautious, for the owl speaks in riddles.\"\n",
    "\n",
    "As the days passed, Lila became a regular at the shop, often stopping by to gaze at the clockwork owl and ponder the mysteries it held. One night, driven by a burning question, Lila sneaked into the shop at midnight. She asked the owl about the purpose of life.\n",
    "\n",
    "The owl's gears whirred and clicked, and after what felt like an eternity, it spoke, \"Life is a melody, ever-changing, never static. Seek your rhythm, find your tune, and dance to the beat of your own heart.\"\n",
    "\n",
    "Lila left the shop that night, not with a clear answer, but with a newfound perspective on life. She realized that sometimes, the journey of seeking is more important than the answer itself.\n",
    "\n",
    "Over time, the legend of the clockwork owl grew, drawing visitors from all over. But for Lila, the owl's wisdom was a guiding light, illuminating her path as she danced through life.\"\"\"\n",
    "dynamic_detailed_summarize_premium(story5)"
   ]
  },
  {
   "cell_type": "code",
   "execution_count": 74,
   "metadata": {},
   "outputs": [
    {
     "name": "stdout",
     "output_type": "stream",
     "text": [
      "Keywords are-: ['energy', 'solar', 'wind', 'renewable', 'farms']\n",
      "Entities are-: ['hydroelectric', 'the sahara desert', 'the past two decades']\n"
     ]
    },
    {
     "data": {
      "text/plain": [
       "\"Over the past two decades, the world has witnessed a massive shift in energy consumption and production patterns. With advancements in solar panel efficiency and decreases in manufacturing costs, countries around the world are rapidly installing solar farms. Coastal areas and open plains have become hotspots for wind farms, taking advantage of persistent wind patterns. In conclusion, while the shift to renewable energy is promising and necessary, it's not a silver bullet.\""
      ]
     },
     "execution_count": 74,
     "metadata": {},
     "output_type": "execute_result"
    }
   ],
   "source": [
    "sample_text = \"\"\"\n",
    "In recent years, the effects of the digital divide have become increasingly apparent. As more and more essential services move online, people without internet access find it harder to participate in the modern economy. In response, many governments are considering subsidizing internet access. The idea is to ensure that everyone, regardless of their income or where they live, can access the digital world. \n",
    "\n",
    "Proponents argue that subsidized internet access can have multiple benefits. Firstly, it can lead to increased economic activity. As people gain access to online services, they can participate in e-commerce, take online courses, and apply for jobs online. Furthermore, it can help bridge the educational gap. Students in areas with poor or no internet access often lag behind their peers in terms of academic achievement. Having consistent internet access can help these students catch up.\n",
    "\n",
    "However, critics of subsidized internet access point out potential drawbacks. The cost of implementing such programs can be high, and it's not clear whether the benefits would outweigh the costs. There's also concern about whether the subsidies would lead to a dependence on government support. Instead, some suggest that market solutions, like competition among internet service providers, might be a more effective way to bring down costs and increase access.\n",
    "\n",
    "In conclusion, while the idea of subsidized internet access is well-intentioned, it's crucial to carefully weigh its potential benefits and drawbacks. The goal should be to ensure that everyone has a fair shot at participating in the digital age, but how best to achieve that is up for debate.\n",
    "\"\"\"\n",
    "\n",
    "# Using the function\n",
    "# summary = dynamic_detailed_summarize_premium(sample_text, detail_level=1, context_type='article')\n",
    "# summary\n",
    "dynamic_detailed_summarize_premium(\"\"\"Over the past two decades, the world has witnessed a massive shift in energy consumption and production patterns. The urgency to combat climate change and the economic advantages of renewable sources have both played pivotal roles in this transition.\n",
    "\n",
    "Solar energy, in particular, has seen a meteoric rise. With advancements in solar panel efficiency and decreases in manufacturing costs, countries around the world are rapidly installing solar farms. The Sahara Desert, with its vast expanses of sunlight, has often been cited as an ideal location for solar energy capture.\n",
    "\n",
    "Wind energy isn't far behind. Coastal areas and open plains have become hotspots for wind farms, taking advantage of persistent wind patterns. Innovations in turbine design have also allowed for more efficient energy capture.\n",
    "\n",
    "Hydroelectric power, while not new, has gained renewed attention. Dams are not just about water storage anymore; they're powerhouses, quite literally. However, they've also been at the center of environmental and displacement debates.\n",
    "\n",
    "While the advantages of renewable energy are many, there are challenges. Storage is a significant issue. The sun doesn't always shine, and the wind doesn't always blow. This intermittency means that there needs to be efficient ways to store energy for off-peak times. Battery technology, therefore, is a field seeing massive investment and research.\n",
    "\n",
    "Another challenge is infrastructure. Many of our current grids are not designed to handle the influx of renewable energy, and there's a dire need to upgrade them. This requires not just funds, but also policy changes.\n",
    "\n",
    "Lastly, while renewable energy is more sustainable, there are environmental concerns. Wind farms can affect local fauna, and the manufacture of solar panels isn't without its carbon footprint.\n",
    "\n",
    "In conclusion, while the shift to renewable energy is promising and necessary, it's not a silver bullet. The challenges need addressing with the same fervor as the adoption of the energy sources themselves.\n",
    "\n",
    "\"\"\",1,'article')"
   ]
  },
  {
   "cell_type": "code",
   "execution_count": 77,
   "metadata": {},
   "outputs": [
    {
     "name": "stdout",
     "output_type": "stream",
     "text": [
      "Keywords are-: ['ai', 'applications', 'domain', 'witnessing', 'course']\n",
      "Entities are-: ['ai', 'today', 'artificial intelligence']\n"
     ]
    },
    {
     "data": {
      "text/plain": [
       "\"\\nArtificial Intelligence (AI) is a domain that has a long history but is still constantly and actively growing and changing. Today, with the advancements in the deep learning domain, we're witnessing a new revolution in AI, making it one of the most influential technologies of our time.\""
      ]
     },
     "execution_count": 77,
     "metadata": {},
     "output_type": "execute_result"
    }
   ],
   "source": [
    "# Sample text for testing\n",
    "sample_text = \"\"\"\n",
    "Artificial Intelligence (AI) is a domain that has a long history but is still constantly and actively growing and changing. \n",
    "In this course, you'll learn the basics of modern AI as well as some of the representative applications of AI. \n",
    "Along the way, we also hope to excite you about the numerous applications and huge possibilities in the field of AI, \n",
    "which continues to expand human capability beyond our imagination. \n",
    "Today, with the advancements in the deep learning domain, we're witnessing a new revolution in AI, making it one of the most influential technologies of our time.\n",
    "\"\"\"\n",
    "\n",
    "# Testing the dynamic_detailed_summarize_premium function\n",
    "summary = dynamic_detailed_summarize_premium(sample_text, detail_level=2, context_type='article')\n",
    "summary\n"
   ]
  },
  {
   "cell_type": "code",
   "execution_count": 82,
   "metadata": {},
   "outputs": [],
   "source": [
    "from sklearn.feature_extraction.text import TfidfVectorizer, ENGLISH_STOP_WORDS\n",
    "from sklearn.metrics.pairwise import linear_kernel\n",
    "from nltk.tokenize import sent_tokenize\n",
    "import numpy as np\n",
    "import spacy\n",
    "\n",
    "# Function to extract important keywords using TF-IDF\n",
    "def extract_important_keywords(input_text, num_keywords=5):\n",
    "    my_stop_words = list(ENGLISH_STOP_WORDS)\n",
    "    tfidf_vectorizer = TfidfVectorizer(stop_words=my_stop_words, min_df=1, ngram_range=(1,2))\n",
    "    tfidf_matrix = tfidf_vectorizer.fit_transform([input_text])\n",
    "    feature_names = np.array(tfidf_vectorizer.get_feature_names_out())\n",
    "    tfidf_values = tfidf_matrix.toarray()[0]\n",
    "    sorted_indices = tfidf_values.argsort()[::-1]\n",
    "    top_keywords = feature_names[sorted_indices][:num_keywords]\n",
    "    return top_keywords.tolist()\n",
    "\n",
    "# Function to extract named entities using SpaCy\n",
    "def extract_named_entities(input_text):\n",
    "    nlp = spacy.load(\"en_core_web_sm\")\n",
    "    doc = nlp(input_text)\n",
    "    named_entities = [ent.text.lower() for ent in doc.ents]\n",
    "    return list(set(named_entities))\n",
    "\n",
    "# Function to generate dynamic detailed summaries\n",
    "def improved_dynamic_detailed_summarize(input_text, detail_level=1, context_type='general', important_keywords=None, important_entities=None):\n",
    "    if important_keywords is None:\n",
    "        important_keywords = extract_important_keywords(input_text)\n",
    "    print(f'Important Keywords are-:{important_keywords}')\n",
    "    if important_entities is None:\n",
    "        important_entities = extract_named_entities(input_text)\n",
    "\n",
    "    print(f'Important Entities are-:{important_keywords}')\n",
    "\n",
    "\n",
    "    # Combine keywords and named entities\n",
    "    important_words = set(important_keywords + important_entities)\n",
    "    \n",
    "    sentences = sent_tokenize(input_text)\n",
    "    \n",
    "    # Score sentences based on the number of important words and their position in the original text\n",
    "    sentence_scores = [(i, sum(1 for word in important_words if word in sentence.lower())) for i, sentence in enumerate(sentences)]\n",
    "    sorted_sentence_scores = sorted(sentence_scores, key=lambda x: (-x[1], x[0]))\n",
    "    \n",
    "    # Context weightage for adjusting the number of sentences\n",
    "    context_weightage = {\n",
    "        'general': 1,\n",
    "        'story': 1.5,\n",
    "        'report': 1.2,\n",
    "        'article': 1.3\n",
    "    }\n",
    "    \n",
    "    num_output_sentences = max(2, int(detail_level * len(sentences) / 5 * context_weightage.get(context_type, 1)))\n",
    "    selected_sentences_indices = [score[0] for score in sorted_sentence_scores[:num_output_sentences]]\n",
    "    \n",
    "    # Sort the sentences based on their original order\n",
    "    selected_sentences = [sentences[i] for i in sorted(selected_sentences_indices)]\n",
    "    \n",
    "    return ' '.join(selected_sentences)\n"
   ]
  },
  {
   "cell_type": "code",
   "execution_count": 86,
   "metadata": {},
   "outputs": [
    {
     "name": "stdout",
     "output_type": "stream",
     "text": [
      "Important Keywords are-:['gaza', 'tech', 'people', 'said', 'companies']\n",
      "Important Entities are-:['leen abubaker', 'manara', 'a few hours', 'the morning', 'around 100', 'years', 'silicon valley', 'silicon valley/europe', 'gazan', 'hacker news', 'linkedin', 'apple', 'jerusalem', 'instagram of them', '1,300', 'at least 150', '2', 'about 1.1 million', 'eric ries', 'nvidia', 'northern gaza', 'the middle frame', 'reid hoffman', 'first', 'the coming weeks', 'google and datadog', 'riyadh', 'ai', 'whatsapp', 'techcrunch', 'at least 2008', '1,500', 'the gaza sky geeks', 'forever', '200', 'daily', 'today', 'raya fatayer', 'jordan', 'january', 'tuesday', 'mai temraz', 'one', 'ibtikar fund', 'sellenvo', 'three', 'dalia awad', 'datadog', 'the west bank', 'one point #1', 'arab', 'marc benioff', 'mercy corps', 'a year ago', 'olivery', 'paul graham', 'sky geeks', 'gsg', 'seedcamp', '10 minutes', 'burj al-wattan', 'several days', 'belfast', '2022', 'ramallah', 'tonight', 'coretava', 'gaza city', 'gaza', 'the next day', 'gaza sky geeks', 'saudi', 'ibtikar', 'un', 'american', 'san bernardino', 'microsoft', '6', 'palestinian', 'israel', 'menalytics', 'much as $10 million', 'a few minutes', 'alphabet', '2017', 'iliana montauk', 'the ‘gaza strip', 'y combinator', 'montauk', 'qualtrics', 'saudi arabia', 'awad', 'mohammad alnobani', 'palestinians', 'jessica livingston', 'gulf', '$30 million', 'sturgill', 'second', 'the past 24 hours', 'ngo', 'california', 'ryan sturgill', 'last mile', 'amazon', '2021', 'paris', 'a few seconds', 'the weekend', 'many years', '5,000', 'palestine', 'hamas', 'israeli', 'google', 'the past day', 'at least 100']\n"
     ]
    },
    {
     "data": {
      "text/plain": [
       "'Speaking to Ryan Sturgill, an American national and former head of the Gaza Sky Geeks accelerator run by sponsor Mercy Corps, and NGO aid organisation, the situation on the ground appears dire, after waves of shelling by the Israeli military. High growth companies emerging from Palestine include Menalytics (data analytics, invested in by Flat 6 labs); Olivery (last mile logistics, Flat6Labs and Ibtikar Fund); Coretava (employee and customer loyalty); and Sellenvo (an Amazon fulfillment partner). I feel like the situation is going to get significantly worse there over the coming weeks.”\\nIliana Montauk, is co-Founder and CEO of Manara — a social impact startup funded by Y Combinator, Seedcamp, Reid Hoffman, Eric Ries, Marc Benioff, Paul Graham, and Jessica Livingston, among others — told Techcrunch via email that connectivity has decreased significantly in the past 24 hours. Dalia Awad, whose Medium post about getting into Google from Gaza went viral in 2021 (it was at one point #1 on Hacker News and tweeted by Paul Graham), returned to Gaza after her internships at Google and Datadog to graduate from university. In the morning we saw these videos from our friends who shared it on whatsapp but it takes FOREVER to download a video of a few seconds.”\\nMontauk said Awad had not responded to her in the past day. “Tech companies are either operating on a very limited scale, with employees struggling to reach their offices in the West Bank due to unsafe roads blocked by Israeli occupation forces and settlers, or they have been forced out of business entirely in Gaza.”\\nShe added that a number of building in Gaza key to the tech industry there, such as Burj Al-Wattan, had been destroyed by Israeli airstrikes and that the tech industry is not the first priority people in the urgent situation.'"
      ]
     },
     "execution_count": 86,
     "metadata": {},
     "output_type": "execute_result"
    }
   ],
   "source": [
    "improved_dynamic_detailed_summarize(article6,0.3,'article')"
   ]
  },
  {
   "cell_type": "code",
   "execution_count": 178,
   "metadata": {},
   "outputs": [],
   "source": [
    "import numpy as np\n",
    "import spacy\n",
    "from sklearn.feature_extraction.text import TfidfVectorizer\n",
    "from sklearn.metrics.pairwise import cosine_similarity\n",
    "\n",
    "nlp = spacy.load(\"en_core_web_sm\")\n",
    "\n",
    "def improved_dynamic_detailed_summarize(text, detail_level, context_type):\n",
    "    # Preprocess the text\n",
    "    def preprocess(text):\n",
    "        # Tokenization and lowercasing\n",
    "        tokens = [word.text.lower() for word in nlp(text)]\n",
    "        return tokens\n",
    "\n",
    "    word_count = len(preprocess(text))\n",
    "    \n",
    "    # Set the min_df_value and max_df_value based on word count\n",
    "    min_df_value = 0.1 if word_count < 300 else 0.05\n",
    "    max_df_value = 0.85 if word_count < 300 else 0.9\n",
    "    \n",
    "    # Extract keywords using TF-IDF\n",
    "    vectorizer = TfidfVectorizer(max_df=max_df_value, min_df=min_df_value, stop_words='english')\n",
    "    try:\n",
    "        vectors = vectorizer.fit_transform([text])\n",
    "    except ValueError:\n",
    "        vectorizer = TfidfVectorizer(max_df=1.0, min_df=0.01, stop_words='english')\n",
    "        vectors = vectorizer.fit_transform([text])\n",
    "        \n",
    "    feature_names = vectorizer.get_feature_names_out()\n",
    "    dense = vectors.todense().tolist()[0]\n",
    "    keyword_scores = dict(zip(feature_names, dense))\n",
    "    \n",
    "    # Extract top N keywords based on word count\n",
    "    N = 5 + (word_count // 300)\n",
    "    top_keywords = [item[0] for item in sorted(keyword_scores.items(), key=lambda x: x[1], reverse=True)[:N]]\n",
    "    \n",
    "    # Named Entity Recognition using Spacy\n",
    "    doc = nlp(text)\n",
    "    entities = [ent.text for ent in doc.ents]\n",
    "    entities=list(set(entities))\n",
    "    # Sentence Tokenization\n",
    "    sentences = [sent.text for sent in doc.sents]\n",
    "    \n",
    "    # Calculate Sentence Scores\n",
    "    sentence_scores = []\n",
    "    for sent in sentences:\n",
    "        score = 0\n",
    "        for word in preprocess(sent):\n",
    "            if word in top_keywords:\n",
    "                score += keyword_scores.get(word, 0)\n",
    "            if word in entities:\n",
    "                score += 2  # Giving more weightage to entities\n",
    "        sentence_scores.append(score)\n",
    "    \n",
    "    # Dynamic Detail Level Adjustment\n",
    "    num_sentences = {\n",
    "        'short': int(len(sentences) * 0.2),\n",
    "        'medium': int(len(sentences) * 0.5),\n",
    "        'long': int(len(sentences) * 0.8)\n",
    "    }\n",
    "    detail_mapping = {\n",
    "        1: 'short',\n",
    "        2: 'medium',\n",
    "        3: 'long'\n",
    "    }\n",
    "    context_weightage = {\n",
    "        'story': 1.2,\n",
    "        'article': 1,\n",
    "        'report': 0.8\n",
    "    }\n",
    "    \n",
    "    adjusted_num_sentences = int(num_sentences[detail_mapping[detail_level]] * context_weightage[context_type])\n",
    "    adjusted_num_sentences = min(max(adjusted_num_sentences, 1), len(sentences))\n",
    "    \n",
    "    # Get the summary\n",
    "    ranked_sentences = [sentences[i] for i in np.argsort(sentence_scores, axis=0)[-adjusted_num_sentences:]]\n",
    "    summary = ' '.join(ranked_sentences)\n",
    "    \n",
    "    print(f\"Important Keywords-{top_keywords}\\nImportant_entities-{entities}\")\n",
    "    return summary\n",
    "# You can use the function like this:\n",
    "# improved_dynamic_detailed_summarize(your_text, detail_level, context_type)\n"
   ]
  },
  {
   "cell_type": "code",
   "execution_count": 179,
   "metadata": {},
   "outputs": [],
   "source": [
    "# import spacy\n",
    "# from sklearn.feature_extraction.text import TfidfVectorizer\n",
    "# from sklearn.metrics.pairwise import cosine_similarity\n",
    "# import numpy as np\n",
    "\n",
    "# nlp = spacy.load(\"en_core_web_sm\")\n",
    "\n",
    "# def preprocess(text):\n",
    "#     doc = nlp(text)\n",
    "#     return [token.text for token in doc if not token.is_stop and not token.is_punct]\n",
    "\n",
    "# def improved_dynamic_detailed_summarize(text, detail_level, context_type):\n",
    "#     word_count = len(text.split())\n",
    "    \n",
    "#     # 1. Keyword Extraction\n",
    "#     min_df_value = 0.1 if word_count < 300 else 0.05\n",
    "#     max_df_value = 0.85 if word_count < 300 else 0.9\n",
    "#     step = 0.05\n",
    "    \n",
    "#     while True:\n",
    "#         try:\n",
    "#             vectorizer = TfidfVectorizer(max_df=max_df_value, min_df=min_df_value, stop_words='english')\n",
    "#             vectors = vectorizer.fit_transform([text])\n",
    "#             break\n",
    "#         except ValueError:\n",
    "#             min_df_value -= step\n",
    "#             max_df_value += step\n",
    "\n",
    "#     feature_names = vectorizer.get_feature_names_out()\n",
    "#     dense = vectors.todense().tolist()[0]\n",
    "#     keyword_list = [feature_names[i] for i in dense.argsort()[-5:][::-1]]\n",
    "    \n",
    "#     # If no keywords were extracted using TF-IDF, use term frequency\n",
    "#     if not keyword_list:\n",
    "#         term_freq = {}\n",
    "#         for word in preprocess(text):\n",
    "#             term_freq[word] = term_freq.get(word, 0) + 1\n",
    "#         keyword_list = sorted(term_freq, key=term_freq.get, reverse=True)[:5]\n",
    "\n",
    "#     # 2. Extract entities\n",
    "#     doc = nlp(text)\n",
    "#     entity_list = list(set([ent.text for ent in doc.ents]))\n",
    "\n",
    "#     # 3. Sentence Tokenization and Ranking\n",
    "#     sentences = [sent.string.strip() for sent in doc.sents]\n",
    "#     vectors = vectorizer.transform(sentences)\n",
    "#     cosine_matrix = cosine_similarity(vectors)\n",
    "#     scores = cosine_matrix.sum(axis=1)\n",
    "#     ranked_sentences = [sentences[i] for i in scores.argsort()[-int(detail_level * word_count/100):][::-1]]\n",
    "\n",
    "#     summary = \"\\n\\n\".join(ranked_sentences)\n",
    "\n",
    "#     return f\"Important Keywords-{keyword_list}\\nImportant_entities-{entity_list}\\n{summary}\"\n",
    "\n",
    "# # Test\n",
    "# story7 = \"\"\"Deep in the heart of the Whispering Woods, where the trees sang tales of ancient times and the wind whispered secrets, lived a young woman named Elara. She wasn't like the villagers who lived on the outskirts of the forest; she could communicate with the creatures of the woods and understand the songs of the trees. One day, as Elara was strolling through the forest, she stumbled upon a wounded unicorn. Its horn was broken, and it lay in pain. Without hesitation, Elara approached the magnificent creature, whispering soothing words and using herbs to heal its wounds. In gratitude, the unicorn revealed its secret: it was the guardian of a magical portal that led to another realm. However, the portal had been sealed by dark forces, and the unicorn's horn was the key to unlocking it. But with its horn broken, the path to the other realm was lost. Determined to help, Elara set out on a quest to find a way to mend the unicorn's horn and reopen the portal. Her journey took her to the mountains where she met a wise old dragon, to the depths of the oceans where she befriended mermaids, and to the skies where she danced with the stars. Each encounter taught her a valuable lesson and brought her closer to her goal. After many adventures and challenges, Elara finally discovered a way to restore the unicorn's horn using the power of pure love. With the portal reopened, the realms were once again connected, and peace was restored. Elara returned to the Whispering Woods, not just as a friend of the forest, but as its savior. The trees sang her praises, and the creatures celebrated her bravery. And so, in the heart of the forest, the legend of Elara, the guardian of the realms, was born.\"\"\"\n",
    "\n",
    "# print(improved_dynamic_detailed_summarize(story7, 2, 'story'))\n"
   ]
  },
  {
   "cell_type": "code",
   "execution_count": 180,
   "metadata": {},
   "outputs": [
    {
     "name": "stdout",
     "output_type": "stream",
     "text": [
      "Important Keywords-['elara', 'horn', 'unicorn', 'forest', 'portal', 'trees']\n",
      "Important_entities-['Elara', 'the Whispering Woods', 'One day']\n"
     ]
    },
    {
     "data": {
      "text/plain": [
       "\"One day, as Elara was strolling through the forest, she stumbled upon a wounded unicorn. After many adventures and challenges, Elara finally discovered a way to restore the unicorn's horn using the power of pure love. Determined to help, Elara set out on a quest to find a way to mend the unicorn's horn and reopen the portal.\""
      ]
     },
     "execution_count": 180,
     "metadata": {},
     "output_type": "execute_result"
    }
   ],
   "source": [
    "improved_dynamic_detailed_summarize(story7,1,'story')"
   ]
  },
  {
   "cell_type": "code",
   "execution_count": 94,
   "metadata": {},
   "outputs": [
    {
     "name": "stdout",
     "output_type": "stream",
     "text": [
      "Important Keywords-:['mansion', 'amulet', 'clara', 'reginald', 'sir']\n",
      "Important_entities-:['one', 'elderton', 'night']\n"
     ]
    },
    {
     "data": {
      "text/plain": [
       "'In the quiet town of Elderton, nestled amidst rolling hills and dense forests, there was a mystery that had persisted for generations. At the heart of the town stood the Elderton Mansion, a grand old house that was said to be haunted. The mystery of Elderton had been solved, and Clara had a story that would make her career.'"
      ]
     },
     "execution_count": 94,
     "metadata": {},
     "output_type": "execute_result"
    }
   ],
   "source": [
    "improved_dynamic_detailed_summarize(\"\"\"In the quiet town of Elderton, nestled amidst rolling hills and dense forests, there was a mystery that had persisted for generations. At the heart of the town stood the Elderton Mansion, a grand old house that was said to be haunted. Built in the 1800s by Sir Reginald Elderton, the mansion had been the site of numerous inexplicable occurrences, from ghostly apparitions to strange noises in the dead of night.\n",
    "\n",
    "Sir Reginald had been a renowned explorer, traveling to the farthest corners of the world in search of ancient artifacts and hidden treasures. On one fateful expedition to the Amazon rainforest, it was said that he had found a mysterious artifact, a golden amulet with the power to bridge the world of the living and the dead. When he returned to Elderton, he was a changed man. Obsessed with the amulet's power, he locked himself in the mansion, conducting strange rituals and experiments.\n",
    "\n",
    "One stormy night, a loud explosion echoed from the mansion, and Sir Reginald was never seen again. The amulet, too, vanished, fueling rumors that it had claimed him. The mansion was locked up, and as years turned into decades, it fell into disrepair. Yet, locals reported seeing lights in the mansion's windows and hearing Sir Reginald's voice on stormy nights.\n",
    "\n",
    "Enter Clara Thompson, a young journalist with a penchant for the paranormal. Fascinated by the legend of Elderton Mansion, she decided to spend a night there, hoping to uncover its secrets. Armed with a camera, a flashlight, and her wits, she ventured into the mansion.\n",
    "\n",
    "Inside, the air was thick with dust and age. Clara's flashlight beam cut through the darkness, revealing ornate furniture covered in dust cloths, and walls adorned with faded portraits of the Elderton lineage. As she explored, she stumbled upon Sir Reginald's study, a room filled with books, maps, and a journal detailing his obsession with the amulet.\n",
    "\n",
    "As midnight approached, Clara began to hear whispers. Following the sound, she came to a grand ballroom, where a ghostly figure danced alone. It was Sir Reginald. He spoke to Clara, revealing that he had been trapped in a limbo between worlds by the amulet's power. He had been trying to harness its energy to communicate with his deceased wife, but instead, it had ensnared him. He implored Clara to find the amulet and free him.\n",
    "\n",
    "Using clues from Sir Reginald's journal, Clara embarked on a quest that took her to hidden chambers and secret passages within the mansion. Finally, in the mansion's depths, she found the amulet, glowing with an otherworldly light. Remembering the rituals detailed in the journal, Clara performed a ceremony to break the amulet's curse.\n",
    "\n",
    "As dawn broke, the mansion was silent. Clara emerged, the amulet in her possession, and Sir Reginald's spirit finally at peace. The mystery of Elderton had been solved, and Clara had a story that would make her career.\"\"\",1,,'story')"
   ]
  },
  {
   "cell_type": "code",
   "execution_count": 152,
   "metadata": {},
   "outputs": [],
   "source": [
    "Important Keywords-['elara', 'horn', 'unicorn', 'forest', 'portal', 'trees']\n",
    "Important_entities-['Elara', 'the Whispering Woods', 'One day']\n",
    "\"Without hesitation, Elara approached the magnificent creature, whispering soothing words and using herbs to heal its wounds. In gratitude, the unicorn revealed its secret: it was the guardian of a magical portal that led to another realm.\\n\\n Deep in the heart of the Whispering Woods, where the trees sang tales of ancient times and the wind whispered secrets, lived a young woman named Elara. Elara returned to the Whispering Woods, not just as a friend of the forest, but as its savior. And so, in the heart of the forest, the legend of Elara, the guardian of the realms, was born.\\n\\n However, the portal had been sealed by dark forces, and the unicorn's horn was the key to unlocking it. One day, as Elara was strolling through the forest, she stumbled upon a wounded unicorn. After many adventures and challenges, Elara finally discovered a way to restore the unicorn's horn using the power of pure love. Determined to help, Elara set out on a quest to find a way to mend the unicorn's horn and reopen the portal.\\n\\n\"\n",
    "    print(f\"Important Keywords-{top_keywords}\\nImportant_entities-{entities}\")\n",
    "    return summary\n",
    "\n",
    "# You can use the function like this:\n",
    "# improved_dynamic_detailed_summarize(your_text, detail_level, context_type)\n"
   ]
  },
  {
   "cell_type": "code",
   "execution_count": 164,
   "metadata": {},
   "outputs": [
    {
     "name": "stdout",
     "output_type": "stream",
     "text": [
      "Important Keywords-['elara', 'horn', 'unicorn', 'forest', 'portal', 'trees']\n",
      "Important_entities-['Elara', 'the Whispering Woods', 'One day']\n"
     ]
    },
    {
     "data": {
      "text/plain": [
       "\"Without hesitation, Elara approached the magnificent creature, whispering soothing words and using herbs to heal its wounds. In gratitude, the unicorn revealed its secret: it was the guardian of a magical portal that led to another realm.\\n\\n Deep in the heart of the Whispering Woods, where the trees sang tales of ancient times and the wind whispered secrets, lived a young woman named Elara. Elara returned to the Whispering Woods, not just as a friend of the forest, but as its savior. And so, in the heart of the forest, the legend of Elara, the guardian of the realms, was born.\\n\\n However, the portal had been sealed by dark forces, and the unicorn's horn was the key to unlocking it. One day, as Elara was strolling through the forest, she stumbled upon a wounded unicorn. After many adventures and challenges, Elara finally discovered a way to restore the unicorn's horn using the power of pure love. Determined to help, Elara set out on a quest to find a way to mend the unicorn's horn and reopen the portal.\\n\\n\""
      ]
     },
     "execution_count": 164,
     "metadata": {},
     "output_type": "execute_result"
    }
   ],
   "source": [
    "story7=\"\"\"Deep in the heart of the Whispering Woods, where the trees sang tales of ancient times and the wind whispered secrets, lived a young woman named Elara. She wasn't like the villagers who lived on the outskirts of the forest; she could communicate with the creatures of the woods and understand the songs of the trees.\n",
    "\n",
    "One day, as Elara was strolling through the forest, she stumbled upon a wounded unicorn. Its horn was broken, and it lay in pain. Without hesitation, Elara approached the magnificent creature, whispering soothing words and using herbs to heal its wounds. In gratitude, the unicorn revealed its secret: it was the guardian of a magical portal that led to another realm.\n",
    "\n",
    "However, the portal had been sealed by dark forces, and the unicorn's horn was the key to unlocking it. But with its horn broken, the path to the other realm was lost. Determined to help, Elara set out on a quest to find a way to mend the unicorn's horn and reopen the portal.\n",
    "\n",
    "Her journey took her to the mountains where she met a wise old dragon, to the depths of the oceans where she befriended mermaids, and to the skies where she danced with the stars. Each encounter taught her a valuable lesson and brought her closer to her goal.\n",
    "\n",
    "After many adventures and challenges, Elara finally discovered a way to restore the unicorn's horn using the power of pure love. With the portal reopened, the realms were once again connected, and peace was restored.\n",
    "\n",
    "Elara returned to the Whispering Woods, not just as a friend of the forest, but as its savior. The trees sang her praises, and the creatures celebrated her bravery. And so, in the heart of the forest, the legend of Elara, the guardian of the realms, was born.\n",
    "\n",
    "\"\"\"\n",
    "improved_dynamic_detailed_summarize(story7,2,'story')"
   ]
  },
  {
   "cell_type": "code",
   "execution_count": 145,
   "metadata": {},
   "outputs": [
    {
     "name": "stdout",
     "output_type": "stream",
     "text": [
      "Keywords are-: ['elara', 'unicorn', 'horn', 'portal', 'forest']\n",
      "Entities are-: ['elara', 'one day', 'the whispering woods']\n"
     ]
    },
    {
     "data": {
      "text/plain": [
       "\"Deep in the heart of the Whispering Woods, where the trees sang tales of ancient times and the wind whispered secrets, lived a young woman named Elara. She wasn't like the villagers who lived on the outskirts of the forest; she could communicate with the creatures of the woods and understand the songs of the trees. Elara returned to the Whispering Woods, not just as a friend of the forest, but as its savior.\""
      ]
     },
     "execution_count": 145,
     "metadata": {},
     "output_type": "execute_result"
    }
   ],
   "source": [
    "dynamic_detailed_summarize_premium(story7,1,'story')"
   ]
  },
  {
   "cell_type": "code",
   "execution_count": 183,
   "metadata": {},
   "outputs": [
    {
     "name": "stdout",
     "output_type": "stream",
     "text": [
      "Important Keywords-['ai', 'potential', 'algorithms', 'benefits', 'future', 'google']\n",
      "Important_entities-['Microsoft', 'English', 'Google', 'Today', 'Chinese', \"Google's\", 'the AI revolution', 'decades', 'AlphaGo', 'DeepMind', 'Apple', 'AI']\n"
     ]
    },
    {
     "data": {
      "text/plain": [
       "\"Proper regulations and ethical guidelines can ensure that AI benefits humanity and does not harm it. In healthcare, AI algorithms can predict outbreaks, personalize medical treatments, and assist in drug discovery. Big tech companies like Google, Apple, and Microsoft are heavily investing in AI research and development. On the positive side, AI has the potential to solve some of the world's most pressing challenges. To harness the full potential of AI, collaboration between governments, industries, and academia is crucial. As we stand on the cusp of the AI revolution, it's essential to move forward with caution, optimism, and a focus on building a future that benefits all. As AI continues to advance, its potential impact on society and the role it will play in the future remains a hot topic of discussion.\\n\\n As AI systems become more integrated into our daily lives, concerns about AI ethics, privacy, and potential misuse have arisen. Google's DeepMind, for instance, developed an AI named AlphaGo that defeated the world champion in the game of Go, a feat many thought was decades away.\""
      ]
     },
     "execution_count": 183,
     "metadata": {},
     "output_type": "execute_result"
    }
   ],
   "source": [
    "improved_dynamic_detailed_summarize(\"\"\"Artificial intelligence (AI) is revolutionizing industries, enhancing productivity, and influencing the way we work and interact. As AI continues to advance, its potential impact on society and the role it will play in the future remains a hot topic of discussion.\n",
    "\n",
    "Historically, AI was conceptualized as machines that could mimic cognitive functions such as learning and problem-solving. Today, AI is more than just robotics. With the rise of machine learning algorithms and vast amounts of data, AI systems can perform tasks that previously required human intelligence. These include speech recognition, decision-making, and language translation.\n",
    "\n",
    "Big tech companies like Google, Apple, and Microsoft are heavily investing in AI research and development. Google's DeepMind, for instance, developed an AI named AlphaGo that defeated the world champion in the game of Go, a feat many thought was decades away. Similarly, Microsoft's AI has achieved human parity in translating news articles from Chinese to English.\n",
    "\n",
    "However, with great power comes great responsibility. As AI systems become more integrated into our daily lives, concerns about AI ethics, privacy, and potential misuse have arisen. Critics argue that AI could be used for malicious purposes, such as creating deepfakes or autonomous weapons. Additionally, there are fears about job losses in sectors where AI can automate tasks.\n",
    "\n",
    "On the positive side, AI has the potential to solve some of the world's most pressing challenges. In healthcare, AI algorithms can predict outbreaks, personalize medical treatments, and assist in drug discovery. In environmental science, AI can monitor deforestation, track wildlife, and predict natural disasters.\n",
    "\n",
    "To harness the full potential of AI, collaboration between governments, industries, and academia is crucial. Proper regulations and ethical guidelines can ensure that AI benefits humanity and does not harm it. As we stand on the cusp of the AI revolution, it's essential to move forward with caution, optimism, and a focus on building a future that benefits all.\"\"\",2,'article')"
   ]
  },
  {
   "cell_type": "code",
   "execution_count": 186,
   "metadata": {},
   "outputs": [
    {
     "name": "stdout",
     "output_type": "stream",
     "text": [
      "Keywords are-: ['ai', 'potential', 'world', 'tasks', 'algorithms']\n",
      "Entities are-: ['alphago', 'deepmind', 'google', 'chinese', 'ai', 'today', 'microsoft', 'decades', 'the ai revolution', 'apple', 'english', \"google's\"]\n"
     ]
    },
    {
     "data": {
      "text/plain": [
       "'Artificial intelligence (AI) is revolutionizing industries, enhancing productivity, and influencing the way we work and interact. To harness the full potential of AI, collaboration between governments, industries, and academia is crucial.'"
      ]
     },
     "execution_count": 186,
     "metadata": {},
     "output_type": "execute_result"
    }
   ],
   "source": [
    "dynamic_detailed_summarize_premium(\"\"\"Artificial intelligence (AI) is revolutionizing industries, enhancing productivity, and influencing the way we work and interact. As AI continues to advance, its potential impact on society and the role it will play in the future remains a hot topic of discussion.\n",
    "\n",
    "Historically, AI was conceptualized as machines that could mimic cognitive functions such as learning and problem-solving. Today, AI is more than just robotics. With the rise of machine learning algorithms and vast amounts of data, AI systems can perform tasks that previously required human intelligence. These include speech recognition, decision-making, and language translation.\n",
    "\n",
    "Big tech companies like Google, Apple, and Microsoft are heavily investing in AI research and development. Google's DeepMind, for instance, developed an AI named AlphaGo that defeated the world champion in the game of Go, a feat many thought was decades away. Similarly, Microsoft's AI has achieved human parity in translating news articles from Chinese to English.\n",
    "\n",
    "However, with great power comes great responsibility. As AI systems become more integrated into our daily lives, concerns about AI ethics, privacy, and potential misuse have arisen. Critics argue that AI could be used for malicious purposes, such as creating deepfakes or autonomous weapons. Additionally, there are fears about job losses in sectors where AI can automate tasks.\n",
    "\n",
    "On the positive side, AI has the potential to solve some of the world's most pressing challenges. In healthcare, AI algorithms can predict outbreaks, personalize medical treatments, and assist in drug discovery. In environmental science, AI can monitor deforestation, track wildlife, and predict natural disasters.\n",
    "\n",
    "To harness the full potential of AI, collaboration between governments, industries, and academia is crucial. Proper regulations and ethical guidelines can ensure that AI benefits humanity and does not harm it. As we stand on the cusp of the AI revolution, it's essential to move forward with caution, optimism, and a focus on building a future that benefits all.\"\"\",0.5,'article')"
   ]
  },
  {
   "cell_type": "code",
   "execution_count": 190,
   "metadata": {},
   "outputs": [
    {
     "name": "stdout",
     "output_type": "stream",
     "text": [
      "Keywords are-: ['ai', 'generative', 'robot', 'things', 'going']\n",
      "Entities are-: ['60', 'zero', 'daniela rus', 'jeff linnell', 'columbia', 'ai', '70%', 'earth', 'recent years', 'years', 'magic eraser', 'a few months back', '10', 'months', 'best take', 'this week', 'apple', 'gill pratt', 'kriegman', 'one', 'northwestern university', 'five or 10 years', 'kübler-rossian', 'english', 'google', 'sam kriegman', 'actuator', 'nine', 'marc raibert', 'nvidia', 'deepu talla', 'seconds', 'gm', 'last week', 'mit']\n"
     ]
    },
    {
     "data": {
      "text/plain": [
       "'The topic of generative AI comes up frequently in my newsletter, Actuator. This time out, it seemed generative AI was waiting in the wings, biding its time, waiting for the inevitable cratering of crypto. Things are, however, different with generative AI. There have been great advances on that front in recent years, and I think many manufacturers have finally struck a good balance between hardware and software when it comes to both improving the end product and lowering the bar of entry. Generative AI offers a similar “wow” effect out the gate, which is another way it differs from its hype cycle predecessor. Once it became clear that generative AI has an important role to play in the future of robotics, I’ve been finding ways to shoehorn questions into conversations. For example, in my recent conversation with Marc Raibert and Gill Pratt, the latter explained the role generative AI is playing in its approach to robot learning:\\n\\nWe have figure out how to do something, which is use modern generative AI techniques that enable human demonstration of both position and force to essentially teach a robot from just a handful of examples. Last week, when I asked Nvidia’s VP and GM of Embedded and Edge Computing, Deepu Talla why the company believes generative AI is more than a fad, he told me:\\n\\nI think it speaks in the results. Meanwhile, during my last conversation with Daniela Rus, the MIT CSAIL head explained how researchers are using generative AI to actually design the robots:\\n\\nIt turns out that generative AI can be quite powerful for solving even motion planning problems. We’ve also used generative AI for design. “We told the AI that we wanted a robot that could walk across land. Legged locomotion is, in fact, the most efficient form of terrestrial movement.”\\n\\n“From my perspective, generative AI and physical automation/robotics are what’s going to change everything we know about life on Earth,” Formant founder and CEO Jeff Linnell told me this week.'"
      ]
     },
     "execution_count": 190,
     "metadata": {},
     "output_type": "execute_result"
    }
   ],
   "source": [
    "gen_ai_article=\"\"\"The topic of generative AI comes up frequently in my newsletter, Actuator. I admit that I was a bit hesitant to spend more time on the subject a few months back. Anyone who has been reporting on technology for as long as I have has lived through countless hype cycles and been burned before. Reporting on tech requires a healthy dose of skepticism, hopefully tempered by some excitement about what can be done.\n",
    "\n",
    "This time out, it seemed generative AI was waiting in the wings, biding its time, waiting for the inevitable cratering of crypto. As the blood drained out of that category, projects like ChatGPT and DALL-E were standing by, ready to be the focus of breathless reporting, hopefulness, criticism, doomerism and all the different Kübler-Rossian stages of the tech hype bubble.\n",
    "\n",
    "Those who follow my stuff know that I was never especially bullish on crypto. Things are, however, different with generative AI. For starters, there’s a near universal agreement that artificial intelligence/machine learning broadly will play more centralized roles in our lives going forward.\n",
    "\n",
    "Smartphones offer great insight here. Computational photography is something I write about somewhat regularly. There have been great advances on that front in recent years, and I think many manufacturers have finally struck a good balance between hardware and software when it comes to both improving the end product and lowering the bar of entry. Google, for instance, pulls off some truly impressive tricks with editing features like Best Take and Magic Eraser.\n",
    "\n",
    "Sure, they’re neat tricks, but they’re also useful, rather than being features for features’ sake. Moving forward, however, the real trick will be seamlessly integrating them into the experience. With ideal future workflows, most users will have little to no notion of what’s happening behind the scenes. They’ll just be happy that it works. It’s the classic Apple playbook.\n",
    "\n",
    "Generative AI offers a similar “wow” effect out the gate, which is another way it differs from its hype cycle predecessor. When your least tech savvy relative can sit at a computer, type a few words into a dialogue field and then watch as the black box spits out paintings and short stories, there isn’t much conceptualizing required. That’s a big part of the reason all of this caught on as quickly as it did — most times when everyday people get pitched cutting-edge technologies, it requires them to visualize how it might look five or 10 years down the road.\n",
    "\n",
    "With ChatGPT, DALL-E, etc., you can experience it firsthand right now. Of course, the flip side of this is how difficult it becomes to temper expectations. Much as people are inclined to imbue robots with human or animal intelligence, without a fundamental understanding of AI, it’s easy to project intentionality here. But that’s just how things go now. We lead with the attention-grabbing headline and hope people stick around long enough to read about machinations behind it.\n",
    "\n",
    "Spoiler alert: Nine times out of 10 they won’t, and suddenly we’re spending months and years attempting to walk things back to reality.\n",
    "\n",
    "One of the nice perks of my job is the ability to break these things down with people much smarter than me. They take the time to explain things and hopefully I do a good job translating that for readers (some attempts are more successful than others).\n",
    "\n",
    "Once it became clear that generative AI has an important role to play in the future of robotics, I’ve been finding ways to shoehorn questions into conversations. I find that most people in the field agree with the statement in the previous sentence, and it’s fascinating to see the breadth of impact they believe it will have.\n",
    "\n",
    "For example, in my recent conversation with Marc Raibert and Gill Pratt, the latter explained the role generative AI is playing in its approach to robot learning:\n",
    "\n",
    "We have figure out how to do something, which is use modern generative AI techniques that enable human demonstration of both position and force to essentially teach a robot from just a handful of examples. The code is not changed at all. What this is based on is something called diffusion policy. It’s work that we did in collaboration with Columbia and MIT. We’ve taught 60 different skills so far.\n",
    "\n",
    "Last week, when I asked Nvidia’s VP and GM of Embedded and Edge Computing, Deepu Talla why the company believes generative AI is more than a fad, he told me:\n",
    "\n",
    "I think it speaks in the results. You can already see the productivity improvement. It can compose an email for me. It’s not exactly right, but I don’t have to start from zero. It’s giving me 70%. There are obvious things you can already see that are definitely a step function better than how things were before. Summarizing something’s not perfect. I’m not going to let it read and summarize for me. So, you can already see some signs of productivity improvements.\n",
    "\n",
    "Meanwhile, during my last conversation with Daniela Rus, the MIT CSAIL head explained how researchers are using generative AI to actually design the robots:\n",
    "\n",
    "It turns out that generative AI can be quite powerful for solving even motion planning problems. You can get much faster solutions and much more fluid and human-like solutions for control than with model predictive solutions. I think that’s very powerful, because the robots of the future will be much less roboticized. They will be much more fluid and human-like in their motions.\n",
    "\n",
    "We’ve also used generative AI for design. This is very powerful. It’s also very interesting , because it’s not just pattern generation for robots. You have to do something else. It can’t just be generating a pattern based on data. The machines have to make sense in the context of physics and the physical world. For that reason, we connect them to a physics-based simulation engine to make sure the designs meet their required constraints.\n",
    "\n",
    "This week, a team at Northwestern University unveiled its own research into AI-generated robot design. The researchers showcased how they designed a “successfully walking robot in mere seconds.” It’s not much to look at, as these things go, but it’s easy enough to see how with additional research, the approach could be used to create more complex systems.\n",
    "\n",
    "“We discovered a very fast AI-driven design algorithm that bypasses the traffic jams of evolution, without falling back on the bias of human designers,” said research lead Sam Kriegman. “We told the AI that we wanted a robot that could walk across land. Then we simply pressed a button and presto! It generated a blueprint for a robot in the blink of an eye that looks nothing like any animal that has ever walked the earth. I call this process ‘instant evolution.’”\n",
    "\n",
    "It was the AI program’s choice to put legs on the small, squishy robot. “It’s interesting because we didn’t tell the AI that a robot should have legs,” Kriegman added. “It rediscovered that legs are a good way to move around on land. Legged locomotion is, in fact, the most efficient form of terrestrial movement.”\n",
    "\n",
    "“From my perspective, generative AI and physical automation/robotics are what’s going to change everything we know about life on Earth,” Formant founder and CEO Jeff Linnell told me this week. “I think we’re all hip to the fact that AI is a thing and are expecting every one our jobs, every company and student will be impacted. I think it’s symbiotic with robotics. You’re not going to have to program a robot. You’re going to speak to the robot in English, request an action and then it will be figured out. It’s going to be a minute for that.”\n",
    "\n",
    "\"\"\"\n",
    "dynamic_detailed_summarize_premium(gen_ai_article,1,'article')"
   ]
  },
  {
   "cell_type": "code",
   "execution_count": 192,
   "metadata": {},
   "outputs": [
    {
     "name": "stdout",
     "output_type": "stream",
     "text": [
      "Important Keywords-['ai', 'generative', 'robot', 'things', 'going', 'human', 'just', 'like', 'people', 'think']\n",
      "Important_entities-['60', 'zero', 'Daniela Rus', 'Gill Pratt', 'Sam Kriegman', '70%', 'Earth', 'Magic Eraser', 'Kübler-Rossian', 'earth', 'Jeff Linnell', 'Northwestern University', 'recent years', 'years', 'a few months back', '10', 'months', 'One', 'this week', 'AI', 'Nine', 'Actuator', 'Columbia', 'Deepu Talla', 'This week', 'Google', 'five or 10 years', 'GM', 'MIT', 'Nvidia', 'Kriegman', 'Marc Raibert', 'English', 'Last week', 'seconds', 'Apple', 'Best Take']\n"
     ]
    },
    {
     "data": {
      "text/plain": [
       "'Generative AI offers a similar “wow” effect out the gate, which is another way it differs from its hype cycle predecessor. Last week, when I asked Nvidia’s VP and GM of Embedded and Edge Computing, Deepu Talla why the company believes generative AI is more than a fad, he told me:\\n\\nI think it speaks in the results. Things are, however, different with generative AI. Meanwhile, during my last conversation with Daniela Rus, the MIT CSAIL head explained how researchers are using generative AI to actually design the robots:\\n\\nIt turns out that generative AI can be quite powerful for solving even motion planning problems. It’s not exactly right, but I don’t have to start from zero. We’ve taught 60 different skills so far.\\n\\n I admit that I was a bit hesitant to spend more time on the subject a few months back. There have been great advances on that front in recent years, and I think many manufacturers have finally struck a good balance between hardware and software when it comes to both improving the end product and lowering the bar of entry. The researchers showcased how they designed a “successfully walking robot in mere seconds.” For example, in my recent conversation with Marc Raibert and Gill Pratt, the latter explained the role generative AI is playing in its approach to robot learning:\\n\\nWe have figure out how to do something, which is use modern generative AI techniques that enable human demonstration of both position and force to essentially teach a robot from just a handful of examples. It generated a blueprint for a robot in the blink of an eye that looks nothing like any animal that has ever walked the earth. “From my perspective, generative AI and physical automation/robotics are what’s going to change everything we know about life on Earth,” Formant founder and CEO Jeff Linnell told me this week. That’s a big part of the reason all of this caught on as quickly as it did — most times when everyday people get pitched cutting-edge technologies, it requires them to visualize how it might look five or 10 years down the road.\\n\\n Spoiler alert: Nine times out of 10 they won’t, and suddenly we’re spending months and years attempting to walk things back to reality.\\n\\n'"
      ]
     },
     "execution_count": 192,
     "metadata": {},
     "output_type": "execute_result"
    }
   ],
   "source": [
    "improved_dynamic_detailed_summarize(gen_ai_article,1,'article')"
   ]
  },
  {
   "cell_type": "code",
   "execution_count": 193,
   "metadata": {},
   "outputs": [],
   "source": [
    "story8=\"\"\"In the heart of a bustling town named Eldoria, there was a skilled clockmaker named Alistair. His shop, adorned with intricate clocks of all sizes, was a marvel for both locals and visitors. From grand grandfather clocks to delicate pocket watches, Alistair crafted them all.\n",
    "\n",
    "    One day, a young girl named Lila entered the shop with a request. She held a broken pocket watch, passed down through generations in her family. The watch had stopped ticking, and she hoped Alistair could breathe life into it once more.\n",
    "\n",
    "    Alistair, intrigued by the watch's unique design, agreed. As he opened the back, he discovered an encrypted note hidden inside. The note read, \"To unlock time's secret, listen to its heartbeat.\"\n",
    "\n",
    "    Puzzled, Alistair placed the watch near his ear. The rhythmic ticking began to form a melody. Entranced, he followed the tune's guidance and adjusted the watch's internal gears. To his amazement, the watch didn't just start ticking—it began projecting shimmering images of Lila's ancestors, revealing snippets of their lives.\n",
    "\n",
    "    Lila watched in awe as the scenes unfolded: her great-grandfather as a brave soldier, her grandmother dancing under the moonlight, and her mother's first steps as a child. The watch was more than a timekeeper; it was a keeper of memories.\n",
    "\n",
    "    Alistair returned the mended watch to Lila, who was teary-eyed with gratitude. She left the shop, holding not just a repaired watch, but a piece of her family's history.\n",
    "\n",
    "    Rumors of the magical pocket watch spread throughout Eldoria. People from far and wide visited Alistair's shop, hoping to discover the secrets within their timepieces. But no other watch held the magic Lila's did.\n",
    "\n",
    "    Years later, Alistair received a gift—a grand clock for his shop, sent anonymously. Every hour, on the hour, it played the same melody he had heard from Lila's watch. A note accompanied the clock: \"To remind you that time is not just about ticking seconds, but about cherished moments. Thank you.\"\n",
    "\n",
    "    Alistair smiled, realizing that the true magic wasn't in the watches he fixed, but in the memories and moments they represented.\n",
    "\n",
    "\"\"\"\n"
   ]
  },
  {
   "cell_type": "code",
   "execution_count": 194,
   "metadata": {},
   "outputs": [
    {
     "name": "stdout",
     "output_type": "stream",
     "text": [
      "Important Keywords-['watch', 'alistair', 'lila', 'shop', 'ticking', 'just']\n",
      "Important_entities-['first', 'Puzzled, Alistair', 'the hour', 'One day', 'Lila', 'Every hour', 'Eldoria', 'Years later', 'Alistair']\n"
     ]
    },
    {
     "data": {
      "text/plain": [
       "'\"\\n\\nPuzzled, Alistair placed the watch near his ear. Alistair, intrigued by the watch\\'s unique design, agreed. To his amazement, the watch didn\\'t just start ticking—it began projecting shimmering images of Lila\\'s ancestors, revealing snippets of their lives.\\n\\n The watch had stopped ticking, and she hoped Alistair could breathe life into it once more.\\n\\n Alistair returned the mended watch to Lila, who was teary-eyed with gratitude. Lila watched in awe as the scenes unfolded: her great-grandfather as a brave soldier, her grandmother dancing under the moonlight, and her mother\\'s first steps as a child.'"
      ]
     },
     "execution_count": 194,
     "metadata": {},
     "output_type": "execute_result"
    }
   ],
   "source": [
    "improved_dynamic_detailed_summarize(story8,1,'story')"
   ]
  },
  {
   "cell_type": "code",
   "execution_count": 199,
   "metadata": {},
   "outputs": [
    {
     "name": "stdout",
     "output_type": "stream",
     "text": [
      "Keywords are-: ['watch', 'alistair', 'lila', 'shop', 'ticking']\n",
      "Entities are-: ['first', 'lila', 'alistair', 'every hour', 'years later', 'the hour', 'puzzled, alistair', 'eldoria', 'one day']\n"
     ]
    },
    {
     "data": {
      "text/plain": [
       "\"In the heart of a bustling town named Eldoria, there was a skilled clockmaker named Alistair. One day, a young girl named Lila entered the shop with a request. Alistair, intrigued by the watch's unique design, agreed. Puzzled, Alistair placed the watch near his ear. Rumors of the magical pocket watch spread throughout Eldoria.\""
      ]
     },
     "execution_count": 199,
     "metadata": {},
     "output_type": "execute_result"
    }
   ],
   "source": [
    "dynamic_detailed_summarize_premium(story8,0.8,'story')"
   ]
  },
  {
   "cell_type": "code",
   "execution_count": 200,
   "metadata": {},
   "outputs": [],
   "source": [
    "import spacy\n",
    "from sklearn.feature_extraction.text import TfidfVectorizer\n",
    "from sklearn.metrics.pairwise import linear_kernel\n",
    "from nltk.tokenize import sent_tokenize\n",
    "import numpy as np\n",
    "\n",
    "nlp = spacy.load(\"en_core_web_sm\")\n",
    "\n",
    "# Enhanced Sentence Scoring\n",
    "def score_sentences(sentences, important_keywords, important_entities):\n",
    "    keyword_weight = 1\n",
    "    entity_weight = 1.5\n",
    "    scores = []\n",
    "\n",
    "    for sentence in sentences:\n",
    "        score = 0\n",
    "        tokens = sentence.split()\n",
    "        for token in tokens:\n",
    "            if token.lower() in important_keywords:\n",
    "                score += keyword_weight\n",
    "            if token.lower() in important_entities:\n",
    "                score += entity_weight\n",
    "        scores.append(score)\n",
    "\n",
    "    return scores\n",
    "\n",
    "# Simple Rule-Based Sentence Compression\n",
    "def compress_sentence(sentence):\n",
    "    doc = nlp(sentence)\n",
    "    tokens = [token.text for token in doc if token.pos_ not in ['ADJ', 'ADV'] and token.dep_ != 'punct']\n",
    "    compressed = ' '.join(tokens)\n",
    "    return compressed\n",
    "\n",
    "# Function to generate dynamic detailed summaries with the enhancements\n",
    "def dynamic_detailed_summarize_premium1(input_text, detail_level=1, context_type='general'):\n",
    "    important_keywords = extract_important_keywords(input_text)\n",
    "    important_entities = extract_named_entities(input_text)\n",
    "    \n",
    "    print(f'Keywords are-: {important_keywords}')\n",
    "    print(f'Entities are-: {important_entities}')    \n",
    "    \n",
    "    sentences = sent_tokenize(input_text)\n",
    "    sentence_scores = score_sentences(sentences, important_keywords, important_entities)\n",
    "\n",
    "    # Context weightage for adjusting the number of sentences based on context_type\n",
    "    context_weightage = {\n",
    "        'general': 1,\n",
    "        'story': 1.5,\n",
    "        'report': 1.2,\n",
    "        'article': 1.3  # Adding support for 'article' context\n",
    "    }\n",
    "\n",
    "    num_output_sentences = max(2, int(detail_level * len(sentences) / 5 * context_weightage.get(context_type, 1)))\n",
    "    \n",
    "    # Selecting top-scoring sentences\n",
    "    ranked_sentences = [sentences[i] for i in np.argsort(sentence_scores, axis=0)[-num_output_sentences:]]\n",
    "\n",
    "    # Compressing the sentences\n",
    "    compressed_sentences = [compress_sentence(sentence) for sentence in ranked_sentences]\n",
    "    \n",
    "    return ' '.join(compressed_sentences)\n"
   ]
  },
  {
   "cell_type": "code",
   "execution_count": 203,
   "metadata": {},
   "outputs": [
    {
     "name": "stdout",
     "output_type": "stream",
     "text": [
      "Keywords are-: ['watch', 'alistair', 'lila', 'shop', 'ticking']\n",
      "Entities are-: ['first', 'lila', 'alistair', 'every hour', 'years later', 'the hour', 'puzzled, alistair', 'eldoria', 'one day']\n"
     ]
    },
    {
     "data": {
      "text/plain": [
       "\"To his amazement the watch did n't start ticking it began projecting shimmering images of Lila 's ancestors revealing snippets of their lives The ticking began to form a melody The watch was than a timekeeper it was a keeper of memories Years Alistair received a gift a clock for his shop sent From grandfather clocks to pocket watches Alistair crafted them all Alistair smiled realizing that the magic was n't in the watches he fixed but in the memories and moments they represented Alistair returned the mended watch to Lila who was eyed with gratitude Puzzled Alistair placed the watch near his ear The watch had stopped ticking and she hoped Alistair could breathe life into it One day a girl named Lila entered the shop with a request Lila watched in awe as the scenes unfolded her grandfather as a soldier her grandmother dancing under the moonlight and her mother 's steps as a child\""
      ]
     },
     "execution_count": 203,
     "metadata": {},
     "output_type": "execute_result"
    }
   ],
   "source": [
    "dynamic_detailed_summarize_premium1(story8,1.5,'story')"
   ]
  },
  {
   "cell_type": "code",
   "execution_count": 205,
   "metadata": {},
   "outputs": [
    {
     "name": "stdout",
     "output_type": "stream",
     "text": [
      "Keywords are-: ['lily', 'forest', 'tree', 'village', 'heart']\n",
      "Entities are-: ['that day', 'one', 'evening', 'lily', 'max', 'the day', 'autumn morning', 'morning']\n"
     ]
    },
    {
     "data": {
      "text/plain": [
       "\"Once upon a time in a quaint, picturesque village nestled between rolling hills and a sparkling river, there lived a young girl named Lily. Lily's favorite place to explore was the dense forest that bordered the village. And so, in the heart of the forest, and in the heart of a young girl, the spirit of curiosity and the love of adventure lived on, forever inspiring those who followed in her footsteps.\""
      ]
     },
     "execution_count": 205,
     "metadata": {},
     "output_type": "execute_result"
    }
   ],
   "source": [
    "dynamic_detailed_summarize_premium(\"\"\"Once upon a time in a quaint, picturesque village nestled between rolling hills and a sparkling river, there lived a young girl named Lily. She was known throughout the village for her radiant smile and her insatiable curiosity. Lily's eyes, as bright as the morning sun, seemed to sparkle with wonder at the world around her.\n",
    "\n",
    "Lily's favorite place to explore was the dense forest that bordered the village. The villagers often warned her about the dangers that lurked within the dark woods, but Lily was undeterred. She believed that there was more to the forest than met the eye, and she longed to discover its secrets.\n",
    "\n",
    "One crisp autumn morning, as the leaves turned brilliant shades of red and gold, Lily decided to embark on a grand adventure into the heart of the forest. She packed a small satchel with some food, a lantern, and a notebook to document her findings. With a determined spirit and her loyal dog, Max, by her side, she ventured into the unknown.\n",
    "\n",
    "As Lily and Max ventured deeper into the forest, they encountered a myriad of wonders. They found a hidden waterfall cascading gracefully into a crystal-clear pool, where colorful fish darted among the rocks. Further on, they stumbled upon a grove of ancient, towering trees, their branches forming a natural cathedral beneath the sky.\n",
    "\n",
    "As the day turned to evening, Lily and Max came upon a clearing bathed in the soft glow of fireflies. In the center of the clearing, there stood an old, gnarled oak tree, its trunk adorned with a curious, ancient carving. Lily carefully examined the carving and sketched it in her notebook. It depicted a map, with a series of symbols and lines leading to a place unknown.\n",
    "\n",
    "With excitement bubbling in her chest, Lily decided to follow the map. She traced the lines through the forest, each step taking her deeper into the wilderness. Along the way, she encountered talking animals, wise owls, and friendly sprites who helped her decipher the symbols on the map.\n",
    "\n",
    "Finally, after days of wandering, Lily arrived at a hidden glen, bathed in the soft light of a magical, glowing flower. At the center of the glen stood a majestic, ancient tree unlike any other. Its bark shimmered with an otherworldly radiance, and its branches seemed to reach up to the heavens themselves.\n",
    "\n",
    "Lily approached the tree with reverence, and as she touched its trunk, she felt a surge of energy flow through her. The tree whispered ancient wisdom, filling her with a deep understanding of the interconnectedness of all things in the world. She realized that the forest held not just secrets but also the key to a profound, unending adventure: the adventure of learning and understanding the world around her.\n",
    "\n",
    "With a heart full of gratitude and knowledge, Lily bid farewell to the magical glen and made her way back home, her trusty companion Max by her side. She returned to her village, where she shared the tales of her incredible journey and the wisdom she had gained from the enchanted tree. The villagers were amazed by her stories and the lessons she imparted.\n",
    "\n",
    "From that day on, Lily became known as the village's wisest explorer, and she continued to venture into the forest, discovering new wonders and sharing her knowledge with her fellow villagers. And so, in the heart of the forest, and in the heart of a young girl, the spirit of curiosity and the love of adventure lived on, forever inspiring those who followed in her footsteps.\"\"\",0.5,'story')"
   ]
  },
  {
   "cell_type": "code",
   "execution_count": 206,
   "metadata": {},
   "outputs": [
    {
     "name": "stdout",
     "output_type": "stream",
     "text": [
      "Keywords are-: ['house', 'pig', 'wolf', 'little', 'pigs']\n",
      "Entities are-: ['that day', 'first', 'two', 'second', 'three', 'wolf', 'the three little pigs', 'one day', 'third']\n"
     ]
    },
    {
     "data": {
      "text/plain": [
       "'Once upon a time, there were three little pigs who lived in a small village. One day, a big, bad wolf came to the village. The wolf fell right into it and ran away, never to bother the three little pigs again. And so, the tale of the Three Little Pigs teaches us the importance of diligence and hard work in the face of adversity.'"
      ]
     },
     "execution_count": 206,
     "metadata": {},
     "output_type": "execute_result"
    }
   ],
   "source": [
    "dynamic_detailed_summarize_premium(\"\"\"Once upon a time, there were three little pigs who lived in a small village. Each pig had its own house to live in. The first pig was lazy and built his house out of straw because it was quick and easy. The second pig was a bit more diligent and constructed his house out of sticks. The third pig, however, was wise and hardworking, and he built his house using sturdy bricks.\n",
    "\n",
    "One day, a big, bad wolf came to the village. He huffed and puffed and blew down the first little pig's straw house with ease. The frightened pig ran to the second pig's house, but the wolf, undeterred, huffed and puffed again and knocked down the stick house.\n",
    "\n",
    "Now, the two terrified pigs ran to the third pig's brick house. The wolf tried with all his might to blow down the brick house, but no matter how hard he huffed and puffed, he couldn't knock it down. Frustrated and hungry, the wolf decided to climb down the chimney and into the house. However, the clever third pig had a pot of boiling water waiting in the fireplace. The wolf fell right into it and ran away, never to bother the three little pigs again.\n",
    "\n",
    "The three little pigs celebrated their victory and learned an important lesson about the value of hard work and building things properly. From that day on, they lived happily in their sturdy brick house, knowing they were safe from the big, bad wolf.\n",
    "\n",
    "And so, the tale of the Three Little Pigs teaches us the importance of diligence and hard work in the face of adversity.\"\"\",1,'story')"
   ]
  },
  {
   "cell_type": "code",
   "execution_count": 208,
   "metadata": {},
   "outputs": [
    {
     "name": "stdout",
     "output_type": "stream",
     "text": [
      "Keywords are-: ['world', 'day', 'life', 'gentle', 'wonders']\n",
      "Entities are-: ['first', 'night', 'the day', 'mornings', 'each day', 'nature', 'a tranquil morning']\n"
     ]
    },
    {
     "data": {
      "text/plain": [
       "'On a tranquil morning, the world awakens with a symphony of natural sounds. As the day draws to a close, the world slips into the tranquil embrace of night.'"
      ]
     },
     "execution_count": 208,
     "metadata": {},
     "output_type": "execute_result"
    }
   ],
   "source": [
    "dynamic_detailed_summarize_premium(\"\"\"On a tranquil morning, the world awakens with a symphony of natural sounds. Birds greet the day with melodious songs, and the sun's first rays cast a warm, golden hue upon the landscape. Dew-kissed flowers bloom, and leaves rustle in the gentle breeze.\n",
    "\n",
    "Nature's beauty is not confined to mornings alone. Throughout the day, rivers meander through lush valleys, their waters glistening under the sun's watchful eye. Majestic mountains stand as sentinels, their snow-capped peaks touching the sky. Forests are a sanctuary of green, where ancient trees whisper secrets of the past.\n",
    "\n",
    "In this world of wonders, life flourishes in myriad forms. Creatures of all sizes roam the land, from the smallest insects to the mightiest predators. Each species plays its role in the intricate web of life, a dance of survival and cooperation.\n",
    "\n",
    "Humanity, too, is part of this grand tapestry. Cities rise with towering skyscrapers, bustling with the energy of progress and innovation. People of diverse backgrounds and dreams navigate their way through the urban labyrinth, seeking connection and purpose.\n",
    "\n",
    "Yet, amidst the modern world, there are moments of reflection and solace. Individuals find solace in the pages of books, the strokes of a paintbrush, or the gentle strumming of a guitar. Communities gather to celebrate traditions, share stories, and express the bonds of kinship.\n",
    "\n",
    "As the day draws to a close, the world slips into the tranquil embrace of night. Stars twinkle in the vast expanse above, and the moon casts its gentle glow. It is a time for dreams, for contemplation, and for the world to rest in peaceful slumber.\n",
    "\n",
    "In this ever-evolving world, the beauty of nature, the diversity of life, and the human spirit's resilience continue to weave a tapestry of experiences. It's a world where each day brings new discoveries, where challenges are met with courage, and where the wonders of existence are celebrated.\n",
    "\"\"\",1)"
   ]
  },
  {
   "cell_type": "code",
   "execution_count": 209,
   "metadata": {},
   "outputs": [
    {
     "name": "stdout",
     "output_type": "stream",
     "text": [
      "Keywords are-: ['watch', 'alistair', 'lila', 'shop', 'ticking']\n",
      "Entities are-: ['first', 'lila', 'alistair', 'every hour', 'years later', 'the hour', 'puzzled, alistair', 'eldoria', 'one day']\n"
     ]
    },
    {
     "data": {
      "text/plain": [
       "\"In the heart of a bustling town named Eldoria, there was a skilled clockmaker named Alistair. From grand grandfather clocks to delicate pocket watches, Alistair crafted them all. One day, a young girl named Lila entered the shop with a request. The watch had stopped ticking, and she hoped Alistair could breathe life into it once more. Alistair, intrigued by the watch's unique design, agreed. Puzzled, Alistair placed the watch near his ear. Alistair returned the mended watch to Lila, who was teary-eyed with gratitude. Rumors of the magical pocket watch spread throughout Eldoria. Years later, Alistair received a gift—a grand clock for his shop, sent anonymously.\""
      ]
     },
     "execution_count": 209,
     "metadata": {},
     "output_type": "execute_result"
    }
   ],
   "source": [
    "dynamic_detailed_summarize_premium(story8,1.5,'story')"
   ]
  },
  {
   "cell_type": "code",
   "execution_count": 210,
   "metadata": {},
   "outputs": [
    {
     "name": "stdout",
     "output_type": "stream",
     "text": [
      "Keywords are-: ['agricultural', 'crops', 'events', 'extreme', 'food']\n",
      "Entities are-: ['1', '5', 'the 21st century', '4', 'precipitation patterns: changes', 'governmental support', 'extreme weather', '2', 'potential solutions', 'adaptive farming techniques: introduction of drought', '6', 'continuous', 'early warning systems: implementation of meteorological', '3']\n"
     ]
    },
    {
     "data": {
      "text/plain": [
       "'This report delves into the repercussions of rising temperatures, altered precipitation patterns, and increasing frequency of extreme weather events on agricultural productivity and food security. Introduction:\\nClimate change, characterized by global warming, sea-level rise, and extreme weather events, has become one of the most pressing issues of the 21st century. Shift in Agricultural Zones: As temperatures rise, traditional agricultural zones are shifting. Social Impact:\\nFood security is compromised, especially in developing nations. Conclusion:\\nWhile the challenges posed by climate change are daunting, with collective effort, technology, and adaptive strategies, the global agricultural community can navigate these uncharted waters.'"
      ]
     },
     "execution_count": 210,
     "metadata": {},
     "output_type": "execute_result"
    }
   ],
   "source": [
    "dynamic_detailed_summarize_premium(\"\"\"Impact of Climate Change on Global Agriculture\n",
    "\n",
    "Executive Summary:\n",
    "The ongoing effects of climate change present significant challenges to global agriculture. This report delves into the repercussions of rising temperatures, altered precipitation patterns, and increasing frequency of extreme weather events on agricultural productivity and food security.\n",
    "\n",
    "1. Introduction:\n",
    "Climate change, characterized by global warming, sea-level rise, and extreme weather events, has become one of the most pressing issues of the 21st century. Agriculture, being highly dependent on climatic conditions, stands vulnerable to these changes.\n",
    "\n",
    "2. Key Findings:\n",
    "\n",
    "Temperature Rise: A consistent increase in temperatures affects crop germination and growth. While certain crops may benefit from a slight temperature rise, most will suffer, especially if the increase surpasses their optimal growth temperature.\n",
    "\n",
    "Precipitation Patterns: Changes in rainfall patterns can lead to prolonged droughts or excessive rainfall. Both scenarios are detrimental to crops, impacting yield and quality.\n",
    "\n",
    "Extreme Weather Events: The rising frequency of hurricanes, floods, and droughts can devastate crops, leading to food shortages and market instability.\n",
    "\n",
    "Shift in Agricultural Zones: As temperatures rise, traditional agricultural zones are shifting. This forces farmers to adapt by either changing their cropping patterns or relocating their farming operations.\n",
    "\n",
    "3. Economic Implications:\n",
    "The agricultural sector, contributing significantly to the GDP of many nations, faces economic strain due to reduced yields. This leads to increased food prices, affecting consumers worldwide.\n",
    "\n",
    "4. Social Impact:\n",
    "Food security is compromised, especially in developing nations. This can lead to malnutrition, societal unrest, and even mass migrations in search of better livelihood opportunities.\n",
    "\n",
    "5. Potential Solutions:\n",
    "\n",
    "Adaptive Farming Techniques: Introduction of drought-resistant crops, efficient irrigation systems, and soil conservation methods.\n",
    "\n",
    "Early Warning Systems: Implementation of meteorological tools to forecast extreme weather events, allowing farmers to take preventive measures.\n",
    "\n",
    "Governmental Support: Policy interventions, subsidies, and support in research and development to drive innovations in farming.\n",
    "\n",
    "6. Conclusion:\n",
    "While the challenges posed by climate change are daunting, with collective effort, technology, and adaptive strategies, the global agricultural community can navigate these uncharted waters. Continuous research, investment, and awareness are crucial.\"\"\",1,'report')"
   ]
  },
  {
   "cell_type": "code",
   "execution_count": 211,
   "metadata": {},
   "outputs": [
    {
     "name": "stdout",
     "output_type": "stream",
     "text": [
      "Keywords are-: ['energy', 'wind', 'solar', 'renewable', 'grid']\n",
      "Entities are-: ['the last decade', 'paris accord', 'hydropower']\n"
     ]
    },
    {
     "data": {
      "text/plain": [
       "\"In the last decade, renewable energy has emerged from the fringes to become a mainstream powerhouse. Wind energy is another success story. Governments and corporations are recognizing the value of renewable energy. The intermittent nature of solar and wind energy requires effective energy storage solutions. Battery technology, while advancing rapidly, still needs to evolve to meet the demands of a fully renewable-powered grid. Renewable energy is no longer an alternative; it's the future.\""
      ]
     },
     "execution_count": 211,
     "metadata": {},
     "output_type": "execute_result"
    }
   ],
   "source": [
    "dynamic_detailed_summarize_premium(\"\"\"In the last decade, renewable energy has emerged from the fringes to become a mainstream powerhouse. From solar panels adorning rooftops to wind turbines dotting landscapes, the evidence of a seismic shift in energy production is all around us.\n",
    "\n",
    "Solar energy, in particular, has seen exponential growth. The cost of solar panels has plummeted, making it more accessible to homeowners and businesses. Innovative grid-tied systems allow excess energy to be sold back to the grid, creating an incentive for adoption. The efficiency of photovoltaic cells continues to improve, further driving the appeal of solar energy.\n",
    "\n",
    "Wind energy is another success story. The sight of wind farms, with their large turbines harnessing the power of the wind, is becoming increasingly common. Advancements in turbine design and technology mean they can now generate power at lower wind speeds, increasing their utility and efficiency.\n",
    "\n",
    "Hydropower, using the energy of flowing water to generate electricity, is not a new concept. However, recent technological innovations have revitalized this age-old method. New turbine designs, which are more fish-friendly and efficient, are being implemented in dams across the world.\n",
    "\n",
    "But it's not just about technology. Governments and corporations are recognizing the value of renewable energy. Investments in green technologies are surging, and international agreements like the Paris Accord emphasize the global commitment to reducing carbon emissions.\n",
    "\n",
    "Challenges remain, of course. The intermittent nature of solar and wind energy requires effective energy storage solutions. Battery technology, while advancing rapidly, still needs to evolve to meet the demands of a fully renewable-powered grid. There's also the challenge of overhauling existing infrastructure to accommodate these new energy sources.\n",
    "\n",
    "However, the trajectory is clear. Renewable energy is no longer an alternative; it's the future. The combination of technological advancement, economic incentives, and environmental imperatives is pushing humanity towards a greener, more sustainable future.\n",
    "\n",
    "\"\"\",1.5,'article')"
   ]
  },
  {
   "cell_type": "code",
   "execution_count": 212,
   "metadata": {},
   "outputs": [
    {
     "name": "stdout",
     "output_type": "stream",
     "text": [
      "Keywords are-: ['ai', 'company', 'overflow', 'stack', 'year']\n",
      "Entities are-: ['over 500', 'stack overflow’s', 'july', 'ai', 'this year', 'the coming months', 'copilot', 'earlier this year', '28%', 'more than 100', 'stack overflow for teams', 'approximately 28%', 'january', 'codey', 'august', 'last year', 'github', 'prashanth chandrasekar', 'stack overflow', 'may', 'last month', 'chandrasekar', 'google', 'bard', 'monday', 'stackers']\n"
     ]
    },
    {
     "data": {
      "text/plain": [
       "'Developer community site Stack Overflow has laid off 28% of its staff, the Prosus-owned company announced Monday. While Stack Overflow is primarily a Q&A website for consumers it also has enterprise products like “Stack Overflow for Teams,” which helps organizations maintain a company-wide knowledge base. The company didn’t specify the number of laid-off employees. In May, during its developer conference, Google announced a bunch of AI-centric coding tools including an assistive bot called Codey.'"
      ]
     },
     "execution_count": 212,
     "metadata": {},
     "output_type": "execute_result"
    }
   ],
   "source": [
    "dynamic_detailed_summarize_premium(\"\"\"Developer community site Stack Overflow has laid off 28% of its staff, the Prosus-owned company announced Monday.\n",
    "\n",
    "In a blog post, Stack Overflow’s CEO, Prashanth Chandrasekar indicated that the company is focusing on its path to profitability. While the post didn’t elaborate on the reason behind the job cuts, it mentioned customers’ budgets shifting elsewhere “due to the macroeconomic pressures.”\n",
    "\n",
    "“This year we took many steps to spend less. Changes have been pursued through the lens of minimizing the impact on the lives of Stackers. Unfortunately, those changes were not enough and we have made the extremely difficult decision to reduce the company’s headcount by approximately 28%,” Chandrasekar said.\n",
    "\n",
    "While Stack Overflow is primarily a Q&A website for consumers it also has enterprise products like “Stack Overflow for Teams,” which helps organizations maintain a company-wide knowledge base.\n",
    "\n",
    "The company didn’t specify the number of laid-off employees. However, since it had pushed its headcount to over 500 people last year, more than 100 people are likely to be impacted.\n",
    "\n",
    "With generative AI gaining popularity for helping coders with different problems, Stack Overflow has seen its traffic drop as compared to last year.\n",
    "\n",
    "In August, the company said that because of generative AI, it expects “some rises and falls in traditional traffic and engagement over the coming months.”\n",
    "\n",
    "Earlier this year, Stack Overflow asked AI companies to pay for training data. In January, it barred users from posting answers generated by AI. The company is also trying to bolster its own AI capabilities. In July, it launched OverflowAI with features like generative AI-powered search.\n",
    "\n",
    "Big Tech is also moving fast to make generative AI-aided products available for coders in a rapid manner. Last month, GitHub expanded access to its Copilot chat to individual users. In May, during its developer conference, Google announced a bunch of AI-centric coding tools including an assistive bot called Codey. The company has also trained its conversational AI tool Bard to help users with code generation and debugging.\"\"\",1,'article')"
   ]
  },
  {
   "cell_type": "code",
   "execution_count": 213,
   "metadata": {},
   "outputs": [
    {
     "name": "stdout",
     "output_type": "stream",
     "text": [
      "Keywords are-: ['coffee', 'world', 'various', 'berries', 'drink']\n",
      "Entities are-: ['first', 'kaldi', 'islamic', 'khaneh', 'yemen', 'england', 'french', '1650', 'caribbean', 'brazil', 'ethiopia', 'today', 'oxford', 'european', 'java', 'north africa', 'europe', 'indonesia', 'the arabian peninsula', '1645', 'the 15th century', 'every day', 'the near east', 'venice', 'long hours', 'the 17th century', 'millions', 'the middle east']\n"
     ]
    },
    {
     "data": {
      "text/plain": [
       "'Coffee is one of the most beloved beverages in the world, consumed by millions of people every day. The demand for coffee beans grew, and European colonizers began to establish coffee plantations in various parts of the world. Today, coffee is grown in a multitude of countries around the world.'"
      ]
     },
     "execution_count": 213,
     "metadata": {},
     "output_type": "execute_result"
    }
   ],
   "source": [
    "dynamic_detailed_summarize_premium(\"\"\"Coffee is one of the most beloved beverages in the world, consumed by millions of people every day. The story of coffee begins in Ethiopia, where, according to legend, a goat herder named Kaldi discovered the coffee bean. Observing that his goats became more energetic after eating berries from a certain plant, Kaldi tried the berries himself and experienced a similar effect. He shared his discovery with a local monastery, where monks used the berries to make a drink that helped them stay awake during long hours of prayer.\n",
    "\n",
    "From Ethiopia, coffee spread to the Arabian Peninsula. By the 15th century, it was being grown in Yemen, and from there, it made its way to other parts of the Middle East, North Africa, and eventually Europe. The drink became popular in Islamic countries as alcohol consumption was prohibited, and coffee provided a similar communal experience.\n",
    "\n",
    "Coffee houses, or qahveh khaneh, began to appear in cities across the Near East. These establishments served as places where people could socialize, listen to music, play chess, and discuss current events. In the 17th century, coffee made its way to Europe, where it quickly became popular. Venice's first coffeehouse opened in 1645, and England's first coffeehouse opened in Oxford in 1650.\n",
    "\n",
    "The demand for coffee beans grew, and European colonizers began to establish coffee plantations in various parts of the world. Java in Indonesia, Brazil, and the Caribbean became major centers for coffee production.\n",
    "\n",
    "Today, coffee is grown in a multitude of countries around the world. Advances in technology have allowed for the development of various coffee-making methods, from the espresso machine to the French press to the drip brewer. There are also numerous coffee varieties and flavors, catering to a range of tastes.\n",
    "\n",
    "In addition to its role as a popular beverage, coffee has played a significant role in many societies throughout history. It has been a source of inspiration for artists, writers, and thinkers. Coffee houses have served as centers of social activity, intellectual discussion, and even political plotting. The drink has also been the cause of controversy. At various points in history, it has been banned, taxed heavily, and sparked social and economic revolutions.\n",
    "\n",
    "\"\"\",1)"
   ]
  },
  {
   "cell_type": "code",
   "execution_count": 220,
   "metadata": {},
   "outputs": [
    {
     "name": "stdout",
     "output_type": "stream",
     "text": [
      "Keywords are-: ['linkedin', 'ai', 'billion', 'announced', 'members']\n",
      "Entities are-: ['this morning', '2016', 'over $15 billion', 'ai', '668', 'layoffs.fyi', 'fiscal-year', 'china', 'linkedin', 'today', 'more than 950 million', '2023', 'earlier this month', '7', 'talent solutions', 'microsoft', 'more than 242,000', 'more than $26 billion', 'some 563', '1,384', '716', 'july 2023', 'five months']\n"
     ]
    },
    {
     "data": {
      "text/plain": [
       "'Earlier this month, LinkedIn announced that it would roll out a raft of new AI-powered tools across the business. The cuts, announced this morning, come five months after LinkedIn announced 716 job cuts, at the same time that it would be phasing out its app in China. “We continue to use AI to help our members and customers connect to opportunities and tap into the experiences of experts on the platform. Our AI-powered collaborative articles are now the fastest-growing traffic driver to LinkedIn,” it said at the time.'"
      ]
     },
     "execution_count": 220,
     "metadata": {},
     "output_type": "execute_result"
    }
   ],
   "source": [
    "dynamic_detailed_summarize_premium(\"\"\"Earlier this month, LinkedIn announced that it would roll out a raft of new AI-powered tools across the business. Today, it’s making a different kind of announcement focused on the future: The company is laying off 668 employees.\n",
    "\n",
    "We understand from a reliable source that the majority of the layoffs, some 563, will be in R&D, with teams across engineering, product, talent and finance impacted.\n",
    "\n",
    "The cuts, announced this morning, come five months after LinkedIn announced 716 job cuts, at the same time that it would be phasing out its app in China. Today’s cuts bring the total number of layoffs to Microsoft-owned LinkedIn to 1,384. In total, there have been more than 242,000 people laid off in the technology sector in 2023, according to employment tracker Layoffs.fyi.\n",
    "\n",
    "“While we are adapting our organizational structures and streamlining our decision making, we are continuing to invest in strategic priorities for our future and to ensure we continue to deliver value for our members and customers,” the company said in an unsigned statement today. “We are committed to providing our full support to all impacted employees during this transition and ensuring that they are treated with care and respect.”\n",
    "\n",
    "It didn’t specify which strategic priorities but a refocus on hiring more AI talent is likely part of the mix.\n",
    "\n",
    "After getting acquired by Microsoft for more than $26 billion in 2016, LinkedIn became significantly less transparent in terms of its finances and other operational metrics. In Microsoft’s July 2023 full-fiscal-year earnings report, the company noted that it had more than 950 million members and over $15 billion in revenues, with Talent Solutions the single biggest contributor at $7 billion+.\n",
    "\n",
    "“We continue to use AI to help our members and customers connect to opportunities and tap into the experiences of experts on the platform. Our AI-powered collaborative articles are now the fastest-growing traffic driver to LinkedIn,” it said at the time. \"\"\",1.5,'article')"
   ]
  },
  {
   "cell_type": "code",
   "execution_count": 221,
   "metadata": {},
   "outputs": [
    {
     "name": "stdout",
     "output_type": "stream",
     "text": [
      "Keywords are-: ['digital', 'businesses', 'like', 'data', 'marketing']\n",
      "Entities are-: ['digital technology', 'covid-19', 'alibaba', 'google cloud', 'digital', 'aws', 'spotify', 'netflix', 'rpa', 'remote work and cloud computing', 'microsoft azure', 'the past two decades', 'digital marketing', 'amazon']\n"
     ]
    },
    {
     "data": {
      "text/plain": [
       "'The Impact of Digital Technology on Modern Businesses\\n\\nExecutive Summary:\\nDigital technology has drastically transformed the landscape of modern businesses. Introduction:\\nOver the past two decades, the rapid growth of digital technology has influenced every sector of the economy. E-commerce platforms like Amazon and Alibaba have transformed the retail landscape, allowing businesses to reach global audiences.'"
      ]
     },
     "execution_count": 221,
     "metadata": {},
     "output_type": "execute_result"
    }
   ],
   "source": [
    "dynamic_detailed_summarize_premium(\"\"\"The Impact of Digital Technology on Modern Businesses\n",
    "\n",
    "Executive Summary:\n",
    "Digital technology has drastically transformed the landscape of modern businesses. With the evolution of technologies like artificial intelligence, big data, and cloud computing, businesses are redefining their operational strategies and customer engagement models.\n",
    "\n",
    "Introduction:\n",
    "Over the past two decades, the rapid growth of digital technology has influenced every sector of the economy. From retail and healthcare to finance and manufacturing, the digital revolution is evident.\n",
    "\n",
    "Digital Marketing and E-commerce:\n",
    "The growth of digital platforms has given rise to new marketing strategies. Traditional advertising methods like television and print have been supplemented with digital marketing techniques such as search engine optimization, pay-per-click advertising, and social media marketing. E-commerce platforms like Amazon and Alibaba have transformed the retail landscape, allowing businesses to reach global audiences.\n",
    "\n",
    "Data-Driven Decision Making:\n",
    "Big data analytics enable businesses to gain insights from vast amounts of data. This has allowed for more informed decision-making processes and predictive analytics. Companies like Netflix and Spotify use big data to make content recommendations to their users, enhancing user engagement.\n",
    "\n",
    "Operational Efficiency with AI and Automation:\n",
    "Artificial intelligence and automation have streamlined business operations. Chatbots handle customer inquiries, while robotic process automation (RPA) systems manage repetitive tasks, increasing efficiency and reducing costs.\n",
    "\n",
    "Remote Work and Cloud Computing:\n",
    "The COVID-19 pandemic highlighted the importance of remote work capabilities. Cloud platforms like Microsoft Azure, Google Cloud, and AWS have enabled businesses to operate seamlessly in a remote environment.\n",
    "\n",
    "Cybersecurity Concerns:\n",
    "With the increased reliance on digital platforms, cybersecurity has become paramount. Businesses invest heavily in securing their data from cyber threats. Regular training and advanced cybersecurity measures are being adopted to protect sensitive information.\n",
    "\n",
    "Conclusion:\n",
    "The digital transformation journey has been beneficial for businesses, offering increased efficiency, wider customer reach, and innovative solutions. However, challenges like cybersecurity threats and the need for continuous upskilling of employees remain. As technology continues to evolve, businesses must stay adaptive and forward-thinking to harness its full potential.\"\"\",1,'report')"
   ]
  },
  {
   "cell_type": "code",
   "execution_count": 223,
   "metadata": {},
   "outputs": [
    {
     "name": "stdout",
     "output_type": "stream",
     "text": [
      "Keywords are-: ['ali', 'baba', 'door', 'men', 'cassim']\n",
      "Entities are-: ['cassim', 'first', 'one', 'ali baba', 'two', 'morgiana', \"ali baba's\", 'open sesame', '40', 'persia', 'one day', 'greedy cassim']\n"
     ]
    },
    {
     "data": {
      "text/plain": [
       "\"The men entered and the door shut behind them To Ali Baba 's amazement a door in the rock opened After a while the door opened and the men left the leader shouting Close Sesame He told his brother Cassim about the treasure Greedy Cassim went to the cave took a lot of gold but forgot the words to get out Morgiana went to the thieves ' den learned of their plan to kill Ali Baba and killed them Cassim was but Ali Baba was and earned his living by collecting wood in the forest One day while Ali Baba was working in the forest he saw a group of 40 men on horseback In a town in Persia there lived two brothers one named Cassim and the Ali Baba\""
      ]
     },
     "execution_count": 223,
     "metadata": {},
     "output_type": "execute_result"
    }
   ],
   "source": [
    "dynamic_detailed_summarize_premium1(\"\"\"In a town in Persia, there lived two brothers — one named Cassim and the other Ali Baba. Cassim was rich, but Ali Baba was poor and earned his living by collecting wood in the forest. One day, while Ali Baba was working in the forest, he saw a group of 40 men on horseback. Curious, he climbed a tree to watch them.\n",
    "\n",
    "The men stopped in front of a rock face and the leader shouted, \"Open Sesame!\" To Ali Baba's amazement, a door in the rock opened. The men entered, and the door shut behind them. After a while, the door opened again and the men left, the leader shouting, \"Close Sesame!\" to shut the door.\n",
    "\n",
    "Once they were gone, Ali Baba approached the rock and used the magic words to open the door. Inside, he found a vast treasure. He took some gold coins and left, using the words to close the door behind him.\n",
    "\n",
    "He told his brother Cassim about the treasure. Greedy Cassim went to the cave, took a lot of gold, but forgot the magic words to get out. The thieves found him, killed him, and hung his body at the entrance of the cave to scare off intruders.\n",
    "\n",
    "Ali Baba found his brother's body, brought it home, and sought help from Morgiana, a clever slave-girl. Morgiana went to the thieves' den, learned of their plan to kill Ali Baba and cunningly killed them first. She poured boiling oil into jars where the thieves were hiding, killing them all.\n",
    "\n",
    "Morgiana's bravery earned her freedom, and she married Ali Baba's son. Ali Baba, forever grateful, continued to visit the cave but ensured the secret remained safe, telling only those he trusted the most.\n",
    "\n",
    "\"\"\",1.5,'story')"
   ]
  },
  {
   "cell_type": "code",
   "execution_count": 227,
   "metadata": {},
   "outputs": [
    {
     "name": "stdout",
     "output_type": "stream",
     "text": [
      "Keywords are-: ['ai', 'apps', 'mac', 'app', 'users']\n",
      "Entities are-: ['first', 'up to', 'setapp', 'adobe', 'm2', '1,241', 'ai', 'this year', '70%', 'asana', '42%', 'annual', 'spark', 'macwhisper', 'mykola savin', 'photoshop', 'mac', 'daily', 'macgpt', '51', '63%', 'openai', 'elephas', '28%', 'notion', 'craft', 'm1', 'today', 'the first year', '44%', 'years past', '15', 'youtube', 'google office', 'one', 'mac app', 'luminar neo', 'apps', 'u.s.', 'microsoft', 'google', 'bing', 'browser apps', 'creative cloud']\n"
     ]
    },
    {
     "data": {
      "text/plain": [
       "'AI adoption among Mac app users is booming, according to a new report from app subscription service Setapp that found that 42% of Mac users today report using AI-based apps on a daily basis, and 63% claim to believe that AI apps are more beneficial than those without AI. The survey is part of an annual report on the state of Mac apps put out by the company, whose business involves a subscription service that provides access to more than 230 Mac apps. This year, its survey included responses from 1,241 Mac users, mostly in the U.S., so it does not necessarily provide insights into the adoption of AI-based apps on a more global basis. However, the report highlights the interest in AI apps among this portion of the Mac user base, noting that top AI apps included those that aren’t only native to macOS — like Google’s AI Bard and Bing, which integrated AI technology from OpenAI. But when they do, they tend to use those features repeatedly.”\\n\\nThis is the first year Setapp has asked in its annual survey about AI app adoption, so it’s not possible to quantify how many more Mac users are now using AI apps daily, compared with years past. But AI apps’ slice of users’ daily workflows is significant, it seems. And as 42% say they’re using AI apps daily, that means AI is now a large part of users’ daily workflows. The survey also reports on other general findings about Mac app adoption and discovery, noting that subscriptions are more popular than one-time purchases, and the top means of app discovery include the Mac App store, YouTube and social media.'"
      ]
     },
     "execution_count": 227,
     "metadata": {},
     "output_type": "execute_result"
    }
   ],
   "source": [
    "dynamic_detailed_summarize_premium(\"\"\"AI adoption among Mac app users is booming, according to a new report from app subscription service Setapp that found that 42% of Mac users today report using AI-based apps on a daily basis, and 63% claim to believe that AI apps are more beneficial than those without AI. In addition, Mac app developers are embracing AI, with 44% having already implemented either AI or machine learning models in their apps while another 28% say they’re working on doing so.\n",
    "\n",
    "The survey is part of an annual report on the state of Mac apps put out by the company, whose business involves a subscription service that provides access to more than 230 Mac apps. This year, its survey included responses from 1,241 Mac users, mostly in the U.S., so it does not necessarily provide insights into the adoption of AI-based apps on a more global basis. However, the report highlights the interest in AI apps among this portion of the Mac user base, noting that top AI apps included those that aren’t only native to macOS — like Google’s AI Bard and Bing, which integrated AI technology from OpenAI. In addition, other top AI apps users mentioned using include TypingMind, Elephas, Spark, Notion, Grammarly, Craft, Luminar Neo, MacGPT, Asana, Raycast and MacWhisper. Some of these leverage AI to augment their existing apps, as opposed to being an app that’s solely focused on interacting with AI.\n",
    "\n",
    "“We see how AI is transforming the app’s usage experience by providing additional user assistance,” said Mykola Savin, product lead of Setapp, in an announcement. “At Setapp, we also witness a great adoption of AI tools and the features we implement on the platform. Maybe not everyone succeeds with AI on the first try. But when they do, they tend to use those features repeatedly.”\n",
    "\n",
    "This is the first year Setapp has asked in its annual survey about AI app adoption, so it’s not possible to quantify how many more Mac users are now using AI apps daily, compared with years past. But AI apps’ slice of users’ daily workflows is significant, it seems. Out of an average of 51 installed apps on their Mac, users access up to 15 daily. And as 42% say they’re using AI apps daily, that means AI is now a large part of users’ daily workflows.\n",
    "\n",
    "Other often-used apps include browser apps, Microsoft and Google Office tools (both of which are integrating AI technologies, as well), and Adobe software — the latter which has embraced generative AI across a range of apps, including Photoshop, and other Creative Cloud apps. So users’ true exposure to AI-powered apps may be even higher.\n",
    "\n",
    "The survey also reports on other general findings about Mac app adoption and discovery, noting that subscriptions are more popular than one-time purchases, and the top means of app discovery include the Mac App store, YouTube and social media. In addition, 70% of the survey respondents report having a Mac with either an M1 or M2 chip, among other highlights. \"\"\",\n",
    "2,'article')"
   ]
  },
  {
   "cell_type": "code",
   "execution_count": 229,
   "metadata": {},
   "outputs": [
    {
     "name": "stdout",
     "output_type": "stream",
     "text": [
      "Keywords are-: ['wang', 'fried', 'bankman', 'said', 'alameda']\n",
      "Entities are-: ['midday', 'first', 'shitcoin day trader’s inc.', 'barbara fried', 'bankman-fried', 'friday', 'joseph bankman', 'bankman-fried’s', 'nishad singh', 'april 2021', 'singh', 'california', 'around 4 p.m.', '15-minute', 'sam', 'sam bankman-fried', 'ftx', 'mid november 2022', 'alameda research', 'one', 'alameda', 'wang', 'two', '17%', '65%', 'late december 2022', '$8 billion', '90%', 'alameda county', 'cto', '10%', 'caroline ellison', 'gary wang', 'ellison', '$65 billion', 'around $200 million to $300 million', 'morning', 'millions', '5%']\n"
     ]
    },
    {
     "data": {
      "text/plain": [
       "'The Sam Bankman-Fried trial gained steam after a somewhat sleepier first half of the day. Bankman-Fried’s parents were also there. And while Bankman-Fried did not write the code, Wang said Bankman-Fried did tell him and other developers what to implement. “Sometimes we talked [disagreements] out, but in the end, it’s Sam’s decision,” Wang said. At the time, both Wang and Bankman-Fried were billionaires. “If we named our company Shitcoin Day Trader’s Inc., no one would do business [with us],” he said at the time.'"
      ]
     },
     "execution_count": 229,
     "metadata": {},
     "output_type": "execute_result"
    }
   ],
   "source": [
    "dynamic_detailed_summarize_premium(\"\"\"The Sam Bankman-Fried trial gained steam after a somewhat sleepier first half of the day. That’s when prosecutors and the defense asked a witness and former FTX developer about the technical details of the crypto exchange as well as Alameda Research.\n",
    "\n",
    "But that changed around 4 p.m. when FTX co-founder and CTO Gary Wang took the stand, wearing a wrinkled suit. Prior to Wang taking the stand, there was a 15-minute break during which Bankman-Fried looked visibly irritated.\n",
    "\n",
    "Bankman-Fried’s parents were also there. During the break, they went to their son seemingly in an effort to provide support. At one point his father, Joseph Bankman, patted his mother, Barbara Fried, on the back, said something and laughed. She didn’t laugh back but continued to look away toward her son.\n",
    "\n",
    "On the stand, Wang admitted that he committed wire fraud, securities fraud and commodities fraud. He added that Bankman-Fried, Nishad Singh and Caroline Ellison were the individuals he committed the crimes with.\n",
    "\n",
    "Wang, Singh and Ellison pleaded guilty in late December 2022 as part of a deal to cooperate with the government and testify during this trial.\n",
    "\n",
    "Wang said that they were given “special privileges from Alameda Research,” the crypto trading firm that he said he and Bankman-Fried started prior to launching FTX. Those privileges included getting large lines of credit, unlimited withdrawals and being able to have negative balances. Wang said that the “unlimited funds” came from FTX customers; a special code was added to customer transactions that funneled the money to Alameda.\n",
    "\n",
    "He shared during his testimony that he was in charge of writing and reviewing code. And while Bankman-Fried did not write the code, Wang said Bankman-Fried did tell him and other developers what to implement. “Sometimes we talked [disagreements] out, but in the end, it’s Sam’s decision,” Wang said.\n",
    "\n",
    "\n",
    "\n",
    "Negative balances, unlimited withdrawals\n",
    "Because of these special privileges, Alameda had a $65 billion line of credit, Wang said. “Normal large businesses have single to double digits [of credit] in the millions.” By the time the two businesses filed for bankruptcy in mid November 2022, Alameda withdrew $8 billion, Wang said.\n",
    "\n",
    "These internal financial advantages were not disclosed to the public, he shared.\n",
    "\n",
    "Alameda and FTX were both started by Bankman-Fried and Wang, with ownership split 90% and 10%, and then 17% equity and 65% equity, respectively. Singh also had 5% equity of FTX, and a number of outside investors held other positions, Wang noted.\n",
    "\n",
    "The ownership percentages never changed, he added. At the time, both Wang and Bankman-Fried were billionaires.\n",
    "\n",
    "During his time at the companies, Wang also disclosed that Alameda “loaned” him around $200 million to $300 million. But the money never went to his bank account, and it instead went to investments that FTX made into other companies.\n",
    "\n",
    "Naming the business\n",
    "The company also picked its name to outsmart other businesses, which might have negative connotations toward companies with crypto jargon in their titles. “Alameda” derived from Alameda County in California and “Research,” was because it “sounds prestigious” and is not using a crypto-related name, Wang said.\n",
    "\n",
    "The initial funds for Alameda came from Bankman-Fried personally as well as various lenders. Wang said Bankman-Fried also believed it would be easier to get bank accounts, rental leases, investors and so on, with a more “normal” company name.\n",
    "\n",
    "The prosecutors aired a clip of Bankman-Fried from April 2021 on a podcast, where he explained Alameda’s name. “If we named our company Shitcoin Day Trader’s Inc., no one would do business [with us],” he said at the time.\n",
    "\n",
    "Wang’s testimony is expected to continue on Friday morning until midday, according to prosecutors at the trial.\"\"\",1,'article')"
   ]
  },
  {
   "cell_type": "code",
   "execution_count": null,
   "metadata": {},
   "outputs": [],
   "source": []
  }
 ],
 "metadata": {
  "kernelspec": {
   "display_name": ".AI_service",
   "language": "python",
   "name": "python3"
  },
  "language_info": {
   "codemirror_mode": {
    "name": "ipython",
    "version": 3
   },
   "file_extension": ".py",
   "mimetype": "text/x-python",
   "name": "python",
   "nbconvert_exporter": "python",
   "pygments_lexer": "ipython3",
   "version": "3.11.1"
  }
 },
 "nbformat": 4,
 "nbformat_minor": 2
}
