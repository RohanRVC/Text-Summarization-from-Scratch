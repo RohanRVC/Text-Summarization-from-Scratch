{
 "cells": [
  {
   "cell_type": "code",
   "execution_count": 1,
   "metadata": {},
   "outputs": [],
   "source": [
    "import numpy as np\n",
    "import spacy\n",
    "from sklearn.feature_extraction.text import TfidfVectorizer\n",
    "from sklearn.metrics.pairwise import linear_kernel\n",
    "from nltk.tokenize import sent_tokenize\n",
    "from sklearn.feature_extraction.text import ENGLISH_STOP_WORDS\n",
    "import random\n",
    "from sklearn.metrics.pairwise import cosine_similarity\n",
    "\n",
    "\n",
    "def extract_important_keywords3(input_text, num_keywords=5, randomize=False):\n",
    "    my_stop_words = list(ENGLISH_STOP_WORDS)\n",
    "    tfidf_vectorizer = TfidfVectorizer(stop_words=my_stop_words, min_df=1)\n",
    "    tfidf_matrix = tfidf_vectorizer.fit_transform([input_text])\n",
    "    feature_names = np.array(tfidf_vectorizer.get_feature_names_out())\n",
    "    tfidf_values = tfidf_matrix.toarray()[0]\n",
    "    sorted_indices = tfidf_values.argsort()[::-1]\n",
    "\n",
    "    if randomize:\n",
    "        top_keywords = feature_names[np.random.choice(sorted_indices, size=num_keywords, replace=False)]\n",
    "    else:\n",
    "        top_keywords = feature_names[sorted_indices][:num_keywords]\n",
    "\n",
    "    return top_keywords.tolist()\n",
    "\n",
    "# Function to extract named entities using SpaCy\n",
    "def extract_named_entities3(input_text, randomize=False):\n",
    "    nlp = spacy.load(\"en_core_web_md\")\n",
    "    doc = nlp(input_text)\n",
    "    named_entities = [ent.text.lower() for ent in doc.ents]\n",
    "    \n",
    "    if randomize:\n",
    "        named_entities = random.sample(named_entities, len(named_entities) // 2)  # randomly select half of the named entities\n",
    "\n",
    "    return list(set(named_entities))\n",
    "\n",
    "def dynamic_detailed_summarize_premium_varibility_pro(input_text, detail_levels=1, context_type='general', important_keywords=None, important_entities=None,variability_factors=0.5,randomize=False):\n",
    "    import random\n",
    "    from nltk.corpus import wordnet\n",
    "\n",
    "    def get_synonyms(word):\n",
    "        synonyms = set()\n",
    "        for syn in wordnet.synsets(word):\n",
    "            for lemma in syn.lemmas():\n",
    "                synonyms.add(lemma.name())\n",
    "        return list(synonyms)\n",
    "\n",
    "    def synonym_substitution(sentence):\n",
    "        words = sentence.split()\n",
    "        if len(words) < 5:\n",
    "            return sentence  # not replacing for very short sentences\n",
    "        word_to_replace = random.choice(words)\n",
    "        synonyms = get_synonyms(word_to_replace)\n",
    "        if synonyms:\n",
    "            sentence = sentence.replace(word_to_replace, random.choice(synonyms), 1)\n",
    "        return sentence\n",
    "\n",
    "    def dynamic_detailed_summarize_variable_for_story(input_text, detail_level=detail_levels, context_type='story', important_keywords=None, important_entities=None,variability_factor=variability_factors):\n",
    "        \n",
    "        if important_keywords is None:\n",
    "            important_keywords = extract_important_keywords3(input_text)\n",
    "\n",
    "        if important_entities is None:\n",
    "            important_entities = extract_named_entities3(input_text)\n",
    "\n",
    "        if variability_factor > 0:\n",
    "            num_random_entities = int(variability_factor * len(important_entities))\n",
    "            important_entities = important_entities[:len(important_entities)-num_random_entities] + random.sample(important_entities, num_random_entities)\n",
    "\n",
    "        print(f'Keywords are-: {important_keywords}')\n",
    "        print(f'Entities are-: {important_entities}')    \n",
    "\n",
    "        important_words = set(important_keywords + important_entities)\n",
    "        sentences = sent_tokenize(input_text)\n",
    "\n",
    "        tfidf_vectorizer = TfidfVectorizer(stop_words='english', ngram_range=(1, 3))\n",
    "        tfidf_matrix = tfidf_vectorizer.fit_transform(sentences)\n",
    "        document_vector = tfidf_vectorizer.transform([input_text])\n",
    "        cosine_similarities = cosine_similarity(tfidf_matrix, document_vector).flatten()\n",
    "        ranked_sentence_indices = cosine_similarities.argsort()[::-1]\n",
    "        important_sentence_indices = [idx for idx in ranked_sentence_indices if any(kw.lower() in sentences[idx].lower() for kw in important_words)]\n",
    "\n",
    "        context_weightage = {\n",
    "            'story': 1.5 + np.random.uniform(-0.5, 0.5) * variability_factor,\n",
    "            # ... other context types ...\n",
    "        }\n",
    "\n",
    "        adjusted_detail_level = detail_level + np.random.uniform(-1, 1) * variability_factor\n",
    "        num_output_sentences = max(2, int(adjusted_detail_level * len(important_sentence_indices) / 5 * context_weightage.get(context_type, 1)))\n",
    "        selected_sentence_indices = sorted(important_sentence_indices[:num_output_sentences])\n",
    "        selected_sentences = [sentences[idx] for idx in selected_sentence_indices]\n",
    "\n",
    "        if variability_factor > 0:\n",
    "            num_sentences_to_modify = int(variability_factor * len(selected_sentences))\n",
    "            sentences_to_modify = random.sample(selected_sentences, num_sentences_to_modify)\n",
    "            for sentence in sentences_to_modify:\n",
    "                # Use any synonym substitution logic here\n",
    "                pass\n",
    "\n",
    "        return ' '.join(selected_sentences)\n",
    "\n",
    "\n",
    "    #########################\n",
    "    if context_type=='story':\n",
    "        return dynamic_detailed_summarize_variable_for_story(input_text,detail_level=detail_levels)\n",
    "\n",
    "    if important_keywords is None:\n",
    "        important_keywords = extract_important_keywords3(input_text, randomize=randomize)\n",
    "\n",
    "    if important_entities is None:\n",
    "        important_entities = extract_named_entities3(input_text, randomize=randomize)\n",
    "    print(f\"Important KeyWords-:{important_keywords}\\nImportant Entities-:{important_entities}\")\n",
    "    important_words = set(important_keywords + important_entities)\n",
    "    sentences = sent_tokenize(input_text)\n",
    "    num_sentences = len(sentences)\n",
    "    \n",
    "    tfidf_vectorizer = TfidfVectorizer(stop_words='english')\n",
    "    tfidf_matrix = tfidf_vectorizer.fit_transform(sentences)\n",
    "    cosine_similarities = linear_kernel(tfidf_matrix[0:1], tfidf_matrix).flatten()\n",
    "\n",
    "    if randomize:\n",
    "        np.random.shuffle(cosine_similarities)\n",
    "\n",
    "    related_sentences_indices = cosine_similarities.argsort()[:-num_sentences:-1]\n",
    "    important_sentences = [sentences[i] for i in related_sentences_indices if any(kw.lower() in sentences[i].lower() for kw in important_words)]\n",
    "    \n",
    "    context_weightage = {\n",
    "        'general': 1,\n",
    "        'story': 1.5,\n",
    "        'report': 1.2,\n",
    "        'article': 1.3\n",
    "    }\n",
    "    \n",
    "    num_output_sentences = max(2, int(detail_levels * len(important_sentences) / 5 * context_weightage.get(context_type, 1)))\n",
    "    \n",
    "    if randomize:\n",
    "        selected_sentences = np.random.choice(important_sentences, size=num_output_sentences, replace=False)\n",
    "    else:\n",
    "        selected_sentences = sorted(important_sentences[:num_output_sentences], key=lambda x: sentences.index(x))\n",
    "    \n",
    "    return ' '.join(selected_sentences)\n"
   ]
  },
  {
   "cell_type": "code",
   "execution_count": 2,
   "metadata": {},
   "outputs": [],
   "source": [
    "import spacy\n",
    "from sklearn.feature_extraction.text import ENGLISH_STOP_WORDS\n",
    "\n",
    "import numpy as np\n",
    "from sklearn.feature_extraction.text import TfidfVectorizer\n",
    "from nltk.tokenize import sent_tokenize\n",
    "from sklearn.metrics.pairwise import cosine_similarity\n",
    "\n",
    "    # Use a larger SpaCy model for better accuracy\n",
    "nlp = spacy.load(\"en_core_web_md\") #sm\n",
    "\n",
    "def extract_important_keywords2(input_text, num_keywords=5):\n",
    "        my_stop_words = list(ENGLISH_STOP_WORDS)\n",
    "        # Introduce bigram and trigram models\n",
    "        tfidf_vectorizer = TfidfVectorizer(stop_words=my_stop_words, ngram_range=(1, 3), max_features=5000)\n",
    "        tfidf_matrix = tfidf_vectorizer.fit_transform([input_text])\n",
    "        feature_names = np.array(tfidf_vectorizer.get_feature_names_out())\n",
    "        tfidf_values = tfidf_matrix.toarray()[0]\n",
    "        sorted_indices = tfidf_values.argsort()[::-1]\n",
    "        top_keywords = feature_names[sorted_indices][:num_keywords]\n",
    "        return top_keywords.tolist()\n",
    "\n",
    "def extract_named_entities2(input_text, randomize=False):\n",
    "        nlp = spacy.load(\"en_core_web_md\")\n",
    "        doc = nlp(input_text)\n",
    "        named_entities = [ent.text.lower() for ent in doc.ents]\n",
    "\n",
    "        if randomize:\n",
    "            named_entities = random.sample(named_entities, len(named_entities) // 2)  # randomly select half of the named entities\n",
    "\n",
    "        return list(set(named_entities))\n",
    "\n",
    "def dynamic_detailed_summarize_premium_pro(input_text, detail_levels=1, context_type='general', important_keywords=None, important_entities=None):\n",
    "        # Just returning the function definition without executing it\n",
    "\n",
    "        def enhanced_summarization_for_story(input_text, detail_level=detail_levels, important_keywords=None, important_entities=None):\n",
    "            def identify_main_characters(doc, top_n=3):\n",
    "                \"\"\"\n",
    "                Identify main characters based on named entity recognition and frequency.\n",
    "                \"\"\"\n",
    "                character_freq = {}\n",
    "\n",
    "                # Count occurrences of person entities\n",
    "                for ent in doc.ents:\n",
    "                    if ent.label_ == \"PERSON\":\n",
    "                        character_freq[ent.text.lower()] = character_freq.get(ent.text.lower(), 0) + 1\n",
    "\n",
    "                # Get top N characters based on frequency\n",
    "                main_characters = sorted(character_freq, key=character_freq.get, reverse=True)[:top_n]\n",
    "\n",
    "                return main_characters\n",
    "\n",
    "            def contains_strong_adjective(sentence):\n",
    "                \"\"\"\n",
    "                Check if a sentence contains strong adjectives.\n",
    "                \"\"\"\n",
    "                adjectives = [\"amazing\", \"shocking\", \"terrific\", \"horrible\", \"awful\", \"fantastic\"]\n",
    "                for token in sentence:\n",
    "                    if token.pos_ == \"ADJ\" and token.lemma_ in adjectives:\n",
    "                        return True\n",
    "                return False\n",
    "            doc = nlp(input_text)\n",
    "\n",
    "            if important_keywords is None:\n",
    "                important_keywords = extract_important_keywords2(input_text)\n",
    "\n",
    "            if important_entities is None:\n",
    "                important_entities = extract_named_entities2(input_text)\n",
    "\n",
    "            main_characters = identify_main_characters(doc)\n",
    "            \n",
    "            important_words = set(important_keywords + important_entities + main_characters)\n",
    "            sentences = sent_tokenize(input_text)\n",
    "            sentences_doc = list(nlp.pipe(sentences))\n",
    "            \n",
    "            # Get scores for each sentence based on character importance and strong adjectives\n",
    "            sentence_scores = []\n",
    "            for sentence in sentences_doc:\n",
    "                score = 0\n",
    "                for token in sentence:\n",
    "                    if token.text.lower() in important_words:\n",
    "                        score += 1\n",
    "                    if contains_strong_adjective(sentence):\n",
    "                        score += 1.5\n",
    "                sentence_scores.append(score)\n",
    "            \n",
    "            # Sort the sentences based on their scores\n",
    "            ranked_sentence_indices = np.argsort(sentence_scores)[::-1]\n",
    "\n",
    "            num_output_sentences = max(2, int(detail_level * len(ranked_sentence_indices) / 5 * 1.5))  # 1.5 weightage for 'story' context\n",
    "            \n",
    "            # Ensure the inclusion of the first and last sentences\n",
    "            selected_sentence_indices = [0, len(sentences) - 1]\n",
    "            \n",
    "            for idx in ranked_sentence_indices:\n",
    "                if idx not in selected_sentence_indices:\n",
    "                    selected_sentence_indices.append(idx)\n",
    "                if len(selected_sentence_indices) == num_output_sentences:\n",
    "                    break\n",
    "\n",
    "            # Sort the selected sentences based on their original position in the text\n",
    "            selected_sentence_indices = sorted(selected_sentence_indices)\n",
    "\n",
    "            selected_sentences = [sentences[idx] for idx in selected_sentence_indices]\n",
    "\n",
    "            return ' '.join(selected_sentences)\n",
    "\n",
    "        if context_type=='story':\n",
    "            return enhanced_summarization_for_story(input_text,detail_level=detail_levels)\n",
    "\n",
    "        if important_keywords is None:\n",
    "            important_keywords = extract_important_keywords2(input_text)\n",
    "\n",
    "        if important_entities is None:\n",
    "            important_entities = extract_named_entities2(input_text)\n",
    "\n",
    "        print(f'Keywords are-: {important_keywords}')\n",
    "        print(f'Entities are-: {important_entities}')    \n",
    "\n",
    "        important_words = set(important_keywords + important_entities)\n",
    "        sentences = sent_tokenize(input_text)\n",
    "        \n",
    "        # Represent each sentence in TF-IDF space\n",
    "        tfidf_vectorizer = TfidfVectorizer(stop_words='english', ngram_range=(1, 3))\n",
    "        tfidf_matrix = tfidf_vectorizer.fit_transform(sentences)\n",
    "        \n",
    "        # Get the representation of the whole document\n",
    "        document_vector = tfidf_vectorizer.transform([input_text])\n",
    "        \n",
    "        # Compute the similarity of each sentence with the entire document\n",
    "        cosine_similarities = cosine_similarity(tfidf_matrix, document_vector).flatten()\n",
    "        \n",
    "        # Sort the sentences based on their importance\n",
    "        ranked_sentence_indices = cosine_similarities.argsort()[::-1]\n",
    "\n",
    "        important_sentence_indices = [idx for idx in ranked_sentence_indices if any(kw.lower() in sentences[idx].lower() for kw in important_words)]\n",
    "        \n",
    "        context_weightage = {\n",
    "            'general': 1,\n",
    "            'story': 1.5,\n",
    "            'report': 1.2,\n",
    "            'article': 1.3\n",
    "        }\n",
    "        \n",
    "        num_output_sentences = max(2, int(detail_levels * len(important_sentence_indices) / 5 * context_weightage.get(context_type, 1)))\n",
    "        \n",
    "        # Sort the important sentences based on their original position in the text\n",
    "        selected_sentence_indices = sorted(important_sentence_indices[:num_output_sentences])\n",
    "        \n",
    "        selected_sentences = [sentences[idx] for idx in selected_sentence_indices]\n",
    "        \n",
    "        return ' '.join(selected_sentences)\n"
   ]
  },
  {
   "cell_type": "code",
   "execution_count": 3,
   "metadata": {},
   "outputs": [],
   "source": [
    "import numpy as np\n",
    "import spacy\n",
    "from sklearn.feature_extraction.text import TfidfVectorizer\n",
    "from sklearn.metrics.pairwise import linear_kernel\n",
    "from nltk.tokenize import sent_tokenize\n",
    "# from sklearn.feature_extraction.stop_words import ENGLISH_STOP_WORDS\n",
    "from sklearn.feature_extraction.text import TfidfVectorizer, ENGLISH_STOP_WORDS\n",
    "\n",
    "# # # from sklearn.feature_extraction.text import TfidfVectorizer\n",
    "\n",
    "# # # stop_words = TfidfVectorizer(stop_words='english').get_stop_words()\n",
    "\n",
    "\n",
    "# Function to extract important keywords using TF-IDF\n",
    "def extract_important_keywords(input_text, num_keywords=5):\n",
    "    my_stop_words = list(ENGLISH_STOP_WORDS)\n",
    "    tfidf_vectorizer = TfidfVectorizer(stop_words=my_stop_words, min_df=1)\n",
    "    tfidf_matrix = tfidf_vectorizer.fit_transform([input_text])\n",
    "    feature_names = np.array(tfidf_vectorizer.get_feature_names_out())\n",
    "    tfidf_values = tfidf_matrix.toarray()[0]\n",
    "    sorted_indices = tfidf_values.argsort()[::-1]\n",
    "    top_keywords = feature_names[sorted_indices][:num_keywords]\n",
    "    return top_keywords.tolist()\n",
    "\n",
    "# Function to extract named entities using SpaCy\n",
    "def extract_named_entities(input_text):\n",
    "    nlp = spacy.load(\"en_core_web_sm\")\n",
    "    doc = nlp(input_text)\n",
    "    named_entities = [ent.text.lower() for ent in doc.ents]\n",
    "    named_entities=named_entities\n",
    "    return list(set(named_entities))\n",
    "\n",
    "# Function to generate dynamic detailed summaries\n",
    "# Let's make a modification to the sentence ordering in the summary generation function.\n",
    "def dynamic_detailed_summarize_premium_free(input_text, detail_level=1, context_type='general', important_keywords=None, important_entities=None):\n",
    "    if important_keywords is None:\n",
    "        important_keywords = extract_important_keywords(input_text)\n",
    "    \n",
    "    if important_entities is None:\n",
    "        important_entities = extract_named_entities(input_text)\n",
    "\n",
    "\n",
    "    print(f'Keywords are-: {important_keywords}')\n",
    "    print(f'Entities are-: {important_entities}')    \n",
    "    # Combine keywords and named entities for a more comprehensive set of important words\n",
    "    important_words = set(important_keywords + important_entities)\n",
    "    \n",
    "    sentences = sent_tokenize(input_text)\n",
    "    num_sentences = len(sentences)\n",
    "    \n",
    "    tfidf_vectorizer = TfidfVectorizer(stop_words='english')\n",
    "    tfidf_matrix = tfidf_vectorizer.fit_transform(sentences)\n",
    "    \n",
    "    cosine_similarities = linear_kernel(tfidf_matrix[0:1], tfidf_matrix).flatten()\n",
    "    related_sentences_indices = cosine_similarities.argsort()[:-num_sentences:-1]\n",
    "\n",
    "    important_sentences = [sentences[i] for i in related_sentences_indices if any(kw.lower() in sentences[i].lower() for kw in important_words)]\n",
    "    \n",
    "    # Context weightage for adjusting the number of sentences based on context_type\n",
    "    context_weightage = {\n",
    "        'general': 1,\n",
    "        'story': 1.5,\n",
    "        'report': 1.2,\n",
    "        'article': 1.3  # Adding support for 'article' context\n",
    "    }\n",
    "    \n",
    "    num_output_sentences = max(2, int(detail_level * len(important_sentences) / 5 * context_weightage.get(context_type, 1)))\n",
    "    \n",
    "    # Sort the sentences based on their original order to maintain chronological sequence\n",
    "    selected_sentences = sorted(important_sentences[:num_output_sentences], key=lambda x: sentences.index(x))\n",
    "    \n",
    "    return ' '.join(selected_sentences)\n",
    "\n"
   ]
  },
  {
   "cell_type": "code",
   "execution_count": null,
   "metadata": {},
   "outputs": [],
   "source": []
  },
  {
   "cell_type": "code",
   "execution_count": 4,
   "metadata": {},
   "outputs": [],
   "source": [
    "article_1=\"\"\"In the labyrinth of modern technological advancements, quantum computing emerges as a game-changer, promising to redefine computational power and solve problems deemed unsolvable by classical computers.\n",
    "\n",
    "Quantum computers leverage the principles of quantum mechanics, a fundamental theory in physics that describes the behaviors of matter and energy on microscopic scales. Unlike classical computers that use bits (0s and 1s) to process information, quantum computers use quantum bits, or qubits. These qubits can exist in a state of 0, 1, or both (superposition) simultaneously.\n",
    "\n",
    "This ability to be in multiple states concurrently allows quantum computers to process vast amounts of data at unparalleled speeds. For instance, while a classical computer might take millennia to decrypt a complex encryption, a quantum computer could achieve this in mere seconds.\n",
    "\n",
    "Industries stand on the cusp of a revolution. The pharmaceutical sector, for instance, can utilize quantum computing to simulate complex molecular structures, accelerating drug discovery. In finance, quantum algorithms can optimize trading strategies, and in logistics, they can solve optimization problems that have historically been challenging.\n",
    "\n",
    "However, the rise of quantum computing isn't without challenges. Quantum computers are highly sensitive to their environment, with factors like temperature and electromagnetic radiation affecting their performance. Maintaining qubit stability, known as quantum coherence, remains a significant hurdle.\n",
    "\n",
    "Moreover, as quantum computers threaten to break current encryption techniques, there's a pressing need for quantum-safe cryptographic algorithms. The race is on to develop encryption that even quantum computers can't crack.\n",
    "\n",
    "Despite these challenges, investments in quantum computing are skyrocketing. Tech giants like IBM, Google, and Microsoft are pouring resources into quantum research, anticipating a future where quantum machines become mainstream.\n",
    "\n",
    "In conclusion, while quantum computing is still in its infancy, its potential to transform industries is undeniable. As challenges are overcome and the technology matures, we may be looking at the next significant leap in computational evolution.\n",
    "\n",
    "\"\"\""
   ]
  },
  {
   "cell_type": "code",
   "execution_count": 5,
   "metadata": {},
   "outputs": [
    {
     "name": "stdout",
     "output_type": "stream",
     "text": [
      "Keywords are-: ['quantum', 'computers', 'computing', 'encryption', 'classical']\n",
      "Entities are-: ['ibm', '0', 'this in mere seconds', 'quantum mechanics', 'microsoft', '0s', '1', 'google', 'quantum']\n"
     ]
    },
    {
     "data": {
      "text/plain": [
       "'In the labyrinth of modern technological advancements, quantum computing emerges as a game-changer, promising to redefine computational power and solve problems deemed unsolvable by classical computers. Unlike classical computers that use bits (0s and 1s) to process information, quantum computers use quantum bits, or qubits. In finance, quantum algorithms can optimize trading strategies, and in logistics, they can solve optimization problems that have historically been challenging.'"
      ]
     },
     "execution_count": 5,
     "metadata": {},
     "output_type": "execute_result"
    }
   ],
   "source": [
    "dynamic_detailed_summarize_premium_free(article_1,1,'article')"
   ]
  },
  {
   "cell_type": "code",
   "execution_count": 6,
   "metadata": {},
   "outputs": [
    {
     "name": "stdout",
     "output_type": "stream",
     "text": [
      "Keywords are-: ['quantum', 'computers', 'quantum computers', 'quantum computing', 'computing']\n",
      "Entities are-: ['ibm', 'millennia', '0', 'microsoft', '0s', '1', 'google', 'quantum']\n"
     ]
    },
    {
     "data": {
      "text/plain": [
       "\"In the labyrinth of modern technological advancements, quantum computing emerges as a game-changer, promising to redefine computational power and solve problems deemed unsolvable by classical computers. Quantum computers leverage the principles of quantum mechanics, a fundamental theory in physics that describes the behaviors of matter and energy on microscopic scales. Unlike classical computers that use bits (0s and 1s) to process information, quantum computers use quantum bits, or qubits. Moreover, as quantum computers threaten to break current encryption techniques, there's a pressing need for quantum-safe cryptographic algorithms.\""
      ]
     },
     "execution_count": 6,
     "metadata": {},
     "output_type": "execute_result"
    }
   ],
   "source": [
    "dynamic_detailed_summarize_premium_pro(article_1,1,'article')"
   ]
  },
  {
   "cell_type": "code",
   "execution_count": 7,
   "metadata": {},
   "outputs": [],
   "source": [
    "article2=\"\"\"Hackers have exploited an unpatched zero-day vulnerability in Cisco’s networking software to compromise tens of thousands of devices, researchers have warned.\n",
    "\n",
    "Cisco on Monday issued an advisory warning that a critical-rated vulnerability in IOS XE, the software that powers the company’s range of networking devices, was being actively exploited by hackers. Cisco said the bug was found in the IOS XE web administration interface, which can be exploited when an affected device is exposed to the internet.\n",
    "\n",
    "The list of devices running Cisco IOS XE software includes enterprise switches, wireless controllers, access points and industrial routers, which corporations and smaller organizations use to manage their network security.\n",
    "\n",
    "In a separate blog post, Cisco’s threat intelligence arm Talos said that as-yet-unidentified hackers have been exploiting the bug — known as a zero-day, a type of vulnerability discovered by attackers before the vendor has had time to fix it — since at least September 18. Cisco Talos said that successful exploitation grants an attacker “full control of the compromised device” that allows for “possible subsequent unauthorized activity” on the corporate victim’s network.\n",
    "\n",
    "Cisco has not yet commented on the scale of the exploitation.\n",
    "\n",
    "However, Censys, a search engine for internet-connected devices and assets, says it had observed nearly 42,000 compromised Cisco devices as of October 18, noting a “sharp increase” in infections compared to the previous day.\n",
    "\n",
    "In its analysis of the flaw, Censys says the majority of compromised devices are located in the United States, followed by the Philippines and Mexico. Censys said the hackers are targeting telecommunications companies that offer internet services to both households and businesses. \n",
    "\n",
    "“As a result, the primary targets of this vulnerability are not large corporations but smaller entities and individuals who are more susceptible,” Censys researchers said.\n",
    "\n",
    "Zero patch for zero-day\n",
    "Cisco has not yet released a patch for the zero-day vulnerability, which has received the maximum severity rating of 10.0. Cisco spokesperson Alyssa Martin, representing the company via a third-party agency, told TechCrunch that the company is “working non-stop to provide a software fix,” but declined to say when the patch would be made available.\n",
    "\n",
    "It’s not yet known how many devices are potentially vulnerable, but Cisco said in its advisory that the zero-day affected both physical and virtual devices running IOS XE software that have the HTTP or HTTPS server feature enabled. In lieu of a patch, Cisco is “strongly” recommending that customers disable the HTTP Server feature on all internet-facing systems. \n",
    "\n",
    "It’s also unclear who is exploiting the vulnerability. Cisco Talos said that after discovering initial exploitation of the zero-day in September, it observed activity on October 12, which it assesses was carried out by the same actor. “The first cluster was possibly the actor’s initial attempt and testing their code, while the October activity seems to show the actor expanding their operation to include establishing persistent access via deployment of the implant,” Cisco said.\n",
    "\n",
    "Cisco warned that the as-yet-unidentified attackers also leveraged a previous vulnerability, CVE-2021-1435, which Cisco patched in 2021, to install the implant after gaining access to the device.\n",
    "\n",
    "“We have also seen devices fully patched against CVE-2021-1435 getting the implant successfully installed through an as of yet undetermined mechanism,” the researchers said.\n",
    "\n",
    "In addition to disabling the HTTP Server feature, Cisco urged administrators of potentially compromised devices to immediately search their networks for signs of compromise. CISA, the U.S. government’s cybersecurity agency, is also urging federal agencies to deploy mitigations by October 20. \n",
    "\n",
    "\"\"\""
   ]
  },
  {
   "cell_type": "code",
   "execution_count": 8,
   "metadata": {},
   "outputs": [
    {
     "name": "stdout",
     "output_type": "stream",
     "text": [
      "Keywords are-: ['cisco', 'devices', 'said', 'zero', 'day']\n",
      "Entities are-: ['third', 'http', 'philippines', 'censys', 'september', 'zero', 'https', 'the united states', 'nearly 42,000', 'tens of thousands', 'hackers', 'mexico', 'october', 'october 20', 'zero-day', '2021', 'first', 'ios xe', 'http server', 'xe', 'cisco', 'talos', 'monday', 'the previous day', 'alyssa martin', 'cisco talos', 'at least september 18', '10.0', 'u.s.', 'cve-2021-1435', 'techcrunch', 'october 18', 'october 12', 'ios']\n"
     ]
    },
    {
     "data": {
      "text/plain": [
       "'Hackers have exploited an unpatched zero-day vulnerability in Cisco’s networking software to compromise tens of thousands of devices, researchers have warned. Cisco on Monday issued an advisory warning that a critical-rated vulnerability in IOS XE, the software that powers the company’s range of networking devices, was being actively exploited by hackers.'"
      ]
     },
     "execution_count": 8,
     "metadata": {},
     "output_type": "execute_result"
    }
   ],
   "source": [
    "dynamic_detailed_summarize_premium_free(article2,0.5,'article')"
   ]
  },
  {
   "cell_type": "code",
   "execution_count": 9,
   "metadata": {},
   "outputs": [
    {
     "name": "stdout",
     "output_type": "stream",
     "text": [
      "Keywords are-: ['cisco', 'devices', 'said', 'vulnerability', 'zero']\n",
      "Entities are-: ['third', 'philippines', 'censys', 'september', 'zero', 'the united states', 'nearly 42,000', 'tens of thousands', 'mexico', 'october', 'october 20', 'zero-day', '2021', 'first', 'ios xe', 'xe', 'cisco', 'talos', 'monday', 'the previous day', 'alyssa martin', 'cisco talos', 'at least september 18', '10.0', 'u.s.', 'cve-2021-1435', 'techcrunch', 'october 18', 'cisco ios xe', 'cisa', 'october 12']\n"
     ]
    },
    {
     "data": {
      "text/plain": [
       "'In a separate blog post, Cisco’s threat intelligence arm Talos said that as-yet-unidentified hackers have been exploiting the bug — known as a zero-day, a type of vulnerability discovered by attackers before the vendor has had time to fix it — since at least September 18. It’s not yet known how many devices are potentially vulnerable, but Cisco said in its advisory that the zero-day affected both physical and virtual devices running IOS XE software that have the HTTP or HTTPS server feature enabled.'"
      ]
     },
     "execution_count": 9,
     "metadata": {},
     "output_type": "execute_result"
    }
   ],
   "source": [
    "dynamic_detailed_summarize_premium_pro(article2,0.5,'article')"
   ]
  },
  {
   "cell_type": "code",
   "execution_count": 10,
   "metadata": {},
   "outputs": [],
   "source": [
    "story1=\"\"\"In the village of Larkspur, nestled at the edge of a great forest, children were always warned about the Whispering Forest. The towering trees, with their ancient and gnarled branches, were said to whisper secrets to those who dared to listen.\n",
    "\n",
    "Ella, a curious girl of twelve, often gazed longingly at the forest from her bedroom window. One sunny morning, with her parents away and nothing but time on her hands, she decided to venture into the Whispering Forest. She wanted to hear the whispers for herself.\n",
    "\n",
    "As Ella entered the forest, a cool breeze greeted her, and she felt an eerie calmness. She walked deeper, her ears straining to catch any whispers. After what felt like hours, she finally heard it - a soft, melodic voice, barely audible, sharing stories of ages past and tales of forgotten heroes.\n",
    "\n",
    "Drawn to the voice, Ella stumbled upon a clearing where an old, majestic tree stood. Its leaves shimmered in hues of gold and silver. Beneath it, a translucent figure, an old woman with flowing hair, hovered above the ground. She was the source of the whispers.\n",
    "\n",
    "Ella, gathering her courage, approached the apparition. \"Who are you?\" she asked.\n",
    "\n",
    "\"I am the Guardian of Memories,\" the spirit replied. \"I keep the tales of this land, sharing them with those who seek knowledge.\"\n",
    "\n",
    "Ella spent hours listening to the stories, each more fascinating than the last. As the sun began to set, the Guardian said, \"Remember, child, stories hold power. Share them, and keep the memories alive.\"\n",
    "\n",
    "Ella nodded, her heart full of gratitude. She made her way back to Larkspur, determined to share the tales she had heard.\n",
    "\n",
    "And so, in the heart of the village, Ella became the storyteller, passing on the legends of the Whispering Forest. The once-feared forest became a place of wonder, and the stories of old lived on.\n",
    "\n",
    "\"\"\""
   ]
  },
  {
   "cell_type": "code",
   "execution_count": 11,
   "metadata": {},
   "outputs": [
    {
     "name": "stdout",
     "output_type": "stream",
     "text": [
      "Keywords are-: ['ella', 'forest', 'stories', 'tales', 'whispers']\n",
      "Entities are-: ['like hours', 'twelve', 'one sunny morning', 'ages', 'the guardian of memories', 'hours', 'guardian', 'ella', 'larkspur', 'the whispering forest']\n"
     ]
    },
    {
     "data": {
      "text/plain": [
       "'In the village of Larkspur, nestled at the edge of a great forest, children were always warned about the Whispering Forest. One sunny morning, with her parents away and nothing but time on her hands, she decided to venture into the Whispering Forest. She made her way back to Larkspur, determined to share the tales she had heard. And so, in the heart of the village, Ella became the storyteller, passing on the legends of the Whispering Forest. The once-feared forest became a place of wonder, and the stories of old lived on.'"
      ]
     },
     "execution_count": 11,
     "metadata": {},
     "output_type": "execute_result"
    }
   ],
   "source": [
    "dynamic_detailed_summarize_premium_free(story1,1,'story')\n"
   ]
  },
  {
   "cell_type": "code",
   "execution_count": 12,
   "metadata": {},
   "outputs": [
    {
     "data": {
      "text/plain": [
       "'In the village of Larkspur, nestled at the edge of a great forest, children were always warned about the Whispering Forest. Ella, a curious girl of twelve, often gazed longingly at the forest from her bedroom window. As Ella entered the forest, a cool breeze greeted her, and she felt an eerie calmness. After what felt like hours, she finally heard it - a soft, melodic voice, barely audible, sharing stories of ages past and tales of forgotten heroes. Ella spent hours listening to the stories, each more fascinating than the last. As the sun began to set, the Guardian said, \"Remember, child, stories hold power. The once-feared forest became a place of wonder, and the stories of old lived on.'"
      ]
     },
     "execution_count": 12,
     "metadata": {},
     "output_type": "execute_result"
    }
   ],
   "source": [
    "dynamic_detailed_summarize_premium_pro(story1,1,'story')"
   ]
  },
  {
   "cell_type": "code",
   "execution_count": 13,
   "metadata": {},
   "outputs": [],
   "source": [
    "article3=\"\"\"The Electric Vehicle Revolution: Beyond the Hype\n",
    "\n",
    "Over the past decade, electric vehicles (EVs) have transitioned from a niche market to the mainstream, signaling a seismic shift in the automotive industry. But what's driving this change?\n",
    "\n",
    "Environmental Concerns\n",
    "\n",
    "One of the most significant factors fueling the rise of EVs is the increasing awareness of environmental issues. Traditional gasoline-powered vehicles contribute significantly to greenhouse gas emissions. With climate change becoming a more pressing concern, there is a global push to reduce our carbon footprint. EVs, which produce zero tailpipe emissions, offer a sustainable alternative.\n",
    "\n",
    "Technological Advancements\n",
    "\n",
    "The technological advancements in battery technology have been a game-changer for the EV market. Early electric vehicles suffered from limited range, making long-distance travel challenging. However, with the advent of lithium-ion batteries and improved energy density, modern EVs can travel comparable distances to their gasoline counterparts on a single charge.\n",
    "\n",
    "Government Incentives\n",
    "\n",
    "Governments worldwide are providing incentives to promote the adoption of electric vehicles. These range from tax credits and rebates for EV buyers to stricter emission standards that make it more challenging for traditional vehicles to compete.\n",
    "\n",
    "Economic Viability\n",
    "\n",
    "As battery technology improves and economies of scale come into play, the cost of producing electric vehicles is dropping. This trend is making EVs more accessible to the average consumer. Furthermore, the total cost of ownership of an electric vehicle, when considering factors like fuel savings and reduced maintenance, often turns out to be lower than traditional vehicles.\n",
    "\n",
    "Challenges Ahead\n",
    "\n",
    "While the future looks promising, the EV industry still faces challenges. The infrastructure for charging needs massive expansion, especially in regions where EV adoption is rapidly increasing. There are also concerns about sourcing the raw materials required for batteries in an environmentally friendly manner.\n",
    "\n",
    "Conclusion\n",
    "\n",
    "The electric vehicle revolution is not just a fleeting trend; it's a significant shift towards a more sustainable future. As technology continues to advance and the world becomes more environmentally conscious, the dominance of electric vehicles in the market is not a matter of if, but when.\n",
    "\n",
    "\"\"\""
   ]
  },
  {
   "cell_type": "code",
   "execution_count": 14,
   "metadata": {},
   "outputs": [
    {
     "name": "stdout",
     "output_type": "stream",
     "text": [
      "Keywords are-: ['vehicles', 'electric', 'evs', 'ev', 'market']\n",
      "Entities are-: ['zero', 'one', 'the past decade', 'ev', 'the electric vehicle revolution: beyond the hype\\n\\nover', 'challenges ahead\\n\\n']\n"
     ]
    },
    {
     "data": {
      "text/plain": [
       "\"The Electric Vehicle Revolution: Beyond the Hype\\n\\nOver the past decade, electric vehicles (EVs) have transitioned from a niche market to the mainstream, signaling a seismic shift in the automotive industry. Furthermore, the total cost of ownership of an electric vehicle, when considering factors like fuel savings and reduced maintenance, often turns out to be lower than traditional vehicles. Conclusion\\n\\nThe electric vehicle revolution is not just a fleeting trend; it's a significant shift towards a more sustainable future. As technology continues to advance and the world becomes more environmentally conscious, the dominance of electric vehicles in the market is not a matter of if, but when.\""
      ]
     },
     "execution_count": 14,
     "metadata": {},
     "output_type": "execute_result"
    }
   ],
   "source": [
    "dynamic_detailed_summarize_premium_free(article3,1,'article')"
   ]
  },
  {
   "cell_type": "code",
   "execution_count": 15,
   "metadata": {},
   "outputs": [
    {
     "name": "stdout",
     "output_type": "stream",
     "text": [
      "Keywords are-: ['electric', 'vehicles', 'evs', 'electric vehicles', 'ev']\n",
      "Entities are-: ['zero', 'one', 'the past decade', 'evs', 'the electric vehicle revolution: beyond the hype\\n\\n', 'ev', 'challenges ahead']\n"
     ]
    },
    {
     "data": {
      "text/plain": [
       "\"The Electric Vehicle Revolution: Beyond the Hype\\n\\nOver the past decade, electric vehicles (EVs) have transitioned from a niche market to the mainstream, signaling a seismic shift in the automotive industry. Economic Viability\\n\\nAs battery technology improves and economies of scale come into play, the cost of producing electric vehicles is dropping. Furthermore, the total cost of ownership of an electric vehicle, when considering factors like fuel savings and reduced maintenance, often turns out to be lower than traditional vehicles. Conclusion\\n\\nThe electric vehicle revolution is not just a fleeting trend; it's a significant shift towards a more sustainable future.\""
      ]
     },
     "execution_count": 15,
     "metadata": {},
     "output_type": "execute_result"
    }
   ],
   "source": [
    "dynamic_detailed_summarize_premium_pro(article3,1,'article')"
   ]
  },
  {
   "cell_type": "code",
   "execution_count": 16,
   "metadata": {},
   "outputs": [],
   "source": [
    "story2=\"\"\"Mr. Pendleton was a peculiar man who lived at the end of Willow Street. Every morning, without fail, he would be seen sweeping his porch and humming a tune that no one recognized. The children in the neighborhood found him mysterious, mainly because of the stories that floated around about his past.\n",
    "\n",
    "Rumors said that he was once a famous magician who had traveled the world showcasing his tricks. Others believed he was a retired spy, having countless adventures and narrow escapes under his belt. But the most bizarre theory was that he was a time traveler, which explained the strange gadgets in his home and his knowledge about events that hadn't yet happened.\n",
    "\n",
    "One day, young Lucy, driven by her insatiable curiosity, decided to pay Mr. Pendleton a visit. She found him in his garden, tending to his roses. Lucy mustered up the courage and asked him about the stories. With a chuckle, Mr. Pendleton replied, \"My dear, I've been many things in my time, but the stories have been twisted and turned. Would you like to hear the real story?\"\n",
    "\n",
    "For hours, Lucy listened as Mr. Pendleton recounted his life. He had indeed been a magician and had traveled extensively. He had never been a spy, but he did have friends in high places due to his performances. And as for being a time traveler, that was just a joke he'd played on some gullible neighbors.\n",
    "\n",
    "Lucy left his house with a new perspective. She realized that sometimes, the real story is more fascinating than rumors. From that day on, she and Mr. Pendleton became the best of friends, sharing tales and creating new stories together.\n",
    "\n",
    "\"\"\""
   ]
  },
  {
   "cell_type": "code",
   "execution_count": 17,
   "metadata": {},
   "outputs": [
    {
     "name": "stdout",
     "output_type": "stream",
     "text": [
      "Keywords are-: ['mr', 'pendleton', 'stories', 'lucy', 'time']\n",
      "Entities are-: ['one day', 'hours', 'every morning', 'pendleton', 'lucy', 'that day']\n"
     ]
    },
    {
     "data": {
      "text/plain": [
       "'Mr. Pendleton was a peculiar man who lived at the end of Willow Street. One day, young Lucy, driven by her insatiable curiosity, decided to pay Mr. Pendleton a visit. With a chuckle, Mr. Pendleton replied, \"My dear, I\\'ve been many things in my time, but the stories have been twisted and turned. For hours, Lucy listened as Mr. Pendleton recounted his life. And as for being a time traveler, that was just a joke he\\'d played on some gullible neighbors. From that day on, she and Mr. Pendleton became the best of friends, sharing tales and creating new stories together.'"
      ]
     },
     "execution_count": 17,
     "metadata": {},
     "output_type": "execute_result"
    }
   ],
   "source": [
    "dynamic_detailed_summarize_premium_free(story2,2,'story')"
   ]
  },
  {
   "cell_type": "code",
   "execution_count": 18,
   "metadata": {},
   "outputs": [
    {
     "data": {
      "text/plain": [
       "'Mr. Pendleton was a peculiar man who lived at the end of Willow Street. One day, young Lucy, driven by her insatiable curiosity, decided to pay Mr. Pendleton a visit. With a chuckle, Mr. Pendleton replied, \"My dear, I\\'ve been many things in my time, but the stories have been twisted and turned. For hours, Lucy listened as Mr. Pendleton recounted his life. From that day on, she and Mr. Pendleton became the best of friends, sharing tales and creating new stories together.'"
      ]
     },
     "execution_count": 18,
     "metadata": {},
     "output_type": "execute_result"
    }
   ],
   "source": [
    "dynamic_detailed_summarize_premium_pro(story2,1,'story')"
   ]
  },
  {
   "cell_type": "code",
   "execution_count": 19,
   "metadata": {},
   "outputs": [],
   "source": [
    "story3=\"\"\"At the heart of the city stood a grand park, known as Harmony Park. Amidst the greenery and fountains, there sat an old man every day, cradling a violin. Oddly enough, he never played it. The violin remained silent, yet he held it with such passion and intent that passersby would often stop and watch, expecting to hear the sweet strains of music. But it never came.\n",
    "\n",
    "A young girl named Mia, intrigued by the silent musician, approached him one day. \"Sir,\" she asked timidly, \"why don't you play your violin?\"\n",
    "\n",
    "The old man looked up, his eyes reflecting a deep ocean of memories. \"This violin,\" he began, \"belonged to my beloved wife. She was a brilliant violinist and played it every day. When she passed away, I inherited it. I come here to feel close to her. I don’t play because I could never match her magic. But just holding it brings her back to me.\"\n",
    "\n",
    "Mia, touched by the story, sat down beside him. \"Would you mind if I tried?\" she asked. The old man hesitated for a moment and then handed over the violin. Mia positioned it and began to play. The melody was soft, haunting, and beautiful. The old man closed his eyes, tears streaming down as he felt his wife's presence once again.\n",
    "\n",
    "From that day, Mia and the old man became inseparable. They returned to the park daily, filling the air with music and memories.\n",
    "\n",
    "\"\"\""
   ]
  },
  {
   "cell_type": "code",
   "execution_count": 20,
   "metadata": {},
   "outputs": [
    {
     "name": "stdout",
     "output_type": "stream",
     "text": [
      "Keywords are-: ['man', 'old', 'violin', 'mia', 'day']\n",
      "Entities are-: ['greenery', 'one day', 'harmony park', 'every day', 'that day', 'mia']\n"
     ]
    },
    {
     "data": {
      "text/plain": [
       "'At the heart of the city stood a grand park, known as Harmony Park. Amidst the greenery and fountains, there sat an old man every day, cradling a violin. The violin remained silent, yet he held it with such passion and intent that passersby would often stop and watch, expecting to hear the sweet strains of music. A young girl named Mia, intrigued by the silent musician, approached him one day. \"Sir,\" she asked timidly, \"why don\\'t you play your violin?\" The old man looked up, his eyes reflecting a deep ocean of memories. She was a brilliant violinist and played it every day. The old man closed his eyes, tears streaming down as he felt his wife\\'s presence once again.'"
      ]
     },
     "execution_count": 20,
     "metadata": {},
     "output_type": "execute_result"
    }
   ],
   "source": [
    "dynamic_detailed_summarize_premium_free(story3,2,'story')"
   ]
  },
  {
   "cell_type": "code",
   "execution_count": 21,
   "metadata": {},
   "outputs": [
    {
     "data": {
      "text/plain": [
       "'At the heart of the city stood a grand park, known as Harmony Park. Amidst the greenery and fountains, there sat an old man every day, cradling a violin. The violin remained silent, yet he held it with such passion and intent that passersby would often stop and watch, expecting to hear the sweet strains of music. A young girl named Mia, intrigued by the silent musician, approached him one day. \"Sir,\" she asked timidly, \"why don\\'t you play your violin?\" The old man looked up, his eyes reflecting a deep ocean of memories. She was a brilliant violinist and played it every day. Mia, touched by the story, sat down beside him. The old man hesitated for a moment and then handed over the violin. Mia positioned it and began to play. The old man closed his eyes, tears streaming down as he felt his wife\\'s presence once again. From that day, Mia and the old man became inseparable. They returned to the park daily, filling the air with music and memories.'"
      ]
     },
     "execution_count": 21,
     "metadata": {},
     "output_type": "execute_result"
    }
   ],
   "source": [
    "dynamic_detailed_summarize_premium_pro(story3,2,'story')"
   ]
  },
  {
   "cell_type": "code",
   "execution_count": null,
   "metadata": {},
   "outputs": [],
   "source": []
  },
  {
   "cell_type": "code",
   "execution_count": 22,
   "metadata": {},
   "outputs": [
    {
     "name": "stdout",
     "output_type": "stream",
     "text": [
      "Keywords are-: ['man', 'old', 'violin', 'mia', 'day']\n",
      "Entities are-: ['one day', 'harmony park', 'every day', 'harmony park', 'that day', 'one day']\n"
     ]
    },
    {
     "data": {
      "text/plain": [
       "\"Amidst the greenery and fountains, there sat an old man every day, cradling a violin. The violin remained silent, yet he held it with such passion and intent that passersby would often stop and watch, expecting to hear the sweet strains of music. A young girl named Mia, intrigued by the silent musician, approached him one day. The old man looked up, his eyes reflecting a deep ocean of memories. The old man hesitated for a moment and then handed over the violin. The old man closed his eyes, tears streaming down as he felt his wife's presence once again. From that day, Mia and the old man became inseparable.\""
      ]
     },
     "execution_count": 22,
     "metadata": {},
     "output_type": "execute_result"
    }
   ],
   "source": [
    "dynamic_detailed_summarize_premium_varibility_pro(story3,2,'story')"
   ]
  },
  {
   "cell_type": "code",
   "execution_count": 23,
   "metadata": {},
   "outputs": [],
   "source": [
    "story4=\"\"\"In the bustling city of Zephyria, things were not as they seemed. On the surface, it appeared to be a metropolis of innovation and progress, but deep down, it held a secret.\n",
    "\n",
    "In the heart of the city, under the grand Zephyria Tower, was a hidden labyrinth known only to a select few. The maze was said to be the creation of the city's founder, Lord Elron, who, legend had it, was a master alchemist. He designed the labyrinth as a safeguard for his most prized possession: the Elixir of Eternity, a potion said to grant immortality.\n",
    "\n",
    "Rumors about the elixir had spread across the city, and many had attempted to navigate the labyrinth in search of it, but none had returned. The pathways of the maze were filled with illusions, traps, and riddles that confounded even the most astute minds.\n",
    "\n",
    "One day, a young woman named Lila, armed with a map she claimed was handed down through her family, announced her intent to venture into the labyrinth. Skeptics laughed at her audacity, but the determined gleam in her eyes was undeniable.\n",
    "\n",
    "As she delved deeper into the maze, Lila encountered twisted pathways, shifting walls, and perplexing puzzles. But with every challenge she faced, she recalled the stories her grandmother told her - stories that seemed to contain clues about the maze's design.\n",
    "\n",
    "After what felt like days, Lila finally reached the chamber said to house the Elixir of Eternity. But instead of a potion, she found an old diary belonging to Lord Elron. The diary revealed the truth: there was no Elixir of Eternity. The true treasure was the journey itself and the wisdom acquired along the way. Lord Elron's labyrinth was a metaphor for life's challenges and the pursuit of knowledge.\n",
    "\n",
    "Lila emerged from the maze, not with a potion, but with a newfound understanding of life's true purpose. The city celebrated her not as someone who found the elixir but as someone who uncovered the real meaning behind Lord Elron's legacy.\"\"\""
   ]
  },
  {
   "cell_type": "code",
   "execution_count": 24,
   "metadata": {},
   "outputs": [
    {
     "name": "stdout",
     "output_type": "stream",
     "text": [
      "Keywords are-: ['city', 'labyrinth', 'maze', 'elixir', 'lila']\n",
      "Entities are-: ['elron', 'one day', 'like days', 'lila', 'the elixir of eternity', 'zephyria', 'zephyria tower']\n"
     ]
    },
    {
     "data": {
      "text/plain": [
       "\"In the bustling city of Zephyria, things were not as they seemed. In the heart of the city, under the grand Zephyria Tower, was a hidden labyrinth known only to a select few. Rumors about the elixir had spread across the city, and many had attempted to navigate the labyrinth in search of it, but none had returned. The city celebrated her not as someone who found the elixir but as someone who uncovered the real meaning behind Lord Elron's legacy.\""
      ]
     },
     "execution_count": 24,
     "metadata": {},
     "output_type": "execute_result"
    }
   ],
   "source": [
    "dynamic_detailed_summarize_premium_free(story4,1,'story')"
   ]
  },
  {
   "cell_type": "code",
   "execution_count": 25,
   "metadata": {},
   "outputs": [
    {
     "data": {
      "text/plain": [
       "\"In the bustling city of Zephyria, things were not as they seemed. In the heart of the city, under the grand Zephyria Tower, was a hidden labyrinth known only to a select few. The maze was said to be the creation of the city's founder, Lord Elron, who, legend had it, was a master alchemist. Rumors about the elixir had spread across the city, and many had attempted to navigate the labyrinth in search of it, but none had returned. The city celebrated her not as someone who found the elixir but as someone who uncovered the real meaning behind Lord Elron's legacy.\""
      ]
     },
     "execution_count": 25,
     "metadata": {},
     "output_type": "execute_result"
    }
   ],
   "source": [
    "dynamic_detailed_summarize_premium_pro(story4,1,'story')"
   ]
  },
  {
   "cell_type": "code",
   "execution_count": 26,
   "metadata": {},
   "outputs": [],
   "source": [
    "article5=\"\"\"For my column this week, I told the story of how an ex-colleague was impersonated by an AI-powered spambot and almost tricked me. It a nutshell: AI is often used for good, but it is increasingly used for nefarious purposes as well. Of course, AI-powered spam is going to get really interesting, really fast: Some of the generative AIs are good enough to pass as humans. So, what happens when every spam message is customized to you, and different from every other spam message? Things are about to get really bad — before they hopefully get better.\n",
    "\n",
    "Let me take you on a tour of the highlights and lowlights of startup world over the past week.\n",
    "\n",
    "\n",
    "\n",
    "Last month, Alex wrote that tech layoffs were pretty much a thing of the past. Shouldn’t have said that, buddy, you jinxed it.\n",
    "\n",
    "Despite signs of economic recovery and predictions of avoiding a recession, tech companies continue to lay off employees. In October, Nokia announced it was laying off 14,000 employees following a quarter that saw profits drop by 69%, and other major tech companies like Qualcomm, Qualtrics, and LinkedIn also announced significant layoffs. Experts suggest that while the economy is improving, the recovery process is slow, leading many companies to prepare for a longer period of economic sluggishness. Moreover, a shift in investor mindset from growth to efficiency has led to cost-cutting measures, including layoffs. These trends, combined with tighter buying budgets and slower sales cycles, could continue to impact the tech sector into 2024. Ron has the full skinny on TC+ at “What’s behind the fresh round of tech layoffs?”\n",
    "\n",
    "Product Hunt slashes staff: Product Hunt, a discovery site for startups, apps, and tech tools, has laid off approximately 60% of its team, including roles in design, product, and sales. The cuts were made for “strategic reasons,” Sarah reports.\n",
    "\n",
    "The stack overfloweth: Stack Overflow, a developer community site owned by Prosus, has announced a 28% reduction in its workforce as part of its drive toward profitability. The company did not disclose the exact number of affected employees. It seems like AI may be the culprit, Ivan writes.\n",
    "\n",
    "Don’t miss our comprehensive guide: The tech industry has faced a significant blow in 2023, with job losses exceeding 240,000, a 50% increase from the previous year. Major tech giants like Google, Amazon, Microsoft, Yahoo, Meta, and Zoom, along with numerous startups, have announced significant workforce reductions. We have our full guide here.\n",
    "\n",
    "\n",
    "\n",
    "\n",
    "The Rebelle Rally 2023, a 2,120-kilometer off-road and navigation competition for women, has become a testing ground for stock manufacturer vehicles, including electric vehicles. Out of the 65 teams that competed in the Rally’s eighth annual event, 10 were electrified vehicles, including four Rivian R1T pickups, marking a significant entry of EVs into this traditionally non-tech event. A Rivian team clinched first place in the 4×4 class, marking the first time an all-electric vehicle topped the podium.\n",
    "\n",
    "Meanwhile, Tesla released its Q3 earnings report. And it wasn’t super pretty: The report showed a fall in gross margin to 17.9%, down from 25.1% last year. That caused a 44% profit drop (yikes). Tesla’s long-awaited Cybertruck is set to start initial deliveries, and Elon Musk warned that it will take 18 months for the pickup to become profitable.\n",
    "\n",
    "It was stormy days for driverless taxis, too, as Cruise’s permit to operate as a robotaxi was joinked: The California Public Utilities Commission (CPUC) has suspended Cruise’s permits to operate and charge for its robotaxi service in San Francisco, following a similar move by the DMV. The DMV’s suspension came after Cruise allegedly withheld footage from an investigation into an incident wherein a pedestrian was hit and dragged by one of its autonomous vehicles. Cruise denied the claims. The suspension comes just three months after it granted the company the necessary permits to charge for rides. This led to more pushback against robotaxis in LA.\n",
    "\n",
    "More from transportation startups:\n",
    "\n",
    "All aboard the Tesla standard: Toyota and Lexus have announced plans to adopt Tesla’s chargers (NACS) for their electric vehicles starting in 2025. The only major automakers yet to adopt NACS are VW and Stellantis, but with the momentum toward Tesla’s standard, their conversion may be imminent, Harri reports.\n",
    "\n",
    "Going places: Pebble has revealed a prototype of its flagship product, the Pebble Flow, an all-electric travel trailer designed for digital nomads. The 25-foot trailer, which can sleep up to four people, can be preordered for a refundable $500, with a starting cost of $109,000. An upgraded version, including a dual motor drivetrain, is available for $125,000, Kirsten reports.\n",
    "\n",
    "Moar Tesla legal troubles: Tesla is under scrutiny from the U.S. Department of Justice again, related to the company’s advertised EV range, personnel decisions, and perks. This comes after an investigation suggested Tesla had been inflating its EV range estimates, Kirsten reports.\n",
    "\n",
    "\n",
    "\n",
    "I Own My Data (IOMD), a startup founded by former PayPal executive Rohan Mahadevan, is aiming to revolutionize online shopping by eliminating the need for consumers to create new accounts with every purchase, Mary Ann reports. IOMD’s Node platform allows consumers to manage and store all their online interactions, purchases, and profiles on their own devices. Node has emerged from stealth with a $2.75 million seed funding. The startup points out it is not a payments company but an information company, storing users’ private information on their devices for instant transactions.\n",
    "\n",
    "Navan (formerly known as TripActions), a fintech startup specializing in expense management, has partnered with Citi to provide a jointly branded travel and expense system for Citi Commercial cardholders, Mary Ann reports. The partnership is a huge deal, especially given Citi’s status as the third largest bank in the U.S, with over 25,000 global commercial card programs and 7 million cardholders, all of whom may soon be able to wave goodbye to expense reports. In other news, Darrell did his expenses in VR this week and actually enjoyed it. He is, truly, a strange human.\n",
    "\n",
    "FFS, that’s not even a rounding error: Black founders in the U.S. raised a mere 0.13% of all capital allocated to startups in Q3, a significant drop from the $1 billion they raised in Q3 2022. The trend has been consistent since 2020 despite efforts, Dominic-Madori reports.\n",
    "\n",
    "Back once again: Oh goodie, Tucker Carlson, the controversial former Fox News host, plans to launch a media startup called Last Country, following a $15 million investment, Rebecca reports.\n",
    "\n",
    "That’s a big sack o’ cash, y’all: Global investment firm KKR has announced the final close of its third tech growth fund with approximately $3 billion in capital commitments. The group targets companies with strong long-term growth prospects, typically writing checks ranging from $50 million to $250 million, Connie reports.\n",
    "\"\"\""
   ]
  },
  {
   "cell_type": "code",
   "execution_count": 27,
   "metadata": {},
   "outputs": [
    {
     "name": "stdout",
     "output_type": "stream",
     "text": [
      "Keywords are-: ['tech', 'reports', 'tesla', 'announced', 'vehicles']\n",
      "Entities are-: ['0.13%', 'nokia', 'tucker carlson', 'the pebble flow', 'linkedin', 'zoom', 'yahoo', 'tesla', 'ai', '2023', 'harri', 'the u.s. department of justice', 'iomd', '18 months', 'alex', 'october', 'google', '65', 'first', 'q3 2022', 'elon musk', 'dmv', '2,120-kilometer', '10', 'u.s', '69%', 'node', 'sarah', 'paypal', 'apps', 'microsoft', 'toyota', '50%', 'fox news', 'third', 'tripactions', '17.9%', '25-foot', '$1 billion', 'ron', 'eighth', 'the previous year', 'prosus', 'vw', 'q3', 'the california public utilities commission', '240,000', 'annual', 'cpuc', 'citi commercial', '$15 million', 'this week', 'over 25,000', '14,000', 'last year', '25.1%', '500', '4×4', 'navan', 'kirsten', 'dominic-madori', 'citi', 'one', 'la', 'stellantis', 'cruise', 'vr', 'moar tesla', 'ivan', '2020', 'u.s.', '44%', 'ev', 'amazon', 'just three months', '$2.75 million', 'hunt', 'the past week', 'san francisco', 'rebecca', 'kkr', 'mary ann', 'a quarter', 'the rebelle rally 2023', 'cybertruck', '28%', 'rohan mahadevan', 'qualcomm, qualtrics', '125,000', 'darrell', 'approximately 60%', '2025', 'ffs', '2024', 'nacs', 'lexus', 'approximately $3 billion', 'connie', '7 million', '$50 million to $250 million', 'last month', 'four', 'rivian', '109,000']\n"
     ]
    },
    {
     "data": {
      "text/plain": [
       "'For my column this week, I told the story of how an ex-colleague was impersonated by an AI-powered spambot and almost tricked me. It a nutshell: AI is often used for good, but it is increasingly used for nefarious purposes as well. Of course, AI-powered spam is going to get really interesting, really fast: Some of the generative AIs are good enough to pass as humans. Let me take you on a tour of the highlights and lowlights of startup world over the past week. It seems like AI may be the culprit, Ivan writes. In other news, Darrell did his expenses in VR this week and actually enjoyed it.'"
      ]
     },
     "execution_count": 27,
     "metadata": {},
     "output_type": "execute_result"
    }
   ],
   "source": [
    "dynamic_detailed_summarize_premium_free(article5,0.5,'article')"
   ]
  },
  {
   "cell_type": "code",
   "execution_count": 28,
   "metadata": {},
   "outputs": [
    {
     "name": "stdout",
     "output_type": "stream",
     "text": [
      "Keywords are-: ['tech', 'reports', 'tesla', 'announced', '000']\n",
      "Entities are-: ['0.13%', 'nokia', 'tucker carlson', 'the pebble flow', 'linkedin', 'zoom', 'yahoo', 'tesla', '2023', 'harri', 'the u.s. department of justice', 'iomd', '18 months', 'alex', 'october', 'google', '65', 'first', 'elon musk', 'dmv', '2,120-kilometer', '10', 'u.s', '69%', 'node', 'sarah', 'microsoft', 'meta', 'toyota', '50%', 'fox news', 'third', 'tripactions', '17.9%', '25-foot', '$1 billion', 'ron', 'eighth', 'the previous year', 'prosus', 'vw', 'q3', 'the california public utilities commission', '240,000', 'the rebelle rally', 'annual', 'cpuc', 'citi commercial', '$15 million', 'this week', 'qualcomm', 'over 25,000', '14,000', 'last year', '25.1%', '500', '4×4', 'navan', 'kirsten', 'dominic-madori', 'citi', 'one', 'qualtrics', 'la', 'stellantis', 'cruise', 'vr', 'moar tesla', 'ivan', '2020', 'u.s.', '44%', 'ev', 'amazon', 'just three months', '$2.75 million', 'san francisco', 'the past week', 'rebecca', 'kkr', 'r1t', 'rally', 'mary ann', 'a quarter', 'cybertruck', '28%', 'rohan mahadevan', '2022', '125,000', 'darrell', 'approximately 60%', '2025', 'ffs', '2024', 'nacs', 'pebble', 'lexus', 'approximately $3 billion', 'connie', '7 million', 'last country', 'stack overflow', '$50 million to $250 million', 'last month', 'four', 'rivian', '109,000']\n"
     ]
    },
    {
     "data": {
      "text/plain": [
       "'In October, Nokia announced it was laying off 14,000 employees following a quarter that saw profits drop by 69%, and other major tech companies like Qualcomm, Qualtrics, and LinkedIn also announced significant layoffs. Ron has the full skinny on TC+ at “What’s behind the fresh round of tech layoffs?”\\n\\nProduct Hunt slashes staff: Product Hunt, a discovery site for startups, apps, and tech tools, has laid off approximately 60% of its team, including roles in design, product, and sales. The partnership is a huge deal, especially given Citi’s status as the third largest bank in the U.S, with over 25,000 global commercial card programs and 7 million cardholders, all of whom may soon be able to wave goodbye to expense reports.'"
      ]
     },
     "execution_count": 28,
     "metadata": {},
     "output_type": "execute_result"
    }
   ],
   "source": [
    "dynamic_detailed_summarize_premium_pro(article5,0.3,'article')"
   ]
  },
  {
   "cell_type": "code",
   "execution_count": 30,
   "metadata": {},
   "outputs": [],
   "source": [
    "article6=\"\"\"ChatGPT, OpenAI’s text-generating AI chatbot, has taken the world by storm. What started as a tool to hyper-charge productivity through writing essays and code with short text prompts has evolved into a behemoth used by more than 92% of Fortune 500 companies for more wide-ranging needs. And that growth has propelled OpenAI itself into becoming one of the most-hyped companies in recent memory, even if CEO and co-founder Sam Altman’s firing and swift return raised concerns about its direction and opened the door for competitors.\n",
    "\n",
    "What does that mean for OpenAI, ChatGPT and its other ambitions? The fallout is still settling, but it might empower competitors like Meta and its LLaMA family of large language models, or help other AI startups get attention and funding as the industry watches OpenAI implode and put itself back together.\n",
    "\n",
    "While there is a more…nefarious side to ChatGPT, it’s clear that AI tools are not going away anytime soon. Since its initial launch nearly a year ago, ChatGPT has hit 100 million weekly active users, and OpenAI is heavily investing in it.\n",
    "\n",
    "Prior to the leadership chaos, on November 6, OpenAI held its first developer conference: OpenAI DevDay. During the conference, it announced a slew of updates coming to GPT, including GPT-4 Turbo (a super-charged version of GPT-4, its latest language-writing model) and a multimodal API. OpenAI also unveiled the GPT store, where users could create and monetize their own custom versions of GPT, but its launch was delayed in December and is now set to launch sometime in January.\n",
    "\n",
    "GPT-4, which can write more naturally and fluently than previous models, remains largely exclusive to paying ChatGPT users. But you can access GPT-4 for free through Microsoft’s Bing Chat in Microsoft Edge, Google Chrome and Safari web browsers. Beyond GPT-4 and OpenAI DevDay announcements, OpenAI recently connected ChatGPT to the internet for all users. And with the integration of DALL-E 3, users are also able to generate both text prompts and images right in ChatGPT.\"\"\""
   ]
  },
  {
   "cell_type": "code",
   "execution_count": 32,
   "metadata": {},
   "outputs": [
    {
     "name": "stdout",
     "output_type": "stream",
     "text": [
      "Keywords are-: ['openai', 'gpt', 'chatgpt', 'users', 'launch']\n",
      "Entities are-: ['safari', 'january', 'openai', 'weekly', 'december', 'google chrome', 'chatgpt', 'more than 92%', 'bing chat', '100 million', 'first', 'microsoft edge', 'llama', 'sam altman', 'nearly a year ago', 'gpt', 'november 6, openai', 'microsoft', 'meta']\n"
     ]
    },
    {
     "data": {
      "text/plain": [
       "'What started as a tool to hyper-charge productivity through writing essays and code with short text prompts has evolved into a behemoth used by more than 92% of Fortune 500 companies for more wide-ranging needs. During the conference, it announced a slew of updates coming to GPT, including GPT-4 Turbo (a super-charged version of GPT-4, its latest language-writing model) and a multimodal API.'"
      ]
     },
     "execution_count": 32,
     "metadata": {},
     "output_type": "execute_result"
    }
   ],
   "source": [
    "dynamic_detailed_summarize_premium_pro(article6,0.1,'article')"
   ]
  },
  {
   "cell_type": "code",
   "execution_count": null,
   "metadata": {},
   "outputs": [],
   "source": []
  }
 ],
 "metadata": {
  "kernelspec": {
   "display_name": ".AI_service",
   "language": "python",
   "name": "python3"
  },
  "language_info": {
   "codemirror_mode": {
    "name": "ipython",
    "version": 3
   },
   "file_extension": ".py",
   "mimetype": "text/x-python",
   "name": "python",
   "nbconvert_exporter": "python",
   "pygments_lexer": "ipython3",
   "version": "3.11.1"
  }
 },
 "nbformat": 4,
 "nbformat_minor": 2
}
